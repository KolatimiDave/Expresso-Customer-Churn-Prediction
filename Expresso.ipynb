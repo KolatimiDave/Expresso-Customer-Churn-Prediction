{
 "cells": [
  {
   "cell_type": "code",
   "execution_count": 1,
   "metadata": {},
   "outputs": [],
   "source": [
    "import warnings\n",
    "warnings.filterwarnings('ignore')\n",
    "from IPython.core.interactiveshell import InteractiveShell\n",
    "InteractiveShell.ast_node_interactivity = \"all\""
   ]
  },
  {
   "cell_type": "markdown",
   "metadata": {},
   "source": [
    "##### Importing Relevant Packages"
   ]
  },
  {
   "cell_type": "code",
   "execution_count": 2,
   "metadata": {},
   "outputs": [],
   "source": [
    "import pandas as pd\n",
    "import numpy as np\n",
    "from sklearn.cluster import KMeans\n",
    "from catboost import CatBoostClassifier\n",
    "from xgboost import XGBClassifier\n",
    "from lightgbm import LGBMClassifier\n",
    "from sklearn.metrics import log_loss\n",
    "from sklearn.model_selection import train_test_split, KFold\n",
    "import re"
   ]
  },
  {
   "cell_type": "code",
   "execution_count": 3,
   "metadata": {},
   "outputs": [],
   "source": [
    "from matplotlib import pyplot as plt"
   ]
  },
  {
   "cell_type": "code",
   "execution_count": 4,
   "metadata": {},
   "outputs": [],
   "source": [
    "# load datasets\n",
    "train = pd.read_csv(\"Train.csv\")\n",
    "test  = pd.read_csv(\"Test.csv\")\n",
    "sample  = pd.read_csv(\"sample_submission.csv\")\n",
    "var = pd.read_csv('VariableDefinitions.csv')"
   ]
  },
  {
   "cell_type": "code",
   "execution_count": 5,
   "metadata": {
    "scrolled": true
   },
   "outputs": [
    {
     "data": {
      "text/html": [
       "<div>\n",
       "<style scoped>\n",
       "    .dataframe tbody tr th:only-of-type {\n",
       "        vertical-align: middle;\n",
       "    }\n",
       "\n",
       "    .dataframe tbody tr th {\n",
       "        vertical-align: top;\n",
       "    }\n",
       "\n",
       "    .dataframe thead th {\n",
       "        text-align: right;\n",
       "    }\n",
       "</style>\n",
       "<table border=\"1\" class=\"dataframe\">\n",
       "  <thead>\n",
       "    <tr style=\"text-align: right;\">\n",
       "      <th></th>\n",
       "      <th>user_id</th>\n",
       "      <th>REGION</th>\n",
       "      <th>TENURE</th>\n",
       "      <th>MONTANT</th>\n",
       "      <th>FREQUENCE_RECH</th>\n",
       "      <th>REVENUE</th>\n",
       "      <th>ARPU_SEGMENT</th>\n",
       "      <th>FREQUENCE</th>\n",
       "      <th>DATA_VOLUME</th>\n",
       "      <th>ON_NET</th>\n",
       "      <th>ORANGE</th>\n",
       "      <th>TIGO</th>\n",
       "      <th>ZONE1</th>\n",
       "      <th>ZONE2</th>\n",
       "      <th>MRG</th>\n",
       "      <th>REGULARITY</th>\n",
       "      <th>TOP_PACK</th>\n",
       "      <th>FREQ_TOP_PACK</th>\n",
       "      <th>CHURN</th>\n",
       "    </tr>\n",
       "  </thead>\n",
       "  <tbody>\n",
       "    <tr>\n",
       "      <th>0</th>\n",
       "      <td>dcf68cc2fb515ccad7d8b9b3bd80ee2a4b270063</td>\n",
       "      <td>SAINT-LOUIS</td>\n",
       "      <td>K &gt; 24 month</td>\n",
       "      <td>17000.0</td>\n",
       "      <td>32.0</td>\n",
       "      <td>18000.0</td>\n",
       "      <td>6000.0</td>\n",
       "      <td>34.0</td>\n",
       "      <td>NaN</td>\n",
       "      <td>97.0</td>\n",
       "      <td>355.0</td>\n",
       "      <td>6.0</td>\n",
       "      <td>NaN</td>\n",
       "      <td>NaN</td>\n",
       "      <td>NO</td>\n",
       "      <td>62</td>\n",
       "      <td>All-net 500F=2000F;5d</td>\n",
       "      <td>35.0</td>\n",
       "      <td>0</td>\n",
       "    </tr>\n",
       "    <tr>\n",
       "      <th>1</th>\n",
       "      <td>71c44b5ba328db5c4192a80f7cf8f244d9350ed0</td>\n",
       "      <td>NaN</td>\n",
       "      <td>K &gt; 24 month</td>\n",
       "      <td>4300.0</td>\n",
       "      <td>29.0</td>\n",
       "      <td>4427.0</td>\n",
       "      <td>1476.0</td>\n",
       "      <td>37.0</td>\n",
       "      <td>1764.0</td>\n",
       "      <td>8.0</td>\n",
       "      <td>3.0</td>\n",
       "      <td>0.0</td>\n",
       "      <td>NaN</td>\n",
       "      <td>2.0</td>\n",
       "      <td>NO</td>\n",
       "      <td>40</td>\n",
       "      <td>Data: 100 F=40MB,24H</td>\n",
       "      <td>22.0</td>\n",
       "      <td>0</td>\n",
       "    </tr>\n",
       "  </tbody>\n",
       "</table>\n",
       "</div>"
      ],
      "text/plain": [
       "                                    user_id       REGION        TENURE  \\\n",
       "0  dcf68cc2fb515ccad7d8b9b3bd80ee2a4b270063  SAINT-LOUIS  K > 24 month   \n",
       "1  71c44b5ba328db5c4192a80f7cf8f244d9350ed0          NaN  K > 24 month   \n",
       "\n",
       "   MONTANT  FREQUENCE_RECH  REVENUE  ARPU_SEGMENT  FREQUENCE  DATA_VOLUME  \\\n",
       "0  17000.0            32.0  18000.0        6000.0       34.0          NaN   \n",
       "1   4300.0            29.0   4427.0        1476.0       37.0       1764.0   \n",
       "\n",
       "   ON_NET  ORANGE  TIGO  ZONE1  ZONE2 MRG  REGULARITY               TOP_PACK  \\\n",
       "0    97.0   355.0   6.0    NaN    NaN  NO          62  All-net 500F=2000F;5d   \n",
       "1     8.0     3.0   0.0    NaN    2.0  NO          40   Data: 100 F=40MB,24H   \n",
       "\n",
       "   FREQ_TOP_PACK  CHURN  \n",
       "0           35.0      0  \n",
       "1           22.0      0  "
      ]
     },
     "execution_count": 5,
     "metadata": {},
     "output_type": "execute_result"
    },
    {
     "data": {
      "text/plain": [
       "(400000, 19)"
      ]
     },
     "execution_count": 5,
     "metadata": {},
     "output_type": "execute_result"
    }
   ],
   "source": [
    "train.head(2)\n",
    "train.shape"
   ]
  },
  {
   "cell_type": "code",
   "execution_count": 6,
   "metadata": {},
   "outputs": [
    {
     "data": {
      "text/plain": [
       "(100000, 18)"
      ]
     },
     "execution_count": 6,
     "metadata": {},
     "output_type": "execute_result"
    }
   ],
   "source": [
    "test.shape"
   ]
  },
  {
   "cell_type": "code",
   "execution_count": 7,
   "metadata": {},
   "outputs": [
    {
     "data": {
      "text/plain": [
       "62"
      ]
     },
     "execution_count": 7,
     "metadata": {},
     "output_type": "execute_result"
    }
   ],
   "source": [
    "train.REGULARITY.nunique()"
   ]
  },
  {
   "cell_type": "code",
   "execution_count": 8,
   "metadata": {
    "scrolled": true
   },
   "outputs": [
    {
     "data": {
      "text/plain": [
       "user_id           0.000000\n",
       "REGION            0.393800\n",
       "TENURE            0.000000\n",
       "MONTANT           0.350693\n",
       "FREQUENCE_RECH    0.350693\n",
       "REVENUE           0.336657\n",
       "ARPU_SEGMENT      0.336657\n",
       "FREQUENCE         0.336657\n",
       "DATA_VOLUME       0.492135\n",
       "ON_NET            0.364548\n",
       "ORANGE            0.415793\n",
       "TIGO              0.598465\n",
       "ZONE1             0.920775\n",
       "ZONE2             0.936218\n",
       "MRG               0.000000\n",
       "REGULARITY        0.000000\n",
       "TOP_PACK          0.418322\n",
       "FREQ_TOP_PACK     0.418322\n",
       "CHURN             0.000000\n",
       "dtype: float64"
      ]
     },
     "execution_count": 8,
     "metadata": {},
     "output_type": "execute_result"
    }
   ],
   "source": [
    "train.isna().sum() / train.shape[0]"
   ]
  },
  {
   "cell_type": "markdown",
   "metadata": {},
   "source": [
    "##### Feature Engineering"
   ]
  },
  {
   "cell_type": "code",
   "execution_count": 9,
   "metadata": {},
   "outputs": [],
   "source": [
    "useless = ['user_id', 'MRG']"
   ]
  },
  {
   "cell_type": "code",
   "execution_count": 10,
   "metadata": {},
   "outputs": [],
   "source": [
    "train.REGION.fillna('REG',inplace=True)\n",
    "test.REGION.fillna('REG',inplace=True)"
   ]
  },
  {
   "cell_type": "code",
   "execution_count": 11,
   "metadata": {},
   "outputs": [],
   "source": [
    "train.TOP_PACK.fillna('PACK',inplace=True)\n",
    "test.TOP_PACK.fillna('PACK',inplace=True)"
   ]
  },
  {
   "cell_type": "code",
   "execution_count": 12,
   "metadata": {},
   "outputs": [],
   "source": [
    "minus_999999 = ['MONTANT','FREQUENCE_RECH','REVENUE','ARPU_SEGMENT','FREQUENCE','DATA_VOLUME','ON_NET','ORANGE','FREQ_TOP_PACK','TIGO','ZONE1','ZONE2']"
   ]
  },
  {
   "cell_type": "code",
   "execution_count": 13,
   "metadata": {},
   "outputs": [],
   "source": [
    "for col in minus_999999:\n",
    "    train[col].fillna(-99999, inplace=True)\n",
    "    test[col].fillna(-99999, inplace=True)"
   ]
  },
  {
   "cell_type": "code",
   "execution_count": 14,
   "metadata": {},
   "outputs": [],
   "source": [
    "train.drop(columns=[i for i in useless], inplace=True)\n",
    "test.drop(columns=[i for i in useless], inplace=True)"
   ]
  },
  {
   "cell_type": "code",
   "execution_count": 15,
   "metadata": {},
   "outputs": [],
   "source": [
    "data = pd.concat([train,test],axis=0)\n",
    "data = data.reset_index(drop=True)"
   ]
  },
  {
   "cell_type": "code",
   "execution_count": 16,
   "metadata": {
    "scrolled": true
   },
   "outputs": [],
   "source": [
    "def tenure(x):\n",
    "    'function to encode the Tenure based on the lowest amount of month spent'\n",
    "    if x == 'K > 24 month':\n",
    "        return 24\n",
    "    elif x == 'H 15-18 month':\n",
    "        return 15\n",
    "    elif x == 'G 12-15 month':\n",
    "        return 12\n",
    "    elif x == 'J 21-24 month':\n",
    "        return 21\n",
    "    elif x == 'I 18-21 month':\n",
    "        return 18\n",
    "    elif x == 'E 6-9 month':\n",
    "        return 6\n",
    "    elif x == 'F 9-12 month':\n",
    "        return 9\n",
    "    elif x == 'D 3-6 month':\n",
    "        return 3\n",
    "    else:\n",
    "        pass"
   ]
  },
  {
   "cell_type": "code",
   "execution_count": 17,
   "metadata": {},
   "outputs": [],
   "source": [
    "data.TENURE = data.TENURE.apply(tenure)"
   ]
  },
  {
   "cell_type": "code",
   "execution_count": 18,
   "metadata": {},
   "outputs": [],
   "source": [
    "categ = ['REGION','TOP_PACK'] "
   ]
  },
  {
   "cell_type": "code",
   "execution_count": 19,
   "metadata": {},
   "outputs": [
    {
     "data": {
      "text/plain": [
       "(15, 113)"
      ]
     },
     "execution_count": 19,
     "metadata": {},
     "output_type": "execute_result"
    }
   ],
   "source": [
    "len(data.REGION.unique()), len(data.TOP_PACK.unique())"
   ]
  },
  {
   "cell_type": "code",
   "execution_count": 20,
   "metadata": {},
   "outputs": [],
   "source": [
    "data = pd.get_dummies(data, prefix = categ, columns = categ)"
   ]
  },
  {
   "cell_type": "code",
   "execution_count": 21,
   "metadata": {
    "scrolled": false
   },
   "outputs": [
    {
     "data": {
      "text/html": [
       "<div>\n",
       "<style scoped>\n",
       "    .dataframe tbody tr th:only-of-type {\n",
       "        vertical-align: middle;\n",
       "    }\n",
       "\n",
       "    .dataframe tbody tr th {\n",
       "        vertical-align: top;\n",
       "    }\n",
       "\n",
       "    .dataframe thead th {\n",
       "        text-align: right;\n",
       "    }\n",
       "</style>\n",
       "<table border=\"1\" class=\"dataframe\">\n",
       "  <thead>\n",
       "    <tr style=\"text-align: right;\">\n",
       "      <th></th>\n",
       "      <th>TENURE</th>\n",
       "      <th>MONTANT</th>\n",
       "      <th>FREQUENCE_RECH</th>\n",
       "      <th>REVENUE</th>\n",
       "      <th>ARPU_SEGMENT</th>\n",
       "      <th>FREQUENCE</th>\n",
       "      <th>DATA_VOLUME</th>\n",
       "      <th>ON_NET</th>\n",
       "      <th>ORANGE</th>\n",
       "      <th>TIGO</th>\n",
       "      <th>...</th>\n",
       "      <th>TOP_PACK_VAS(IVR_Radio_Monthly)</th>\n",
       "      <th>TOP_PACK_VAS(IVR_Radio_Weekly)</th>\n",
       "      <th>TOP_PACK_WIFI_ Family _10MBPS</th>\n",
       "      <th>TOP_PACK_WIFI_ Family _4MBPS</th>\n",
       "      <th>TOP_PACK_WIFI_Family_2MBPS</th>\n",
       "      <th>TOP_PACK_YMGX 100=1 hour FNF, 24H/1 month</th>\n",
       "      <th>TOP_PACK_Yewouleen_PKG</th>\n",
       "      <th>TOP_PACK_pack_chinguitel_24h</th>\n",
       "      <th>TOP_PACK_pilot_offer5</th>\n",
       "      <th>TOP_PACK_pilot_offer6</th>\n",
       "    </tr>\n",
       "  </thead>\n",
       "  <tbody>\n",
       "    <tr>\n",
       "      <th>0</th>\n",
       "      <td>24</td>\n",
       "      <td>17000.0</td>\n",
       "      <td>32.0</td>\n",
       "      <td>18000.0</td>\n",
       "      <td>6000.0</td>\n",
       "      <td>34.0</td>\n",
       "      <td>-99999.0</td>\n",
       "      <td>97.0</td>\n",
       "      <td>355.0</td>\n",
       "      <td>6.0</td>\n",
       "      <td>...</td>\n",
       "      <td>0</td>\n",
       "      <td>0</td>\n",
       "      <td>0</td>\n",
       "      <td>0</td>\n",
       "      <td>0</td>\n",
       "      <td>0</td>\n",
       "      <td>0</td>\n",
       "      <td>0</td>\n",
       "      <td>0</td>\n",
       "      <td>0</td>\n",
       "    </tr>\n",
       "    <tr>\n",
       "      <th>1</th>\n",
       "      <td>24</td>\n",
       "      <td>4300.0</td>\n",
       "      <td>29.0</td>\n",
       "      <td>4427.0</td>\n",
       "      <td>1476.0</td>\n",
       "      <td>37.0</td>\n",
       "      <td>1764.0</td>\n",
       "      <td>8.0</td>\n",
       "      <td>3.0</td>\n",
       "      <td>0.0</td>\n",
       "      <td>...</td>\n",
       "      <td>0</td>\n",
       "      <td>0</td>\n",
       "      <td>0</td>\n",
       "      <td>0</td>\n",
       "      <td>0</td>\n",
       "      <td>0</td>\n",
       "      <td>0</td>\n",
       "      <td>0</td>\n",
       "      <td>0</td>\n",
       "      <td>0</td>\n",
       "    </tr>\n",
       "    <tr>\n",
       "      <th>2</th>\n",
       "      <td>24</td>\n",
       "      <td>1500.0</td>\n",
       "      <td>3.0</td>\n",
       "      <td>1500.0</td>\n",
       "      <td>500.0</td>\n",
       "      <td>3.0</td>\n",
       "      <td>-99999.0</td>\n",
       "      <td>30.0</td>\n",
       "      <td>30.0</td>\n",
       "      <td>-99999.0</td>\n",
       "      <td>...</td>\n",
       "      <td>0</td>\n",
       "      <td>0</td>\n",
       "      <td>0</td>\n",
       "      <td>0</td>\n",
       "      <td>0</td>\n",
       "      <td>0</td>\n",
       "      <td>0</td>\n",
       "      <td>0</td>\n",
       "      <td>0</td>\n",
       "      <td>0</td>\n",
       "    </tr>\n",
       "  </tbody>\n",
       "</table>\n",
       "<p>3 rows × 143 columns</p>\n",
       "</div>"
      ],
      "text/plain": [
       "   TENURE  MONTANT  FREQUENCE_RECH  REVENUE  ARPU_SEGMENT  FREQUENCE  \\\n",
       "0      24  17000.0            32.0  18000.0        6000.0       34.0   \n",
       "1      24   4300.0            29.0   4427.0        1476.0       37.0   \n",
       "2      24   1500.0             3.0   1500.0         500.0        3.0   \n",
       "\n",
       "   DATA_VOLUME  ON_NET  ORANGE     TIGO  ...  TOP_PACK_VAS(IVR_Radio_Monthly)  \\\n",
       "0     -99999.0    97.0   355.0      6.0  ...                                0   \n",
       "1       1764.0     8.0     3.0      0.0  ...                                0   \n",
       "2     -99999.0    30.0    30.0 -99999.0  ...                                0   \n",
       "\n",
       "   TOP_PACK_VAS(IVR_Radio_Weekly)  TOP_PACK_WIFI_ Family _10MBPS  \\\n",
       "0                               0                              0   \n",
       "1                               0                              0   \n",
       "2                               0                              0   \n",
       "\n",
       "   TOP_PACK_WIFI_ Family _4MBPS  TOP_PACK_WIFI_Family_2MBPS  \\\n",
       "0                             0                           0   \n",
       "1                             0                           0   \n",
       "2                             0                           0   \n",
       "\n",
       "   TOP_PACK_YMGX 100=1 hour FNF, 24H/1 month  TOP_PACK_Yewouleen_PKG  \\\n",
       "0                                          0                       0   \n",
       "1                                          0                       0   \n",
       "2                                          0                       0   \n",
       "\n",
       "   TOP_PACK_pack_chinguitel_24h  TOP_PACK_pilot_offer5  TOP_PACK_pilot_offer6  \n",
       "0                             0                      0                      0  \n",
       "1                             0                      0                      0  \n",
       "2                             0                      0                      0  \n",
       "\n",
       "[3 rows x 143 columns]"
      ]
     },
     "execution_count": 21,
     "metadata": {},
     "output_type": "execute_result"
    }
   ],
   "source": [
    "data.head(3)"
   ]
  },
  {
   "cell_type": "markdown",
   "metadata": {},
   "source": [
    "##### Feature Creation"
   ]
  },
  {
   "cell_type": "code",
   "execution_count": 22,
   "metadata": {},
   "outputs": [],
   "source": [
    "data['income_per_topup_amount'] = data['REVENUE'] / data['MONTANT']\n",
    "data['active_per_duration'] =  data['TENURE'] / data['REGULARITY']\n",
    "data['income_to_amount_ratio'] = data['REVENUE'] / data['MONTANT']\n",
    "data['income_left_after_top_up'] = data['REVENUE'] - data['MONTANT']\n",
    "data['tenure_to_topup_frequency'] = data['TENURE'] / data['FREQUENCE_RECH']\n",
    "data['income_in90days_perRevenue'] = data['ARPU_SEGMENT'] / data['REVENUE'] "
   ]
  },
  {
   "cell_type": "code",
   "execution_count": 23,
   "metadata": {
    "scrolled": true
   },
   "outputs": [],
   "source": [
    "train=data[data.CHURN.notnull()].reset_index(drop=True)\n",
    "test=data[data.CHURN.isna()].reset_index(drop=True)"
   ]
  },
  {
   "cell_type": "code",
   "execution_count": 24,
   "metadata": {},
   "outputs": [],
   "source": [
    "y = train.CHURN\n",
    "train.drop('CHURN', axis=1, inplace=True)\n",
    "test.drop('CHURN', axis=1, inplace=True)"
   ]
  },
  {
   "cell_type": "code",
   "execution_count": 25,
   "metadata": {
    "scrolled": true
   },
   "outputs": [
    {
     "data": {
      "text/html": [
       "<div>\n",
       "<style scoped>\n",
       "    .dataframe tbody tr th:only-of-type {\n",
       "        vertical-align: middle;\n",
       "    }\n",
       "\n",
       "    .dataframe tbody tr th {\n",
       "        vertical-align: top;\n",
       "    }\n",
       "\n",
       "    .dataframe thead th {\n",
       "        text-align: right;\n",
       "    }\n",
       "</style>\n",
       "<table border=\"1\" class=\"dataframe\">\n",
       "  <thead>\n",
       "    <tr style=\"text-align: right;\">\n",
       "      <th></th>\n",
       "      <th>TENURE</th>\n",
       "      <th>MONTANT</th>\n",
       "      <th>FREQUENCE_RECH</th>\n",
       "      <th>REVENUE</th>\n",
       "      <th>ARPU_SEGMENT</th>\n",
       "      <th>FREQUENCE</th>\n",
       "      <th>DATA_VOLUME</th>\n",
       "      <th>ON_NET</th>\n",
       "      <th>ORANGE</th>\n",
       "      <th>TIGO</th>\n",
       "      <th>...</th>\n",
       "      <th>TOP_PACK_Yewouleen_PKG</th>\n",
       "      <th>TOP_PACK_pack_chinguitel_24h</th>\n",
       "      <th>TOP_PACK_pilot_offer5</th>\n",
       "      <th>TOP_PACK_pilot_offer6</th>\n",
       "      <th>income_per_topup_amount</th>\n",
       "      <th>active_per_duration</th>\n",
       "      <th>income_to_amount_ratio</th>\n",
       "      <th>income_left_after_top_up</th>\n",
       "      <th>tenure_to_topup_frequency</th>\n",
       "      <th>income_in90days_perRevenue</th>\n",
       "    </tr>\n",
       "  </thead>\n",
       "  <tbody>\n",
       "    <tr>\n",
       "      <th>0</th>\n",
       "      <td>24</td>\n",
       "      <td>-99999.0</td>\n",
       "      <td>-99999.0</td>\n",
       "      <td>-99999.0</td>\n",
       "      <td>-99999.0</td>\n",
       "      <td>-99999.0</td>\n",
       "      <td>-99999.0</td>\n",
       "      <td>-99999.0</td>\n",
       "      <td>-99999.0</td>\n",
       "      <td>-99999.0</td>\n",
       "      <td>...</td>\n",
       "      <td>0</td>\n",
       "      <td>0</td>\n",
       "      <td>0</td>\n",
       "      <td>0</td>\n",
       "      <td>1.0000</td>\n",
       "      <td>24.0</td>\n",
       "      <td>1.0000</td>\n",
       "      <td>0.0</td>\n",
       "      <td>-0.00024</td>\n",
       "      <td>1.0</td>\n",
       "    </tr>\n",
       "    <tr>\n",
       "      <th>1</th>\n",
       "      <td>24</td>\n",
       "      <td>-99999.0</td>\n",
       "      <td>-99999.0</td>\n",
       "      <td>10.0</td>\n",
       "      <td>3.0</td>\n",
       "      <td>1.0</td>\n",
       "      <td>-99999.0</td>\n",
       "      <td>-99999.0</td>\n",
       "      <td>-99999.0</td>\n",
       "      <td>-99999.0</td>\n",
       "      <td>...</td>\n",
       "      <td>0</td>\n",
       "      <td>0</td>\n",
       "      <td>0</td>\n",
       "      <td>0</td>\n",
       "      <td>-0.0001</td>\n",
       "      <td>12.0</td>\n",
       "      <td>-0.0001</td>\n",
       "      <td>100009.0</td>\n",
       "      <td>-0.00024</td>\n",
       "      <td>0.3</td>\n",
       "    </tr>\n",
       "  </tbody>\n",
       "</table>\n",
       "<p>2 rows × 148 columns</p>\n",
       "</div>"
      ],
      "text/plain": [
       "   TENURE  MONTANT  FREQUENCE_RECH  REVENUE  ARPU_SEGMENT  FREQUENCE  \\\n",
       "0      24 -99999.0        -99999.0 -99999.0      -99999.0   -99999.0   \n",
       "1      24 -99999.0        -99999.0     10.0           3.0        1.0   \n",
       "\n",
       "   DATA_VOLUME   ON_NET   ORANGE     TIGO  ...  TOP_PACK_Yewouleen_PKG  \\\n",
       "0     -99999.0 -99999.0 -99999.0 -99999.0  ...                       0   \n",
       "1     -99999.0 -99999.0 -99999.0 -99999.0  ...                       0   \n",
       "\n",
       "   TOP_PACK_pack_chinguitel_24h  TOP_PACK_pilot_offer5  TOP_PACK_pilot_offer6  \\\n",
       "0                             0                      0                      0   \n",
       "1                             0                      0                      0   \n",
       "\n",
       "   income_per_topup_amount  active_per_duration  income_to_amount_ratio  \\\n",
       "0                   1.0000                 24.0                  1.0000   \n",
       "1                  -0.0001                 12.0                 -0.0001   \n",
       "\n",
       "   income_left_after_top_up  tenure_to_topup_frequency  \\\n",
       "0                       0.0                   -0.00024   \n",
       "1                  100009.0                   -0.00024   \n",
       "\n",
       "   income_in90days_perRevenue  \n",
       "0                         1.0  \n",
       "1                         0.3  \n",
       "\n",
       "[2 rows x 148 columns]"
      ]
     },
     "execution_count": 25,
     "metadata": {},
     "output_type": "execute_result"
    },
    {
     "data": {
      "text/plain": [
       "(400000, 148)"
      ]
     },
     "execution_count": 25,
     "metadata": {},
     "output_type": "execute_result"
    }
   ],
   "source": [
    "test.head(2)\n",
    "train.shape"
   ]
  },
  {
   "cell_type": "code",
   "execution_count": 26,
   "metadata": {},
   "outputs": [
    {
     "data": {
      "text/plain": [
       "0"
      ]
     },
     "execution_count": 26,
     "metadata": {},
     "output_type": "execute_result"
    }
   ],
   "source": [
    "c = [i for i in train.columns if train[i].dtype == object]\n",
    "len(c)"
   ]
  },
  {
   "cell_type": "code",
   "execution_count": 27,
   "metadata": {
    "scrolled": false
   },
   "outputs": [
    {
     "data": {
      "text/plain": [
       "((400000, 148), (400000,), (100000, 148))"
      ]
     },
     "execution_count": 27,
     "metadata": {},
     "output_type": "execute_result"
    }
   ],
   "source": [
    "train.shape, y.shape, test.shape"
   ]
  },
  {
   "cell_type": "markdown",
   "metadata": {},
   "source": [
    "##### NOTE\n",
    "I already did feature selection and correlation to determine what features mattered in predicting customer churn for this dataset. So the clust variable below is not something I randomly chose"
   ]
  },
  {
   "cell_type": "code",
   "execution_count": 28,
   "metadata": {},
   "outputs": [
    {
     "data": {
      "text/html": [
       "<div>\n",
       "<style scoped>\n",
       "    .dataframe tbody tr th:only-of-type {\n",
       "        vertical-align: middle;\n",
       "    }\n",
       "\n",
       "    .dataframe tbody tr th {\n",
       "        vertical-align: top;\n",
       "    }\n",
       "\n",
       "    .dataframe thead th {\n",
       "        text-align: right;\n",
       "    }\n",
       "</style>\n",
       "<table border=\"1\" class=\"dataframe\">\n",
       "  <thead>\n",
       "    <tr style=\"text-align: right;\">\n",
       "      <th></th>\n",
       "      <th>TENURE</th>\n",
       "      <th>MONTANT</th>\n",
       "      <th>FREQUENCE_RECH</th>\n",
       "      <th>REVENUE</th>\n",
       "      <th>ARPU_SEGMENT</th>\n",
       "      <th>FREQUENCE</th>\n",
       "      <th>DATA_VOLUME</th>\n",
       "      <th>ON_NET</th>\n",
       "      <th>ORANGE</th>\n",
       "      <th>TIGO</th>\n",
       "      <th>...</th>\n",
       "      <th>TOP_PACK_Yewouleen_PKG</th>\n",
       "      <th>TOP_PACK_pack_chinguitel_24h</th>\n",
       "      <th>TOP_PACK_pilot_offer5</th>\n",
       "      <th>TOP_PACK_pilot_offer6</th>\n",
       "      <th>income_per_topup_amount</th>\n",
       "      <th>active_per_duration</th>\n",
       "      <th>income_to_amount_ratio</th>\n",
       "      <th>income_left_after_top_up</th>\n",
       "      <th>tenure_to_topup_frequency</th>\n",
       "      <th>income_in90days_perRevenue</th>\n",
       "    </tr>\n",
       "  </thead>\n",
       "  <tbody>\n",
       "    <tr>\n",
       "      <th>0</th>\n",
       "      <td>24</td>\n",
       "      <td>17000.0</td>\n",
       "      <td>32.0</td>\n",
       "      <td>18000.0</td>\n",
       "      <td>6000.0</td>\n",
       "      <td>34.0</td>\n",
       "      <td>-99999.0</td>\n",
       "      <td>97.0</td>\n",
       "      <td>355.0</td>\n",
       "      <td>6.0</td>\n",
       "      <td>...</td>\n",
       "      <td>0</td>\n",
       "      <td>0</td>\n",
       "      <td>0</td>\n",
       "      <td>0</td>\n",
       "      <td>1.058824</td>\n",
       "      <td>0.387097</td>\n",
       "      <td>1.058824</td>\n",
       "      <td>1000.0</td>\n",
       "      <td>0.750000</td>\n",
       "      <td>0.333333</td>\n",
       "    </tr>\n",
       "    <tr>\n",
       "      <th>1</th>\n",
       "      <td>24</td>\n",
       "      <td>4300.0</td>\n",
       "      <td>29.0</td>\n",
       "      <td>4427.0</td>\n",
       "      <td>1476.0</td>\n",
       "      <td>37.0</td>\n",
       "      <td>1764.0</td>\n",
       "      <td>8.0</td>\n",
       "      <td>3.0</td>\n",
       "      <td>0.0</td>\n",
       "      <td>...</td>\n",
       "      <td>0</td>\n",
       "      <td>0</td>\n",
       "      <td>0</td>\n",
       "      <td>0</td>\n",
       "      <td>1.029535</td>\n",
       "      <td>0.600000</td>\n",
       "      <td>1.029535</td>\n",
       "      <td>127.0</td>\n",
       "      <td>0.827586</td>\n",
       "      <td>0.333409</td>\n",
       "    </tr>\n",
       "    <tr>\n",
       "      <th>2</th>\n",
       "      <td>24</td>\n",
       "      <td>1500.0</td>\n",
       "      <td>3.0</td>\n",
       "      <td>1500.0</td>\n",
       "      <td>500.0</td>\n",
       "      <td>3.0</td>\n",
       "      <td>-99999.0</td>\n",
       "      <td>30.0</td>\n",
       "      <td>30.0</td>\n",
       "      <td>-99999.0</td>\n",
       "      <td>...</td>\n",
       "      <td>0</td>\n",
       "      <td>0</td>\n",
       "      <td>0</td>\n",
       "      <td>0</td>\n",
       "      <td>1.000000</td>\n",
       "      <td>0.750000</td>\n",
       "      <td>1.000000</td>\n",
       "      <td>0.0</td>\n",
       "      <td>8.000000</td>\n",
       "      <td>0.333333</td>\n",
       "    </tr>\n",
       "    <tr>\n",
       "      <th>3</th>\n",
       "      <td>24</td>\n",
       "      <td>1500.0</td>\n",
       "      <td>3.0</td>\n",
       "      <td>2497.0</td>\n",
       "      <td>832.0</td>\n",
       "      <td>4.0</td>\n",
       "      <td>0.0</td>\n",
       "      <td>159.0</td>\n",
       "      <td>45.0</td>\n",
       "      <td>19.0</td>\n",
       "      <td>...</td>\n",
       "      <td>0</td>\n",
       "      <td>0</td>\n",
       "      <td>0</td>\n",
       "      <td>0</td>\n",
       "      <td>1.664667</td>\n",
       "      <td>1.333333</td>\n",
       "      <td>1.664667</td>\n",
       "      <td>997.0</td>\n",
       "      <td>8.000000</td>\n",
       "      <td>0.333200</td>\n",
       "    </tr>\n",
       "    <tr>\n",
       "      <th>4</th>\n",
       "      <td>24</td>\n",
       "      <td>-99999.0</td>\n",
       "      <td>-99999.0</td>\n",
       "      <td>498.0</td>\n",
       "      <td>166.0</td>\n",
       "      <td>3.0</td>\n",
       "      <td>1.0</td>\n",
       "      <td>1.0</td>\n",
       "      <td>3.0</td>\n",
       "      <td>-99999.0</td>\n",
       "      <td>...</td>\n",
       "      <td>0</td>\n",
       "      <td>0</td>\n",
       "      <td>0</td>\n",
       "      <td>0</td>\n",
       "      <td>-0.004980</td>\n",
       "      <td>0.480000</td>\n",
       "      <td>-0.004980</td>\n",
       "      <td>100497.0</td>\n",
       "      <td>-0.000240</td>\n",
       "      <td>0.333333</td>\n",
       "    </tr>\n",
       "  </tbody>\n",
       "</table>\n",
       "<p>5 rows × 148 columns</p>\n",
       "</div>"
      ],
      "text/plain": [
       "   TENURE  MONTANT  FREQUENCE_RECH  REVENUE  ARPU_SEGMENT  FREQUENCE  \\\n",
       "0      24  17000.0            32.0  18000.0        6000.0       34.0   \n",
       "1      24   4300.0            29.0   4427.0        1476.0       37.0   \n",
       "2      24   1500.0             3.0   1500.0         500.0        3.0   \n",
       "3      24   1500.0             3.0   2497.0         832.0        4.0   \n",
       "4      24 -99999.0        -99999.0    498.0         166.0        3.0   \n",
       "\n",
       "   DATA_VOLUME  ON_NET  ORANGE     TIGO  ...  TOP_PACK_Yewouleen_PKG  \\\n",
       "0     -99999.0    97.0   355.0      6.0  ...                       0   \n",
       "1       1764.0     8.0     3.0      0.0  ...                       0   \n",
       "2     -99999.0    30.0    30.0 -99999.0  ...                       0   \n",
       "3          0.0   159.0    45.0     19.0  ...                       0   \n",
       "4          1.0     1.0     3.0 -99999.0  ...                       0   \n",
       "\n",
       "   TOP_PACK_pack_chinguitel_24h  TOP_PACK_pilot_offer5  TOP_PACK_pilot_offer6  \\\n",
       "0                             0                      0                      0   \n",
       "1                             0                      0                      0   \n",
       "2                             0                      0                      0   \n",
       "3                             0                      0                      0   \n",
       "4                             0                      0                      0   \n",
       "\n",
       "   income_per_topup_amount  active_per_duration  income_to_amount_ratio  \\\n",
       "0                 1.058824             0.387097                1.058824   \n",
       "1                 1.029535             0.600000                1.029535   \n",
       "2                 1.000000             0.750000                1.000000   \n",
       "3                 1.664667             1.333333                1.664667   \n",
       "4                -0.004980             0.480000               -0.004980   \n",
       "\n",
       "   income_left_after_top_up  tenure_to_topup_frequency  \\\n",
       "0                    1000.0                   0.750000   \n",
       "1                     127.0                   0.827586   \n",
       "2                       0.0                   8.000000   \n",
       "3                     997.0                   8.000000   \n",
       "4                  100497.0                  -0.000240   \n",
       "\n",
       "   income_in90days_perRevenue  \n",
       "0                    0.333333  \n",
       "1                    0.333409  \n",
       "2                    0.333333  \n",
       "3                    0.333200  \n",
       "4                    0.333333  \n",
       "\n",
       "[5 rows x 148 columns]"
      ]
     },
     "execution_count": 28,
     "metadata": {},
     "output_type": "execute_result"
    }
   ],
   "source": [
    "train.head(5)"
   ]
  },
  {
   "cell_type": "code",
   "execution_count": 29,
   "metadata": {
    "scrolled": false
   },
   "outputs": [],
   "source": [
    "clust = [\n",
    "'REVENUE',\n",
    "'MONTANT',\n",
    "'FREQUENCE_RECH',\n",
    "'ARPU_SEGMENT',\n",
    "'FREQUENCE',\n",
    "'ON_NET',\n",
    "'ORANGE',\n",
    "'REGULARITY',\n",
    "'FREQ_TOP_PACK',\n",
    "'REGION_REG',\n",
    "'TOP_PACK_PACK']"
   ]
  },
  {
   "cell_type": "markdown",
   "metadata": {},
   "source": [
    "The cell below is quite computationally expensive and should only be run if you're interested in seeing the plots I used in determining the optimal k values, using the elbow method, also most k values i got were 2."
   ]
  },
  {
   "cell_type": "code",
   "execution_count": 34,
   "metadata": {},
   "outputs": [],
   "source": [
    "# for j in clust:\n",
    "#     distortions = []\n",
    "#     if train[j].dtype == object: # One-Hot encode data if it is categorical\n",
    "#         dummies = pd.get_dummies(train[j], drop_first=True)\n",
    "#         for i in range(1, 11):\n",
    "#             km = KMeans(\n",
    "#                 n_clusters=i, init='k-means++',\n",
    "#                 n_init=20, max_iter=300,\n",
    "#                 tol=1e-04, random_state=0\n",
    "#             )\n",
    "#             km.fit(dummies)\n",
    "#             distortions.append(km.inertia_)\n",
    "\n",
    "#         # plot\n",
    "#         print(j, km.inertia_)\n",
    "#         plt.plot(range(1, 11), distortions, marker='o')\n",
    "#         plt.xlabel('Number of clusters')\n",
    "#         plt.ylabel('Distortion')\n",
    "#         plt.show()\n",
    "    \n",
    "#     else:\n",
    "#         for i in range(1, 11):\n",
    "#             km = KMeans(\n",
    "#                 n_clusters=i, init='k-means++',\n",
    "#                 n_init=20, max_iter=300,\n",
    "#                 tol=1e-04, random_state=0\n",
    "#             )\n",
    "#             km.fit(pd.DataFrame(train[j]))\n",
    "#             distortions.append(km.inertia_)\n",
    "\n",
    "#         # plot\n",
    "\n",
    "#         print(j, km.inertia_)\n",
    "#         plt.plot(range(1, 11), distortions, marker='o')\n",
    "#         plt.xlabel('Number of clusters')\n",
    "#         plt.ylabel('Distortion')\n",
    "#         plt.show()"
   ]
  },
  {
   "cell_type": "code",
   "execution_count": 35,
   "metadata": {},
   "outputs": [],
   "source": [
    "kmeans = KMeans(\n",
    "        n_clusters=2, init='k-means++',\n",
    "        n_init=20, max_iter=300,\n",
    "        tol=1e-04, random_state=0\n",
    "    )"
   ]
  },
  {
   "cell_type": "code",
   "execution_count": 36,
   "metadata": {
    "scrolled": true
   },
   "outputs": [],
   "source": [
    "%%capture \n",
    "#To avoid clumsy cell output\n",
    "\n",
    "for col in clust:\n",
    "    if train[col].dtype == object:\n",
    "        dummies = pd.get_dummies(train[col], drop_first=True)\n",
    "        test_dum = pd.get_dummies(test[col], drop_first=True)\n",
    "        kmeans.fit(dummies)\n",
    "        train[col+'_grouped'] = kmeans.labels_\n",
    "        test[col+'_grouped'] = kmeans.predict(test_dum)\n",
    "    else:\n",
    "        kmeans.fit(pd.DataFrame(train[col]))\n",
    "        train[col+'_grouped'] = kmeans.labels_\n",
    "        test[col+'_grouped'] = kmeans.predict(pd.DataFrame(test[col]))"
   ]
  },
  {
   "cell_type": "code",
   "execution_count": 37,
   "metadata": {},
   "outputs": [
    {
     "data": {
      "text/plain": [
       "((400000, 159), (100000, 159))"
      ]
     },
     "execution_count": 37,
     "metadata": {},
     "output_type": "execute_result"
    }
   ],
   "source": [
    "train.shape, test.shape"
   ]
  },
  {
   "cell_type": "code",
   "execution_count": 38,
   "metadata": {},
   "outputs": [],
   "source": [
    "del data"
   ]
  },
  {
   "cell_type": "code",
   "execution_count": 39,
   "metadata": {},
   "outputs": [
    {
     "data": {
      "text/plain": [
       "0"
      ]
     },
     "execution_count": 39,
     "metadata": {},
     "output_type": "execute_result"
    }
   ],
   "source": [
    "sum(train.isna().sum())"
   ]
  },
  {
   "cell_type": "markdown",
   "metadata": {},
   "source": [
    "The cell below is quite computationally expensive and should only be run if you're interested in seeing the plots I used in determining the optimal k values, using the elbow method, also most k values i got were 2."
   ]
  },
  {
   "cell_type": "code",
   "execution_count": 36,
   "metadata": {},
   "outputs": [],
   "source": [
    "# distortions = []\n",
    "# for i in range(1, 11):\n",
    "#     km = KMeans(\n",
    "#         n_clusters=i, init='k-means++',\n",
    "#         n_init=20, max_iter=300,\n",
    "#         tol=1e-04, random_state=0\n",
    "#     )\n",
    "#     km.fit(pd.DataFrame(train))\n",
    "#     distortions.append(km.inertia_)\n",
    "\n",
    "# # plot\n",
    "# plt.plot(range(1, 11), distortions, marker='o')\n",
    "# plt.xlabel('Number of clusters')\n",
    "# plt.ylabel('Distortion')\n",
    "# plt.show()"
   ]
  },
  {
   "cell_type": "code",
   "execution_count": 37,
   "metadata": {},
   "outputs": [],
   "source": [
    "km = KMeans(\n",
    "        n_clusters=2, init='k-means++',\n",
    "        n_init=20, max_iter=300,\n",
    "        tol=1e-04, random_state=0\n",
    "    )"
   ]
  },
  {
   "cell_type": "code",
   "execution_count": 38,
   "metadata": {},
   "outputs": [
    {
     "data": {
      "text/plain": [
       "KMeans(n_clusters=2, n_init=20, random_state=0)"
      ]
     },
     "execution_count": 38,
     "metadata": {},
     "output_type": "execute_result"
    }
   ],
   "source": [
    "km.fit(train)"
   ]
  },
  {
   "cell_type": "code",
   "execution_count": 39,
   "metadata": {},
   "outputs": [],
   "source": [
    "train['groups'] = km.labels_\n",
    "test['groups'] = km.predict(test)"
   ]
  },
  {
   "cell_type": "code",
   "execution_count": 40,
   "metadata": {
    "scrolled": true
   },
   "outputs": [
    {
     "data": {
      "text/plain": [
       "((400000, 160), (400000,), (100000, 160))"
      ]
     },
     "execution_count": 40,
     "metadata": {},
     "output_type": "execute_result"
    }
   ],
   "source": [
    "train.shape, y.shape, test.shape"
   ]
  },
  {
   "cell_type": "code",
   "execution_count": 41,
   "metadata": {
    "scrolled": false
   },
   "outputs": [
    {
     "data": {
      "text/html": [
       "<div>\n",
       "<style scoped>\n",
       "    .dataframe tbody tr th:only-of-type {\n",
       "        vertical-align: middle;\n",
       "    }\n",
       "\n",
       "    .dataframe tbody tr th {\n",
       "        vertical-align: top;\n",
       "    }\n",
       "\n",
       "    .dataframe thead th {\n",
       "        text-align: right;\n",
       "    }\n",
       "</style>\n",
       "<table border=\"1\" class=\"dataframe\">\n",
       "  <thead>\n",
       "    <tr style=\"text-align: right;\">\n",
       "      <th></th>\n",
       "      <th>TENURE</th>\n",
       "      <th>MONTANT</th>\n",
       "      <th>FREQUENCE_RECH</th>\n",
       "      <th>REVENUE</th>\n",
       "      <th>ARPU_SEGMENT</th>\n",
       "      <th>FREQUENCE</th>\n",
       "      <th>DATA_VOLUME</th>\n",
       "      <th>ON_NET</th>\n",
       "      <th>ORANGE</th>\n",
       "      <th>TIGO</th>\n",
       "      <th>...</th>\n",
       "      <th>FREQUENCE_RECH_grouped</th>\n",
       "      <th>ARPU_SEGMENT_grouped</th>\n",
       "      <th>FREQUENCE_grouped</th>\n",
       "      <th>ON_NET_grouped</th>\n",
       "      <th>ORANGE_grouped</th>\n",
       "      <th>REGULARITY_grouped</th>\n",
       "      <th>FREQ_TOP_PACK_grouped</th>\n",
       "      <th>REGION_REG_grouped</th>\n",
       "      <th>TOP_PACK_PACK_grouped</th>\n",
       "      <th>groups</th>\n",
       "    </tr>\n",
       "  </thead>\n",
       "  <tbody>\n",
       "    <tr>\n",
       "      <th>0</th>\n",
       "      <td>24</td>\n",
       "      <td>17000.0</td>\n",
       "      <td>32.0</td>\n",
       "      <td>18000.0</td>\n",
       "      <td>6000.0</td>\n",
       "      <td>34.0</td>\n",
       "      <td>-99999.0</td>\n",
       "      <td>97.0</td>\n",
       "      <td>355.0</td>\n",
       "      <td>6.0</td>\n",
       "      <td>...</td>\n",
       "      <td>1</td>\n",
       "      <td>1</td>\n",
       "      <td>0</td>\n",
       "      <td>0</td>\n",
       "      <td>0</td>\n",
       "      <td>1</td>\n",
       "      <td>0</td>\n",
       "      <td>1</td>\n",
       "      <td>1</td>\n",
       "      <td>0</td>\n",
       "    </tr>\n",
       "    <tr>\n",
       "      <th>1</th>\n",
       "      <td>24</td>\n",
       "      <td>4300.0</td>\n",
       "      <td>29.0</td>\n",
       "      <td>4427.0</td>\n",
       "      <td>1476.0</td>\n",
       "      <td>37.0</td>\n",
       "      <td>1764.0</td>\n",
       "      <td>8.0</td>\n",
       "      <td>3.0</td>\n",
       "      <td>0.0</td>\n",
       "      <td>...</td>\n",
       "      <td>1</td>\n",
       "      <td>1</td>\n",
       "      <td>0</td>\n",
       "      <td>0</td>\n",
       "      <td>0</td>\n",
       "      <td>1</td>\n",
       "      <td>0</td>\n",
       "      <td>0</td>\n",
       "      <td>1</td>\n",
       "      <td>0</td>\n",
       "    </tr>\n",
       "    <tr>\n",
       "      <th>2</th>\n",
       "      <td>24</td>\n",
       "      <td>1500.0</td>\n",
       "      <td>3.0</td>\n",
       "      <td>1500.0</td>\n",
       "      <td>500.0</td>\n",
       "      <td>3.0</td>\n",
       "      <td>-99999.0</td>\n",
       "      <td>30.0</td>\n",
       "      <td>30.0</td>\n",
       "      <td>-99999.0</td>\n",
       "      <td>...</td>\n",
       "      <td>1</td>\n",
       "      <td>1</td>\n",
       "      <td>0</td>\n",
       "      <td>0</td>\n",
       "      <td>0</td>\n",
       "      <td>1</td>\n",
       "      <td>0</td>\n",
       "      <td>1</td>\n",
       "      <td>1</td>\n",
       "      <td>0</td>\n",
       "    </tr>\n",
       "  </tbody>\n",
       "</table>\n",
       "<p>3 rows × 160 columns</p>\n",
       "</div>"
      ],
      "text/plain": [
       "   TENURE  MONTANT  FREQUENCE_RECH  REVENUE  ARPU_SEGMENT  FREQUENCE  \\\n",
       "0      24  17000.0            32.0  18000.0        6000.0       34.0   \n",
       "1      24   4300.0            29.0   4427.0        1476.0       37.0   \n",
       "2      24   1500.0             3.0   1500.0         500.0        3.0   \n",
       "\n",
       "   DATA_VOLUME  ON_NET  ORANGE     TIGO  ...  FREQUENCE_RECH_grouped  \\\n",
       "0     -99999.0    97.0   355.0      6.0  ...                       1   \n",
       "1       1764.0     8.0     3.0      0.0  ...                       1   \n",
       "2     -99999.0    30.0    30.0 -99999.0  ...                       1   \n",
       "\n",
       "   ARPU_SEGMENT_grouped  FREQUENCE_grouped  ON_NET_grouped  ORANGE_grouped  \\\n",
       "0                     1                  0               0               0   \n",
       "1                     1                  0               0               0   \n",
       "2                     1                  0               0               0   \n",
       "\n",
       "   REGULARITY_grouped  FREQ_TOP_PACK_grouped  REGION_REG_grouped  \\\n",
       "0                   1                      0                   1   \n",
       "1                   1                      0                   0   \n",
       "2                   1                      0                   1   \n",
       "\n",
       "   TOP_PACK_PACK_grouped  groups  \n",
       "0                      1       0  \n",
       "1                      1       0  \n",
       "2                      1       0  \n",
       "\n",
       "[3 rows x 160 columns]"
      ]
     },
     "execution_count": 41,
     "metadata": {},
     "output_type": "execute_result"
    }
   ],
   "source": [
    "train.head(3)"
   ]
  },
  {
   "cell_type": "markdown",
   "metadata": {},
   "source": [
    "##### Local Validation"
   ]
  },
  {
   "cell_type": "code",
   "execution_count": 42,
   "metadata": {},
   "outputs": [],
   "source": [
    "X_1, X_2, y_1, y_2 = train_test_split(train, y, test_size = 0.01, random_state = 0)"
   ]
  },
  {
   "cell_type": "code",
   "execution_count": 43,
   "metadata": {},
   "outputs": [],
   "source": [
    "X_3, X_4, y_3, y_4 = train_test_split(X_2, y_2, test_size = 0.1, random_state = 0)"
   ]
  },
  {
   "cell_type": "code",
   "execution_count": 44,
   "metadata": {},
   "outputs": [
    {
     "data": {
      "text/plain": [
       "((3600, 160), (3600,))"
      ]
     },
     "execution_count": 44,
     "metadata": {},
     "output_type": "execute_result"
    }
   ],
   "source": [
    "X_3.shape, y_3.shape"
   ]
  },
  {
   "cell_type": "code",
   "execution_count": 45,
   "metadata": {},
   "outputs": [],
   "source": [
    "val_model = CatBoostClassifier(random_seed = 10, n_estimators = 1000)"
   ]
  },
  {
   "cell_type": "code",
   "execution_count": 47,
   "metadata": {},
   "outputs": [],
   "source": [
    "%%capture \n",
    "#In the real sense we want to see how the model's doing but I did this to avoid long training lines on github\n",
    "\n",
    "val_model.fit(X_3, y_3)"
   ]
  },
  {
   "cell_type": "code",
   "execution_count": 48,
   "metadata": {},
   "outputs": [],
   "source": [
    "val_pred = val_model.predict_proba(X_4)[:, 1]"
   ]
  },
  {
   "cell_type": "code",
   "execution_count": 49,
   "metadata": {},
   "outputs": [
    {
     "data": {
      "text/plain": [
       "0.2440104222463054"
      ]
     },
     "execution_count": 49,
     "metadata": {},
     "output_type": "execute_result"
    }
   ],
   "source": [
    "log_loss(y_4, val_pred)"
   ]
  },
  {
   "cell_type": "markdown",
   "metadata": {},
   "source": [
    "Local log_loss score of about 0.244010 seems okay, but caution is that it's just a very small sample from our dataset."
   ]
  },
  {
   "cell_type": "markdown",
   "metadata": {},
   "source": [
    "##### Model Training"
   ]
  },
  {
   "cell_type": "markdown",
   "metadata": {},
   "source": [
    "- Models I used in making my preddictions are catboost and xgboost"
   ]
  },
  {
   "cell_type": "code",
   "execution_count": 50,
   "metadata": {},
   "outputs": [],
   "source": [
    "train.rename(columns = lambda x:re.sub('[^A-Za-z0-9_]+', '', x), inplace=True)\n",
    "test.rename(columns = lambda x:re.sub('[^A-Za-z0-9_]+', '', x), inplace=True)\n",
    "\n",
    "# I'm renaming the columns because Lightgbm(LGBM) model would give an error saying it can't accept JSON as column names."
   ]
  },
  {
   "cell_type": "code",
   "execution_count": 51,
   "metadata": {},
   "outputs": [
    {
     "data": {
      "text/html": [
       "<div>\n",
       "<style scoped>\n",
       "    .dataframe tbody tr th:only-of-type {\n",
       "        vertical-align: middle;\n",
       "    }\n",
       "\n",
       "    .dataframe tbody tr th {\n",
       "        vertical-align: top;\n",
       "    }\n",
       "\n",
       "    .dataframe thead th {\n",
       "        text-align: right;\n",
       "    }\n",
       "</style>\n",
       "<table border=\"1\" class=\"dataframe\">\n",
       "  <thead>\n",
       "    <tr style=\"text-align: right;\">\n",
       "      <th></th>\n",
       "      <th>TENURE</th>\n",
       "      <th>MONTANT</th>\n",
       "      <th>FREQUENCE_RECH</th>\n",
       "      <th>REVENUE</th>\n",
       "      <th>ARPU_SEGMENT</th>\n",
       "      <th>FREQUENCE</th>\n",
       "      <th>DATA_VOLUME</th>\n",
       "      <th>ON_NET</th>\n",
       "      <th>ORANGE</th>\n",
       "      <th>TIGO</th>\n",
       "      <th>...</th>\n",
       "      <th>FREQUENCE_RECH_grouped</th>\n",
       "      <th>ARPU_SEGMENT_grouped</th>\n",
       "      <th>FREQUENCE_grouped</th>\n",
       "      <th>ON_NET_grouped</th>\n",
       "      <th>ORANGE_grouped</th>\n",
       "      <th>REGULARITY_grouped</th>\n",
       "      <th>FREQ_TOP_PACK_grouped</th>\n",
       "      <th>REGION_REG_grouped</th>\n",
       "      <th>TOP_PACK_PACK_grouped</th>\n",
       "      <th>groups</th>\n",
       "    </tr>\n",
       "  </thead>\n",
       "  <tbody>\n",
       "    <tr>\n",
       "      <th>0</th>\n",
       "      <td>24</td>\n",
       "      <td>17000.0</td>\n",
       "      <td>32.0</td>\n",
       "      <td>18000.0</td>\n",
       "      <td>6000.0</td>\n",
       "      <td>34.0</td>\n",
       "      <td>-99999.0</td>\n",
       "      <td>97.0</td>\n",
       "      <td>355.0</td>\n",
       "      <td>6.0</td>\n",
       "      <td>...</td>\n",
       "      <td>1</td>\n",
       "      <td>1</td>\n",
       "      <td>0</td>\n",
       "      <td>0</td>\n",
       "      <td>0</td>\n",
       "      <td>1</td>\n",
       "      <td>0</td>\n",
       "      <td>1</td>\n",
       "      <td>1</td>\n",
       "      <td>0</td>\n",
       "    </tr>\n",
       "    <tr>\n",
       "      <th>1</th>\n",
       "      <td>24</td>\n",
       "      <td>4300.0</td>\n",
       "      <td>29.0</td>\n",
       "      <td>4427.0</td>\n",
       "      <td>1476.0</td>\n",
       "      <td>37.0</td>\n",
       "      <td>1764.0</td>\n",
       "      <td>8.0</td>\n",
       "      <td>3.0</td>\n",
       "      <td>0.0</td>\n",
       "      <td>...</td>\n",
       "      <td>1</td>\n",
       "      <td>1</td>\n",
       "      <td>0</td>\n",
       "      <td>0</td>\n",
       "      <td>0</td>\n",
       "      <td>1</td>\n",
       "      <td>0</td>\n",
       "      <td>0</td>\n",
       "      <td>1</td>\n",
       "      <td>0</td>\n",
       "    </tr>\n",
       "  </tbody>\n",
       "</table>\n",
       "<p>2 rows × 160 columns</p>\n",
       "</div>"
      ],
      "text/plain": [
       "   TENURE  MONTANT  FREQUENCE_RECH  REVENUE  ARPU_SEGMENT  FREQUENCE  \\\n",
       "0      24  17000.0            32.0  18000.0        6000.0       34.0   \n",
       "1      24   4300.0            29.0   4427.0        1476.0       37.0   \n",
       "\n",
       "   DATA_VOLUME  ON_NET  ORANGE  TIGO  ...  FREQUENCE_RECH_grouped  \\\n",
       "0     -99999.0    97.0   355.0   6.0  ...                       1   \n",
       "1       1764.0     8.0     3.0   0.0  ...                       1   \n",
       "\n",
       "   ARPU_SEGMENT_grouped  FREQUENCE_grouped  ON_NET_grouped  ORANGE_grouped  \\\n",
       "0                     1                  0               0               0   \n",
       "1                     1                  0               0               0   \n",
       "\n",
       "   REGULARITY_grouped  FREQ_TOP_PACK_grouped  REGION_REG_grouped  \\\n",
       "0                   1                      0                   1   \n",
       "1                   1                      0                   0   \n",
       "\n",
       "   TOP_PACK_PACK_grouped  groups  \n",
       "0                      1       0  \n",
       "1                      1       0  \n",
       "\n",
       "[2 rows x 160 columns]"
      ]
     },
     "execution_count": 51,
     "metadata": {},
     "output_type": "execute_result"
    }
   ],
   "source": [
    "train.head(2)"
   ]
  },
  {
   "cell_type": "markdown",
   "metadata": {},
   "source": [
    "25-KFold Catboost model"
   ]
  },
  {
   "cell_type": "code",
   "execution_count": 52,
   "metadata": {},
   "outputs": [
    {
     "data": {
      "text/plain": [
       "((400000, 160), (100000, 160), (400000,))"
      ]
     },
     "execution_count": 52,
     "metadata": {},
     "output_type": "execute_result"
    }
   ],
   "source": [
    "train.shape, test.shape, y.shape"
   ]
  },
  {
   "cell_type": "code",
   "execution_count": 53,
   "metadata": {},
   "outputs": [],
   "source": [
    "%%capture\n",
    "#In the real sense we want to see how the model's doing but I did this to avoid long training lines on github\n",
    "\n",
    "errcb1=[]\n",
    "y_pred_totcb1=[]\n",
    "fold=KFold(n_splits=25)#25\n",
    "i=1\n",
    "for train_index, test_index in fold.split(train,y):\n",
    "    print(str(i) + ' iter')\n",
    "    X_train, X_test = train.iloc[train_index], train.iloc[test_index]\n",
    "    y_train, y_test = y.iloc[train_index], y.iloc[test_index]\n",
    "    m1  = CatBoostClassifier(n_estimators=1000,eval_metric='Logloss',random_seed= 10, use_best_model=True)\n",
    "    m1.fit(X_train,y_train,eval_set=[(X_train,y_train),(X_test, y_test)], early_stopping_rounds=100,verbose=100)\n",
    "    preds=m1.predict_proba(X_test)[:,1]\n",
    "    print(\"err: \",log_loss(y_test,preds))\n",
    "    errcb1.append((log_loss(y_test,preds)))\n",
    "    p1 = m1.predict_proba(test)[:,1]\n",
    "    y_pred_totcb1.append(p1)\n",
    "    i+=1\n",
    "np.mean(errcb1)"
   ]
  },
  {
   "cell_type": "code",
   "execution_count": 54,
   "metadata": {},
   "outputs": [],
   "source": [
    "cat_sub = sample.copy()"
   ]
  },
  {
   "cell_type": "code",
   "execution_count": 55,
   "metadata": {},
   "outputs": [],
   "source": [
    "cat_sub.CHURN = np.mean(y_pred_totcb1, axis=0)"
   ]
  },
  {
   "cell_type": "code",
   "execution_count": 92,
   "metadata": {},
   "outputs": [],
   "source": [
    "cat_sub.to_csv('25KFold_Cat.csv', index = False)"
   ]
  },
  {
   "cell_type": "markdown",
   "metadata": {},
   "source": []
  },
  {
   "cell_type": "markdown",
   "metadata": {},
   "source": [
    "25-KFold Xgbboost"
   ]
  },
  {
   "cell_type": "code",
   "execution_count": 56,
   "metadata": {},
   "outputs": [],
   "source": [
    "%%capture\n",
    "# Usually we want to see how the model's doing but I did this to avoid long training lines on github\n",
    "\n",
    "errcb2=[]\n",
    "y_pred_totcb2=[]\n",
    "fold=KFold(n_splits=25)#25\n",
    "i=1\n",
    "for train_index, test_index in fold.split(train,y):\n",
    "    print(str(i) + ' iter')\n",
    "    X_train, X_test = train.iloc[train_index], train.iloc[test_index]\n",
    "    y_train, y_test = y.iloc[train_index], y.iloc[test_index]\n",
    "    m2  = XGBClassifier(n_estimators=1000,random_seed = 10, use_best_model=True, eval_metric = 'logloss')\n",
    "    m2.fit(X_train,y_train,eval_set=[(X_train,y_train),(X_test, y_test)], early_stopping_rounds=100,verbose=100)\n",
    "    preds=m2.predict_proba(X_test)[:,1]\n",
    "    print(\"err: \",log_loss(y_test,preds))\n",
    "    errcb2.append((log_loss(y_test,preds)))\n",
    "    p2 = m2.predict_proba(test)[:,1]\n",
    "    y_pred_totcb2.append(p2)\n",
    "    i+=1\n",
    "np.mean(errcb2)"
   ]
  },
  {
   "cell_type": "code",
   "execution_count": 57,
   "metadata": {},
   "outputs": [],
   "source": [
    "xgb_sub = sample.copy()"
   ]
  },
  {
   "cell_type": "code",
   "execution_count": 58,
   "metadata": {},
   "outputs": [],
   "source": [
    "xgb_sub.CHURN = np.mean(y_pred_totcb2, axis=0)"
   ]
  },
  {
   "cell_type": "code",
   "execution_count": 95,
   "metadata": {},
   "outputs": [],
   "source": [
    "xgb_sub.to_csv('25KFold_Xgb.csv', index = False)"
   ]
  },
  {
   "cell_type": "markdown",
   "metadata": {},
   "source": []
  },
  {
   "cell_type": "markdown",
   "metadata": {},
   "source": [
    "###### Blending of  predictions"
   ]
  },
  {
   "cell_type": "code",
   "execution_count": 62,
   "metadata": {},
   "outputs": [],
   "source": [
    "blend = (xgb_sub.CHURN*0.4) + (cat_sub.CHURN*0.6)"
   ]
  },
  {
   "cell_type": "code",
   "execution_count": 63,
   "metadata": {},
   "outputs": [],
   "source": [
    "blend_sub = sample.copy()"
   ]
  },
  {
   "cell_type": "code",
   "execution_count": 64,
   "metadata": {},
   "outputs": [],
   "source": [
    "blend_sub.CHURN = blend"
   ]
  },
  {
   "cell_type": "code",
   "execution_count": 65,
   "metadata": {},
   "outputs": [],
   "source": [
    "blend_sub.to_csv('XGB_CAT.csv', index = False)"
   ]
  },
  {
   "cell_type": "markdown",
   "metadata": {},
   "source": [
    "Using this blend will get a log_loss score of approximately 0.246675"
   ]
  },
  {
   "cell_type": "markdown",
   "metadata": {},
   "source": []
  },
  {
   "cell_type": "markdown",
   "metadata": {},
   "source": [
    "#### Submision of 0.246643"
   ]
  },
  {
   "cell_type": "code",
   "execution_count": 67,
   "metadata": {},
   "outputs": [],
   "source": [
    "reblend = ((xgb_sub.CHURN*0.33) + (cat_sub.CHURN*0.67))*0.95 + (cat_sub.CHURN*0.05)"
   ]
  },
  {
   "cell_type": "code",
   "execution_count": 66,
   "metadata": {},
   "outputs": [],
   "source": [
    "reblend_sub = sample.copy()"
   ]
  },
  {
   "cell_type": "code",
   "execution_count": 68,
   "metadata": {},
   "outputs": [],
   "source": [
    "reblend_sub.CHURN = reblend"
   ]
  },
  {
   "cell_type": "code",
   "execution_count": 69,
   "metadata": {},
   "outputs": [],
   "source": [
    "reblend_sub.to_csv('XGB_CAT1.csv', index = False)"
   ]
  },
  {
   "cell_type": "markdown",
   "metadata": {},
   "source": []
  }
 ],
 "metadata": {
  "kernelspec": {
   "display_name": "Python 3",
   "language": "python",
   "name": "python3"
  },
  "language_info": {
   "codemirror_mode": {
    "name": "ipython",
    "version": 3
   },
   "file_extension": ".py",
   "mimetype": "text/x-python",
   "name": "python",
   "nbconvert_exporter": "python",
   "pygments_lexer": "ipython3",
   "version": "3.7.3"
  }
 },
 "nbformat": 4,
 "nbformat_minor": 4
}

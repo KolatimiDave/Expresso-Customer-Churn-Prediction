{
 "cells": [
  {
   "cell_type": "code",
   "execution_count": 1,
   "metadata": {},
   "outputs": [],
   "source": [
    "import warnings\n",
    "warnings.filterwarnings('ignore')\n",
    "from IPython.core.interactiveshell import InteractiveShell\n",
    "InteractiveShell.ast_node_interactivity = \"all\""
   ]
  },
  {
   "cell_type": "markdown",
   "metadata": {},
   "source": [
    "##### Importing Relevant Packages"
   ]
  },
  {
   "cell_type": "code",
   "execution_count": 2,
   "metadata": {},
   "outputs": [],
   "source": [
    "import pandas as pd\n",
    "import seaborn as sb\n",
    "import matplotlib.pyplot as plt\n",
    "from sklearn.impute import SimpleImputer\n",
    "import numpy as np\n",
    "from sklearn.cluster import KMeans\n",
    "from catboost import CatBoostClassifier\n",
    "from xgboost import XGBClassifier\n",
    "from lightgbm import LGBMClassifier\n",
    "from sklearn.metrics import log_loss\n",
    "from sklearn.model_selection import train_test_split, KFold\n",
    "import re"
   ]
  },
  {
   "cell_type": "code",
   "execution_count": 3,
   "metadata": {},
   "outputs": [],
   "source": [
    "# load datasets\n",
    "train = pd.read_csv(\"Train.csv\")\n",
    "test  = pd.read_csv(\"Test.csv\")\n",
    "sample  = pd.read_csv(\"sample_submission.csv\")\n",
    "var = pd.read_csv('VariableDefinitions.csv')"
   ]
  },
  {
   "cell_type": "code",
   "execution_count": 4,
   "metadata": {
    "scrolled": true
   },
   "outputs": [
    {
     "data": {
      "text/html": [
       "<div>\n",
       "<style scoped>\n",
       "    .dataframe tbody tr th:only-of-type {\n",
       "        vertical-align: middle;\n",
       "    }\n",
       "\n",
       "    .dataframe tbody tr th {\n",
       "        vertical-align: top;\n",
       "    }\n",
       "\n",
       "    .dataframe thead th {\n",
       "        text-align: right;\n",
       "    }\n",
       "</style>\n",
       "<table border=\"1\" class=\"dataframe\">\n",
       "  <thead>\n",
       "    <tr style=\"text-align: right;\">\n",
       "      <th></th>\n",
       "      <th>Variable Definitions</th>\n",
       "      <th>Unnamed: 1</th>\n",
       "      <th>Unnamed: 2</th>\n",
       "    </tr>\n",
       "  </thead>\n",
       "  <tbody>\n",
       "    <tr>\n",
       "      <th>0</th>\n",
       "      <td>NaN</td>\n",
       "      <td>French</td>\n",
       "      <td>English</td>\n",
       "    </tr>\n",
       "    <tr>\n",
       "      <th>1</th>\n",
       "      <td>NaN</td>\n",
       "      <td>Le dataset churn comprend 19 variables dont 15...</td>\n",
       "      <td>The churn dataset includes 19 variables includ...</td>\n",
       "    </tr>\n",
       "    <tr>\n",
       "      <th>2</th>\n",
       "      <td>user_id</td>\n",
       "      <td>NaN</td>\n",
       "      <td>NaN</td>\n",
       "    </tr>\n",
       "  </tbody>\n",
       "</table>\n",
       "</div>"
      ],
      "text/plain": [
       "  Variable Definitions                                         Unnamed: 1  \\\n",
       "0                  NaN                                             French   \n",
       "1                  NaN  Le dataset churn comprend 19 variables dont 15...   \n",
       "2              user_id                                                NaN   \n",
       "\n",
       "                                          Unnamed: 2  \n",
       "0                                            English  \n",
       "1  The churn dataset includes 19 variables includ...  \n",
       "2                                                NaN  "
      ]
     },
     "execution_count": 4,
     "metadata": {},
     "output_type": "execute_result"
    }
   ],
   "source": [
    "var.head(3)"
   ]
  },
  {
   "cell_type": "code",
   "execution_count": 5,
   "metadata": {
    "scrolled": true
   },
   "outputs": [
    {
     "data": {
      "text/html": [
       "<div>\n",
       "<style scoped>\n",
       "    .dataframe tbody tr th:only-of-type {\n",
       "        vertical-align: middle;\n",
       "    }\n",
       "\n",
       "    .dataframe tbody tr th {\n",
       "        vertical-align: top;\n",
       "    }\n",
       "\n",
       "    .dataframe thead th {\n",
       "        text-align: right;\n",
       "    }\n",
       "</style>\n",
       "<table border=\"1\" class=\"dataframe\">\n",
       "  <thead>\n",
       "    <tr style=\"text-align: right;\">\n",
       "      <th></th>\n",
       "      <th>user_id</th>\n",
       "      <th>REGION</th>\n",
       "      <th>TENURE</th>\n",
       "      <th>MONTANT</th>\n",
       "      <th>FREQUENCE_RECH</th>\n",
       "      <th>REVENUE</th>\n",
       "      <th>ARPU_SEGMENT</th>\n",
       "      <th>FREQUENCE</th>\n",
       "      <th>DATA_VOLUME</th>\n",
       "      <th>ON_NET</th>\n",
       "      <th>ORANGE</th>\n",
       "      <th>TIGO</th>\n",
       "      <th>ZONE1</th>\n",
       "      <th>ZONE2</th>\n",
       "      <th>MRG</th>\n",
       "      <th>REGULARITY</th>\n",
       "      <th>TOP_PACK</th>\n",
       "      <th>FREQ_TOP_PACK</th>\n",
       "      <th>CHURN</th>\n",
       "    </tr>\n",
       "  </thead>\n",
       "  <tbody>\n",
       "    <tr>\n",
       "      <th>0</th>\n",
       "      <td>dcf68cc2fb515ccad7d8b9b3bd80ee2a4b270063</td>\n",
       "      <td>SAINT-LOUIS</td>\n",
       "      <td>K &gt; 24 month</td>\n",
       "      <td>17000.0</td>\n",
       "      <td>32.0</td>\n",
       "      <td>18000.0</td>\n",
       "      <td>6000.0</td>\n",
       "      <td>34.0</td>\n",
       "      <td>NaN</td>\n",
       "      <td>97.0</td>\n",
       "      <td>355.0</td>\n",
       "      <td>6.0</td>\n",
       "      <td>NaN</td>\n",
       "      <td>NaN</td>\n",
       "      <td>NO</td>\n",
       "      <td>62</td>\n",
       "      <td>All-net 500F=2000F;5d</td>\n",
       "      <td>35.0</td>\n",
       "      <td>0</td>\n",
       "    </tr>\n",
       "    <tr>\n",
       "      <th>1</th>\n",
       "      <td>71c44b5ba328db5c4192a80f7cf8f244d9350ed0</td>\n",
       "      <td>NaN</td>\n",
       "      <td>K &gt; 24 month</td>\n",
       "      <td>4300.0</td>\n",
       "      <td>29.0</td>\n",
       "      <td>4427.0</td>\n",
       "      <td>1476.0</td>\n",
       "      <td>37.0</td>\n",
       "      <td>1764.0</td>\n",
       "      <td>8.0</td>\n",
       "      <td>3.0</td>\n",
       "      <td>0.0</td>\n",
       "      <td>NaN</td>\n",
       "      <td>2.0</td>\n",
       "      <td>NO</td>\n",
       "      <td>40</td>\n",
       "      <td>Data: 100 F=40MB,24H</td>\n",
       "      <td>22.0</td>\n",
       "      <td>0</td>\n",
       "    </tr>\n",
       "  </tbody>\n",
       "</table>\n",
       "</div>"
      ],
      "text/plain": [
       "                                    user_id       REGION        TENURE  \\\n",
       "0  dcf68cc2fb515ccad7d8b9b3bd80ee2a4b270063  SAINT-LOUIS  K > 24 month   \n",
       "1  71c44b5ba328db5c4192a80f7cf8f244d9350ed0          NaN  K > 24 month   \n",
       "\n",
       "   MONTANT  FREQUENCE_RECH  REVENUE  ARPU_SEGMENT  FREQUENCE  DATA_VOLUME  \\\n",
       "0  17000.0            32.0  18000.0        6000.0       34.0          NaN   \n",
       "1   4300.0            29.0   4427.0        1476.0       37.0       1764.0   \n",
       "\n",
       "   ON_NET  ORANGE  TIGO  ZONE1  ZONE2 MRG  REGULARITY               TOP_PACK  \\\n",
       "0    97.0   355.0   6.0    NaN    NaN  NO          62  All-net 500F=2000F;5d   \n",
       "1     8.0     3.0   0.0    NaN    2.0  NO          40   Data: 100 F=40MB,24H   \n",
       "\n",
       "   FREQ_TOP_PACK  CHURN  \n",
       "0           35.0      0  \n",
       "1           22.0      0  "
      ]
     },
     "execution_count": 5,
     "metadata": {},
     "output_type": "execute_result"
    },
    {
     "data": {
      "text/plain": [
       "(400000, 19)"
      ]
     },
     "execution_count": 5,
     "metadata": {},
     "output_type": "execute_result"
    }
   ],
   "source": [
    "train.head(2)\n",
    "train.shape"
   ]
  },
  {
   "cell_type": "markdown",
   "metadata": {},
   "source": [
    "##### Feature Engineering"
   ]
  },
  {
   "cell_type": "code",
   "execution_count": 6,
   "metadata": {},
   "outputs": [],
   "source": [
    "useless = ['user_id', 'MRG']"
   ]
  },
  {
   "cell_type": "code",
   "execution_count": 7,
   "metadata": {},
   "outputs": [],
   "source": [
    "train.REGION.fillna('REG',inplace=True)\n",
    "test.REGION.fillna('REG',inplace=True)"
   ]
  },
  {
   "cell_type": "code",
   "execution_count": 8,
   "metadata": {},
   "outputs": [],
   "source": [
    "train.TOP_PACK.fillna('PACK',inplace=True)\n",
    "test.TOP_PACK.fillna('PACK',inplace=True)"
   ]
  },
  {
   "cell_type": "code",
   "execution_count": 9,
   "metadata": {},
   "outputs": [],
   "source": [
    "minus_999999 = ['MONTANT','FREQUENCE_RECH','REVENUE','ARPU_SEGMENT','FREQUENCE','DATA_VOLUME','ON_NET','ORANGE','FREQ_TOP_PACK','TIGO','ZONE1','ZONE2']"
   ]
  },
  {
   "cell_type": "code",
   "execution_count": 10,
   "metadata": {},
   "outputs": [],
   "source": [
    "for col in minus_999999:\n",
    "    train[col].fillna(-99999, inplace=True)\n",
    "    test[col].fillna(-99999, inplace=True)"
   ]
  },
  {
   "cell_type": "code",
   "execution_count": 11,
   "metadata": {},
   "outputs": [],
   "source": [
    "train.drop(columns=[i for i in useless], inplace=True)\n",
    "test.drop(columns=[i for i in useless], inplace=True)"
   ]
  },
  {
   "cell_type": "code",
   "execution_count": 12,
   "metadata": {},
   "outputs": [],
   "source": [
    "data = pd.concat([train,test],axis=0)\n",
    "data = data.reset_index(drop=True)"
   ]
  },
  {
   "cell_type": "code",
   "execution_count": 13,
   "metadata": {},
   "outputs": [],
   "source": [
    "categ = ['TENURE','REGION','TOP_PACK'] "
   ]
  },
  {
   "cell_type": "code",
   "execution_count": 14,
   "metadata": {},
   "outputs": [],
   "source": [
    "pack_dum = pd.get_dummies(data['TOP_PACK'])"
   ]
  },
  {
   "cell_type": "code",
   "execution_count": 15,
   "metadata": {},
   "outputs": [],
   "source": [
    "ten_dum = pd.get_dummies(data['TENURE'])"
   ]
  },
  {
   "cell_type": "code",
   "execution_count": 16,
   "metadata": {},
   "outputs": [],
   "source": [
    "pack_reg = pd.get_dummies(data['REGION'])"
   ]
  },
  {
   "cell_type": "code",
   "execution_count": 17,
   "metadata": {},
   "outputs": [],
   "source": [
    "data = pd.concat([data,ten_dum,pack_reg,pack_dum],axis=1)"
   ]
  },
  {
   "cell_type": "code",
   "execution_count": 18,
   "metadata": {},
   "outputs": [],
   "source": [
    "data.drop(columns=[i for i in categ], inplace=True)"
   ]
  },
  {
   "cell_type": "code",
   "execution_count": 19,
   "metadata": {},
   "outputs": [
    {
     "data": {
      "text/html": [
       "<div>\n",
       "<style scoped>\n",
       "    .dataframe tbody tr th:only-of-type {\n",
       "        vertical-align: middle;\n",
       "    }\n",
       "\n",
       "    .dataframe tbody tr th {\n",
       "        vertical-align: top;\n",
       "    }\n",
       "\n",
       "    .dataframe thead th {\n",
       "        text-align: right;\n",
       "    }\n",
       "</style>\n",
       "<table border=\"1\" class=\"dataframe\">\n",
       "  <thead>\n",
       "    <tr style=\"text-align: right;\">\n",
       "      <th></th>\n",
       "      <th>MONTANT</th>\n",
       "      <th>FREQUENCE_RECH</th>\n",
       "      <th>REVENUE</th>\n",
       "      <th>ARPU_SEGMENT</th>\n",
       "      <th>FREQUENCE</th>\n",
       "      <th>DATA_VOLUME</th>\n",
       "      <th>ON_NET</th>\n",
       "      <th>ORANGE</th>\n",
       "      <th>TIGO</th>\n",
       "      <th>ZONE1</th>\n",
       "      <th>...</th>\n",
       "      <th>VAS(IVR_Radio_Monthly)</th>\n",
       "      <th>VAS(IVR_Radio_Weekly)</th>\n",
       "      <th>WIFI_ Family _10MBPS</th>\n",
       "      <th>WIFI_ Family _4MBPS</th>\n",
       "      <th>WIFI_Family_2MBPS</th>\n",
       "      <th>YMGX 100=1 hour FNF, 24H/1 month</th>\n",
       "      <th>Yewouleen_PKG</th>\n",
       "      <th>pack_chinguitel_24h</th>\n",
       "      <th>pilot_offer5</th>\n",
       "      <th>pilot_offer6</th>\n",
       "    </tr>\n",
       "  </thead>\n",
       "  <tbody>\n",
       "    <tr>\n",
       "      <th>0</th>\n",
       "      <td>17000.0</td>\n",
       "      <td>32.0</td>\n",
       "      <td>18000.0</td>\n",
       "      <td>6000.0</td>\n",
       "      <td>34.0</td>\n",
       "      <td>-99999.0</td>\n",
       "      <td>97.0</td>\n",
       "      <td>355.0</td>\n",
       "      <td>6.0</td>\n",
       "      <td>-99999.0</td>\n",
       "      <td>...</td>\n",
       "      <td>0</td>\n",
       "      <td>0</td>\n",
       "      <td>0</td>\n",
       "      <td>0</td>\n",
       "      <td>0</td>\n",
       "      <td>0</td>\n",
       "      <td>0</td>\n",
       "      <td>0</td>\n",
       "      <td>0</td>\n",
       "      <td>0</td>\n",
       "    </tr>\n",
       "    <tr>\n",
       "      <th>1</th>\n",
       "      <td>4300.0</td>\n",
       "      <td>29.0</td>\n",
       "      <td>4427.0</td>\n",
       "      <td>1476.0</td>\n",
       "      <td>37.0</td>\n",
       "      <td>1764.0</td>\n",
       "      <td>8.0</td>\n",
       "      <td>3.0</td>\n",
       "      <td>0.0</td>\n",
       "      <td>-99999.0</td>\n",
       "      <td>...</td>\n",
       "      <td>0</td>\n",
       "      <td>0</td>\n",
       "      <td>0</td>\n",
       "      <td>0</td>\n",
       "      <td>0</td>\n",
       "      <td>0</td>\n",
       "      <td>0</td>\n",
       "      <td>0</td>\n",
       "      <td>0</td>\n",
       "      <td>0</td>\n",
       "    </tr>\n",
       "    <tr>\n",
       "      <th>2</th>\n",
       "      <td>1500.0</td>\n",
       "      <td>3.0</td>\n",
       "      <td>1500.0</td>\n",
       "      <td>500.0</td>\n",
       "      <td>3.0</td>\n",
       "      <td>-99999.0</td>\n",
       "      <td>30.0</td>\n",
       "      <td>30.0</td>\n",
       "      <td>-99999.0</td>\n",
       "      <td>-99999.0</td>\n",
       "      <td>...</td>\n",
       "      <td>0</td>\n",
       "      <td>0</td>\n",
       "      <td>0</td>\n",
       "      <td>0</td>\n",
       "      <td>0</td>\n",
       "      <td>0</td>\n",
       "      <td>0</td>\n",
       "      <td>0</td>\n",
       "      <td>0</td>\n",
       "      <td>0</td>\n",
       "    </tr>\n",
       "  </tbody>\n",
       "</table>\n",
       "<p>3 rows × 150 columns</p>\n",
       "</div>"
      ],
      "text/plain": [
       "   MONTANT  FREQUENCE_RECH  REVENUE  ARPU_SEGMENT  FREQUENCE  DATA_VOLUME  \\\n",
       "0  17000.0            32.0  18000.0        6000.0       34.0     -99999.0   \n",
       "1   4300.0            29.0   4427.0        1476.0       37.0       1764.0   \n",
       "2   1500.0             3.0   1500.0         500.0        3.0     -99999.0   \n",
       "\n",
       "   ON_NET  ORANGE     TIGO    ZONE1  ...  VAS(IVR_Radio_Monthly)  \\\n",
       "0    97.0   355.0      6.0 -99999.0  ...                       0   \n",
       "1     8.0     3.0      0.0 -99999.0  ...                       0   \n",
       "2    30.0    30.0 -99999.0 -99999.0  ...                       0   \n",
       "\n",
       "   VAS(IVR_Radio_Weekly)  WIFI_ Family _10MBPS  WIFI_ Family _4MBPS  \\\n",
       "0                      0                     0                    0   \n",
       "1                      0                     0                    0   \n",
       "2                      0                     0                    0   \n",
       "\n",
       "   WIFI_Family_2MBPS  YMGX 100=1 hour FNF, 24H/1 month  Yewouleen_PKG  \\\n",
       "0                  0                                 0              0   \n",
       "1                  0                                 0              0   \n",
       "2                  0                                 0              0   \n",
       "\n",
       "   pack_chinguitel_24h  pilot_offer5  pilot_offer6  \n",
       "0                    0             0             0  \n",
       "1                    0             0             0  \n",
       "2                    0             0             0  \n",
       "\n",
       "[3 rows x 150 columns]"
      ]
     },
     "execution_count": 19,
     "metadata": {},
     "output_type": "execute_result"
    }
   ],
   "source": [
    "data.head(3)"
   ]
  },
  {
   "cell_type": "code",
   "execution_count": 20,
   "metadata": {
    "scrolled": true
   },
   "outputs": [],
   "source": [
    "train=data[data.CHURN.notnull()].reset_index(drop=True)\n",
    "test=data[data.CHURN.isna()].reset_index(drop=True)"
   ]
  },
  {
   "cell_type": "code",
   "execution_count": 21,
   "metadata": {},
   "outputs": [],
   "source": [
    "y = train.CHURN\n",
    "train.drop('CHURN', axis=1, inplace=True)\n",
    "test.drop('CHURN', axis=1, inplace=True)"
   ]
  },
  {
   "cell_type": "code",
   "execution_count": 22,
   "metadata": {
    "scrolled": true
   },
   "outputs": [
    {
     "data": {
      "text/html": [
       "<div>\n",
       "<style scoped>\n",
       "    .dataframe tbody tr th:only-of-type {\n",
       "        vertical-align: middle;\n",
       "    }\n",
       "\n",
       "    .dataframe tbody tr th {\n",
       "        vertical-align: top;\n",
       "    }\n",
       "\n",
       "    .dataframe thead th {\n",
       "        text-align: right;\n",
       "    }\n",
       "</style>\n",
       "<table border=\"1\" class=\"dataframe\">\n",
       "  <thead>\n",
       "    <tr style=\"text-align: right;\">\n",
       "      <th></th>\n",
       "      <th>MONTANT</th>\n",
       "      <th>FREQUENCE_RECH</th>\n",
       "      <th>REVENUE</th>\n",
       "      <th>ARPU_SEGMENT</th>\n",
       "      <th>FREQUENCE</th>\n",
       "      <th>DATA_VOLUME</th>\n",
       "      <th>ON_NET</th>\n",
       "      <th>ORANGE</th>\n",
       "      <th>TIGO</th>\n",
       "      <th>ZONE1</th>\n",
       "      <th>...</th>\n",
       "      <th>VAS(IVR_Radio_Monthly)</th>\n",
       "      <th>VAS(IVR_Radio_Weekly)</th>\n",
       "      <th>WIFI_ Family _10MBPS</th>\n",
       "      <th>WIFI_ Family _4MBPS</th>\n",
       "      <th>WIFI_Family_2MBPS</th>\n",
       "      <th>YMGX 100=1 hour FNF, 24H/1 month</th>\n",
       "      <th>Yewouleen_PKG</th>\n",
       "      <th>pack_chinguitel_24h</th>\n",
       "      <th>pilot_offer5</th>\n",
       "      <th>pilot_offer6</th>\n",
       "    </tr>\n",
       "  </thead>\n",
       "  <tbody>\n",
       "    <tr>\n",
       "      <th>0</th>\n",
       "      <td>-99999.0</td>\n",
       "      <td>-99999.0</td>\n",
       "      <td>-99999.0</td>\n",
       "      <td>-99999.0</td>\n",
       "      <td>-99999.0</td>\n",
       "      <td>-99999.0</td>\n",
       "      <td>-99999.0</td>\n",
       "      <td>-99999.0</td>\n",
       "      <td>-99999.0</td>\n",
       "      <td>-99999.0</td>\n",
       "      <td>...</td>\n",
       "      <td>0</td>\n",
       "      <td>0</td>\n",
       "      <td>0</td>\n",
       "      <td>0</td>\n",
       "      <td>0</td>\n",
       "      <td>0</td>\n",
       "      <td>0</td>\n",
       "      <td>0</td>\n",
       "      <td>0</td>\n",
       "      <td>0</td>\n",
       "    </tr>\n",
       "    <tr>\n",
       "      <th>1</th>\n",
       "      <td>-99999.0</td>\n",
       "      <td>-99999.0</td>\n",
       "      <td>10.0</td>\n",
       "      <td>3.0</td>\n",
       "      <td>1.0</td>\n",
       "      <td>-99999.0</td>\n",
       "      <td>-99999.0</td>\n",
       "      <td>-99999.0</td>\n",
       "      <td>-99999.0</td>\n",
       "      <td>-99999.0</td>\n",
       "      <td>...</td>\n",
       "      <td>0</td>\n",
       "      <td>0</td>\n",
       "      <td>0</td>\n",
       "      <td>0</td>\n",
       "      <td>0</td>\n",
       "      <td>0</td>\n",
       "      <td>0</td>\n",
       "      <td>0</td>\n",
       "      <td>0</td>\n",
       "      <td>0</td>\n",
       "    </tr>\n",
       "  </tbody>\n",
       "</table>\n",
       "<p>2 rows × 149 columns</p>\n",
       "</div>"
      ],
      "text/plain": [
       "   MONTANT  FREQUENCE_RECH  REVENUE  ARPU_SEGMENT  FREQUENCE  DATA_VOLUME  \\\n",
       "0 -99999.0        -99999.0 -99999.0      -99999.0   -99999.0     -99999.0   \n",
       "1 -99999.0        -99999.0     10.0           3.0        1.0     -99999.0   \n",
       "\n",
       "    ON_NET   ORANGE     TIGO    ZONE1  ...  VAS(IVR_Radio_Monthly)  \\\n",
       "0 -99999.0 -99999.0 -99999.0 -99999.0  ...                       0   \n",
       "1 -99999.0 -99999.0 -99999.0 -99999.0  ...                       0   \n",
       "\n",
       "   VAS(IVR_Radio_Weekly)  WIFI_ Family _10MBPS  WIFI_ Family _4MBPS  \\\n",
       "0                      0                     0                    0   \n",
       "1                      0                     0                    0   \n",
       "\n",
       "   WIFI_Family_2MBPS  YMGX 100=1 hour FNF, 24H/1 month  Yewouleen_PKG  \\\n",
       "0                  0                                 0              0   \n",
       "1                  0                                 0              0   \n",
       "\n",
       "   pack_chinguitel_24h  pilot_offer5  pilot_offer6  \n",
       "0                    0             0             0  \n",
       "1                    0             0             0  \n",
       "\n",
       "[2 rows x 149 columns]"
      ]
     },
     "execution_count": 22,
     "metadata": {},
     "output_type": "execute_result"
    },
    {
     "data": {
      "text/plain": [
       "(400000, 149)"
      ]
     },
     "execution_count": 22,
     "metadata": {},
     "output_type": "execute_result"
    }
   ],
   "source": [
    "test.head(2)\n",
    "train.shape"
   ]
  },
  {
   "cell_type": "code",
   "execution_count": 23,
   "metadata": {},
   "outputs": [],
   "source": [
    "c = [i for i in train.columns if train[i].dtype == object]"
   ]
  },
  {
   "cell_type": "code",
   "execution_count": 24,
   "metadata": {},
   "outputs": [
    {
     "data": {
      "text/plain": [
       "0"
      ]
     },
     "execution_count": 24,
     "metadata": {},
     "output_type": "execute_result"
    }
   ],
   "source": [
    "len(c)"
   ]
  },
  {
   "cell_type": "code",
   "execution_count": 25,
   "metadata": {
    "scrolled": true
   },
   "outputs": [
    {
     "data": {
      "text/plain": [
       "((400000, 149), (400000,), (100000, 149))"
      ]
     },
     "execution_count": 25,
     "metadata": {},
     "output_type": "execute_result"
    }
   ],
   "source": [
    "train.shape, y.shape, test.shape"
   ]
  },
  {
   "cell_type": "code",
   "execution_count": 26,
   "metadata": {
    "scrolled": false
   },
   "outputs": [],
   "source": [
    "clust = [\n",
    "'REVENUE',\n",
    "'MONTANT',\n",
    "'FREQUENCE_RECH',\n",
    "'ARPU_SEGMENT',\n",
    "'FREQUENCE',\n",
    "'ON_NET',\n",
    "'ORANGE',\n",
    "'REGULARITY',\n",
    "'FREQ_TOP_PACK',\n",
    "'REG',\n",
    "'PACK']"
   ]
  },
  {
   "cell_type": "markdown",
   "metadata": {},
   "source": [
    "##### NOTE\n",
    "I already did feature selection and correlation to determine what features mattered in predicting customer churn for this dataset. So this clust variable above is not something I randomly chose"
   ]
  },
  {
   "cell_type": "code",
   "execution_count": 27,
   "metadata": {},
   "outputs": [],
   "source": [
    "# for j in clust:\n",
    "#     distortions = []\n",
    "#     if train[j].dtype == object:\n",
    "#         dummies = pd.get_dummies(train[j], drop_first=True)\n",
    "#         for i in range(1, 11):\n",
    "#             km = KMeans(\n",
    "#                 n_clusters=i, init='k-means++',\n",
    "#                 n_init=20, max_iter=300,\n",
    "#                 tol=1e-04, random_state=0\n",
    "#             )\n",
    "#             km.fit(dummies)\n",
    "#             distortions.append(km.inertia_)\n",
    "\n",
    "#         # plot\n",
    "#         print(j, km.inertia_)\n",
    "#         plt.plot(range(1, 11), distortions, marker='o')\n",
    "#         plt.xlabel('Number of clusters')\n",
    "#         plt.ylabel('Distortion')\n",
    "#         plt.show()\n",
    "    \n",
    "#     else:\n",
    "#         for i in range(1, 11):\n",
    "#             km = KMeans(\n",
    "#                 n_clusters=i, init='k-means++',\n",
    "#                 n_init=20, max_iter=300,\n",
    "#                 tol=1e-04, random_state=0\n",
    "#             )\n",
    "#             km.fit(pd.DataFrame(train[j]))\n",
    "#             distortions.append(km.inertia_)\n",
    "\n",
    "#         # plot\n",
    "\n",
    "#         print(j, km.inertia_)\n",
    "#         plt.plot(range(1, 11), distortions, marker='o')\n",
    "#         plt.xlabel('Number of clusters')\n",
    "#         plt.ylabel('Distortion')\n",
    "#         plt.show()"
   ]
  },
  {
   "cell_type": "markdown",
   "metadata": {},
   "source": [
    "The above cell is quite computationally expensive and should only be run if you're interested in seeing the plots I used in determining the optimal k values, using the elbow method, also most k values i got were 2."
   ]
  },
  {
   "cell_type": "code",
   "execution_count": 28,
   "metadata": {},
   "outputs": [],
   "source": [
    "kmeans = KMeans(\n",
    "        n_clusters=2, init='k-means++',\n",
    "        n_init=20, max_iter=300,\n",
    "        tol=1e-04, random_state=0\n",
    "    )"
   ]
  },
  {
   "cell_type": "code",
   "execution_count": 29,
   "metadata": {
    "scrolled": true
   },
   "outputs": [
    {
     "data": {
      "text/plain": [
       "KMeans(n_clusters=2, n_init=20, random_state=0)"
      ]
     },
     "execution_count": 29,
     "metadata": {},
     "output_type": "execute_result"
    },
    {
     "data": {
      "text/plain": [
       "KMeans(n_clusters=2, n_init=20, random_state=0)"
      ]
     },
     "execution_count": 29,
     "metadata": {},
     "output_type": "execute_result"
    },
    {
     "data": {
      "text/plain": [
       "KMeans(n_clusters=2, n_init=20, random_state=0)"
      ]
     },
     "execution_count": 29,
     "metadata": {},
     "output_type": "execute_result"
    },
    {
     "data": {
      "text/plain": [
       "KMeans(n_clusters=2, n_init=20, random_state=0)"
      ]
     },
     "execution_count": 29,
     "metadata": {},
     "output_type": "execute_result"
    },
    {
     "data": {
      "text/plain": [
       "KMeans(n_clusters=2, n_init=20, random_state=0)"
      ]
     },
     "execution_count": 29,
     "metadata": {},
     "output_type": "execute_result"
    },
    {
     "data": {
      "text/plain": [
       "KMeans(n_clusters=2, n_init=20, random_state=0)"
      ]
     },
     "execution_count": 29,
     "metadata": {},
     "output_type": "execute_result"
    },
    {
     "data": {
      "text/plain": [
       "KMeans(n_clusters=2, n_init=20, random_state=0)"
      ]
     },
     "execution_count": 29,
     "metadata": {},
     "output_type": "execute_result"
    },
    {
     "data": {
      "text/plain": [
       "KMeans(n_clusters=2, n_init=20, random_state=0)"
      ]
     },
     "execution_count": 29,
     "metadata": {},
     "output_type": "execute_result"
    },
    {
     "data": {
      "text/plain": [
       "KMeans(n_clusters=2, n_init=20, random_state=0)"
      ]
     },
     "execution_count": 29,
     "metadata": {},
     "output_type": "execute_result"
    },
    {
     "data": {
      "text/plain": [
       "KMeans(n_clusters=2, n_init=20, random_state=0)"
      ]
     },
     "execution_count": 29,
     "metadata": {},
     "output_type": "execute_result"
    },
    {
     "data": {
      "text/plain": [
       "KMeans(n_clusters=2, n_init=20, random_state=0)"
      ]
     },
     "execution_count": 29,
     "metadata": {},
     "output_type": "execute_result"
    }
   ],
   "source": [
    "for col in clust:\n",
    "    if train[col].dtype == object:\n",
    "        dummies = pd.get_dummies(train[col], drop_first=True)\n",
    "        test_dum = pd.get_dummies(test[col], drop_first=True)\n",
    "        kmeans.fit(dummies)\n",
    "        train[col+'_grouped'] = kmeans.labels_\n",
    "        test[col+'_grouped'] = kmeans.predict(test_dum)\n",
    "    else:\n",
    "        kmeans.fit(pd.DataFrame(train[col]))\n",
    "        train[col+'_grouped'] = kmeans.labels_\n",
    "        test[col+'_grouped'] = kmeans.predict(pd.DataFrame(test[col]))"
   ]
  },
  {
   "cell_type": "code",
   "execution_count": 30,
   "metadata": {},
   "outputs": [
    {
     "data": {
      "text/html": [
       "<div>\n",
       "<style scoped>\n",
       "    .dataframe tbody tr th:only-of-type {\n",
       "        vertical-align: middle;\n",
       "    }\n",
       "\n",
       "    .dataframe tbody tr th {\n",
       "        vertical-align: top;\n",
       "    }\n",
       "\n",
       "    .dataframe thead th {\n",
       "        text-align: right;\n",
       "    }\n",
       "</style>\n",
       "<table border=\"1\" class=\"dataframe\">\n",
       "  <thead>\n",
       "    <tr style=\"text-align: right;\">\n",
       "      <th></th>\n",
       "      <th>MONTANT</th>\n",
       "      <th>FREQUENCE_RECH</th>\n",
       "      <th>REVENUE</th>\n",
       "      <th>ARPU_SEGMENT</th>\n",
       "      <th>FREQUENCE</th>\n",
       "      <th>DATA_VOLUME</th>\n",
       "      <th>ON_NET</th>\n",
       "      <th>ORANGE</th>\n",
       "      <th>TIGO</th>\n",
       "      <th>ZONE1</th>\n",
       "      <th>...</th>\n",
       "      <th>MONTANT_grouped</th>\n",
       "      <th>FREQUENCE_RECH_grouped</th>\n",
       "      <th>ARPU_SEGMENT_grouped</th>\n",
       "      <th>FREQUENCE_grouped</th>\n",
       "      <th>ON_NET_grouped</th>\n",
       "      <th>ORANGE_grouped</th>\n",
       "      <th>REGULARITY_grouped</th>\n",
       "      <th>FREQ_TOP_PACK_grouped</th>\n",
       "      <th>REG_grouped</th>\n",
       "      <th>PACK_grouped</th>\n",
       "    </tr>\n",
       "  </thead>\n",
       "  <tbody>\n",
       "    <tr>\n",
       "      <th>0</th>\n",
       "      <td>17000.0</td>\n",
       "      <td>32.0</td>\n",
       "      <td>18000.0</td>\n",
       "      <td>6000.0</td>\n",
       "      <td>34.0</td>\n",
       "      <td>-99999.0</td>\n",
       "      <td>97.0</td>\n",
       "      <td>355.0</td>\n",
       "      <td>6.0</td>\n",
       "      <td>-99999.0</td>\n",
       "      <td>...</td>\n",
       "      <td>1</td>\n",
       "      <td>1</td>\n",
       "      <td>1</td>\n",
       "      <td>0</td>\n",
       "      <td>0</td>\n",
       "      <td>0</td>\n",
       "      <td>1</td>\n",
       "      <td>0</td>\n",
       "      <td>1</td>\n",
       "      <td>1</td>\n",
       "    </tr>\n",
       "    <tr>\n",
       "      <th>1</th>\n",
       "      <td>4300.0</td>\n",
       "      <td>29.0</td>\n",
       "      <td>4427.0</td>\n",
       "      <td>1476.0</td>\n",
       "      <td>37.0</td>\n",
       "      <td>1764.0</td>\n",
       "      <td>8.0</td>\n",
       "      <td>3.0</td>\n",
       "      <td>0.0</td>\n",
       "      <td>-99999.0</td>\n",
       "      <td>...</td>\n",
       "      <td>1</td>\n",
       "      <td>1</td>\n",
       "      <td>1</td>\n",
       "      <td>0</td>\n",
       "      <td>0</td>\n",
       "      <td>0</td>\n",
       "      <td>1</td>\n",
       "      <td>0</td>\n",
       "      <td>0</td>\n",
       "      <td>1</td>\n",
       "    </tr>\n",
       "    <tr>\n",
       "      <th>2</th>\n",
       "      <td>1500.0</td>\n",
       "      <td>3.0</td>\n",
       "      <td>1500.0</td>\n",
       "      <td>500.0</td>\n",
       "      <td>3.0</td>\n",
       "      <td>-99999.0</td>\n",
       "      <td>30.0</td>\n",
       "      <td>30.0</td>\n",
       "      <td>-99999.0</td>\n",
       "      <td>-99999.0</td>\n",
       "      <td>...</td>\n",
       "      <td>1</td>\n",
       "      <td>1</td>\n",
       "      <td>1</td>\n",
       "      <td>0</td>\n",
       "      <td>0</td>\n",
       "      <td>0</td>\n",
       "      <td>1</td>\n",
       "      <td>0</td>\n",
       "      <td>1</td>\n",
       "      <td>1</td>\n",
       "    </tr>\n",
       "  </tbody>\n",
       "</table>\n",
       "<p>3 rows × 160 columns</p>\n",
       "</div>"
      ],
      "text/plain": [
       "   MONTANT  FREQUENCE_RECH  REVENUE  ARPU_SEGMENT  FREQUENCE  DATA_VOLUME  \\\n",
       "0  17000.0            32.0  18000.0        6000.0       34.0     -99999.0   \n",
       "1   4300.0            29.0   4427.0        1476.0       37.0       1764.0   \n",
       "2   1500.0             3.0   1500.0         500.0        3.0     -99999.0   \n",
       "\n",
       "   ON_NET  ORANGE     TIGO    ZONE1  ...  MONTANT_grouped  \\\n",
       "0    97.0   355.0      6.0 -99999.0  ...                1   \n",
       "1     8.0     3.0      0.0 -99999.0  ...                1   \n",
       "2    30.0    30.0 -99999.0 -99999.0  ...                1   \n",
       "\n",
       "   FREQUENCE_RECH_grouped  ARPU_SEGMENT_grouped  FREQUENCE_grouped  \\\n",
       "0                       1                     1                  0   \n",
       "1                       1                     1                  0   \n",
       "2                       1                     1                  0   \n",
       "\n",
       "   ON_NET_grouped  ORANGE_grouped  REGULARITY_grouped  FREQ_TOP_PACK_grouped  \\\n",
       "0               0               0                   1                      0   \n",
       "1               0               0                   1                      0   \n",
       "2               0               0                   1                      0   \n",
       "\n",
       "   REG_grouped  PACK_grouped  \n",
       "0            1             1  \n",
       "1            0             1  \n",
       "2            1             1  \n",
       "\n",
       "[3 rows x 160 columns]"
      ]
     },
     "execution_count": 30,
     "metadata": {},
     "output_type": "execute_result"
    }
   ],
   "source": [
    "train.head(3)"
   ]
  },
  {
   "cell_type": "code",
   "execution_count": 31,
   "metadata": {},
   "outputs": [
    {
     "data": {
      "text/plain": [
       "((400000, 160), (100000, 160))"
      ]
     },
     "execution_count": 31,
     "metadata": {},
     "output_type": "execute_result"
    }
   ],
   "source": [
    "train.shape, test.shape"
   ]
  },
  {
   "cell_type": "code",
   "execution_count": 32,
   "metadata": {},
   "outputs": [],
   "source": [
    "train['sep'] = 1\n",
    "test['sep'] = np.nan"
   ]
  },
  {
   "cell_type": "code",
   "execution_count": 33,
   "metadata": {},
   "outputs": [],
   "source": [
    "data = pd.concat([train,test],axis=0)\n",
    "data = data.reset_index(drop=True)"
   ]
  },
  {
   "cell_type": "code",
   "execution_count": 34,
   "metadata": {},
   "outputs": [],
   "source": [
    "grouped = train.columns.to_list()[-12:]"
   ]
  },
  {
   "cell_type": "code",
   "execution_count": 35,
   "metadata": {},
   "outputs": [],
   "source": [
    "grouped.remove('sep')"
   ]
  },
  {
   "cell_type": "code",
   "execution_count": 36,
   "metadata": {},
   "outputs": [
    {
     "data": {
      "text/plain": [
       "['REVENUE_grouped',\n",
       " 'MONTANT_grouped',\n",
       " 'FREQUENCE_RECH_grouped',\n",
       " 'ARPU_SEGMENT_grouped',\n",
       " 'FREQUENCE_grouped',\n",
       " 'ON_NET_grouped',\n",
       " 'ORANGE_grouped',\n",
       " 'REGULARITY_grouped',\n",
       " 'FREQ_TOP_PACK_grouped',\n",
       " 'REG_grouped',\n",
       " 'PACK_grouped']"
      ]
     },
     "execution_count": 36,
     "metadata": {},
     "output_type": "execute_result"
    }
   ],
   "source": [
    "grouped"
   ]
  },
  {
   "cell_type": "code",
   "execution_count": 37,
   "metadata": {
    "scrolled": false
   },
   "outputs": [],
   "source": [
    "REVENUE_grouped = pd.get_dummies(data.REVENUE_grouped, prefix = 'rev')\n",
    "\n",
    "MONTANT_grouped = pd.get_dummies(data.MONTANT_grouped, prefix = 'mon')\n",
    "\n",
    "FREQUENCE_RECH_grouped = pd.get_dummies(data.FREQUENCE_RECH_grouped, prefix = 'FR')\n",
    "\n",
    "ON_NET_grouped = pd.get_dummies(data.ON_NET_grouped, prefix = 'ON_N')\n",
    "\n",
    "ARPU_SEGMENT_grouped = pd.get_dummies(data.ARPU_SEGMENT_grouped, prefix = 'ARp')\n",
    "\n",
    "FREQUENCE_grouped = pd.get_dummies(data.FREQUENCE_grouped, prefix = 'FREQUE')\n",
    "\n",
    "ORANGE_grouped = pd.get_dummies(data.ORANGE_grouped, prefix = 'ORN')\n",
    "\n",
    "REGULARITY_grouped = pd.get_dummies(data.REGULARITY_grouped, prefix = 'REGU')\n",
    "\n",
    "FREQ_TOP_PACK_grouped = pd.get_dummies(data.FREQ_TOP_PACK_grouped, prefix = 'FREQTP')\n",
    "\n",
    "REG_grouped = pd.get_dummies(data.REG_grouped, prefix = 'R')\n",
    "\n",
    "PACK_grouped = pd.get_dummies(data.PACK_grouped, prefix = 'PK')"
   ]
  },
  {
   "cell_type": "code",
   "execution_count": 38,
   "metadata": {},
   "outputs": [],
   "source": [
    "# I later realized I could have also done data = pd.get_dummies(data, prefix = grouped, columns = grouped), but I still like it this way."
   ]
  },
  {
   "cell_type": "code",
   "execution_count": 39,
   "metadata": {},
   "outputs": [],
   "source": [
    "data = pd.concat([data,REG_grouped,REGULARITY_grouped,REVENUE_grouped, MONTANT_grouped,FREQ_TOP_PACK_grouped, FREQUENCE_grouped, FREQUENCE_RECH_grouped, ON_NET_grouped,ARPU_SEGMENT_grouped, ORANGE_grouped,PACK_grouped ],axis=1) #"
   ]
  },
  {
   "cell_type": "code",
   "execution_count": 40,
   "metadata": {
    "scrolled": true
   },
   "outputs": [
    {
     "data": {
      "text/html": [
       "<div>\n",
       "<style scoped>\n",
       "    .dataframe tbody tr th:only-of-type {\n",
       "        vertical-align: middle;\n",
       "    }\n",
       "\n",
       "    .dataframe tbody tr th {\n",
       "        vertical-align: top;\n",
       "    }\n",
       "\n",
       "    .dataframe thead th {\n",
       "        text-align: right;\n",
       "    }\n",
       "</style>\n",
       "<table border=\"1\" class=\"dataframe\">\n",
       "  <thead>\n",
       "    <tr style=\"text-align: right;\">\n",
       "      <th></th>\n",
       "      <th>MONTANT</th>\n",
       "      <th>FREQUENCE_RECH</th>\n",
       "      <th>REVENUE</th>\n",
       "      <th>ARPU_SEGMENT</th>\n",
       "      <th>FREQUENCE</th>\n",
       "      <th>DATA_VOLUME</th>\n",
       "      <th>ON_NET</th>\n",
       "      <th>ORANGE</th>\n",
       "      <th>TIGO</th>\n",
       "      <th>ZONE1</th>\n",
       "      <th>...</th>\n",
       "      <th>FR_0</th>\n",
       "      <th>FR_1</th>\n",
       "      <th>ON_N_0</th>\n",
       "      <th>ON_N_1</th>\n",
       "      <th>ARp_0</th>\n",
       "      <th>ARp_1</th>\n",
       "      <th>ORN_0</th>\n",
       "      <th>ORN_1</th>\n",
       "      <th>PK_0</th>\n",
       "      <th>PK_1</th>\n",
       "    </tr>\n",
       "  </thead>\n",
       "  <tbody>\n",
       "    <tr>\n",
       "      <th>0</th>\n",
       "      <td>17000.0</td>\n",
       "      <td>32.0</td>\n",
       "      <td>18000.0</td>\n",
       "      <td>6000.0</td>\n",
       "      <td>34.0</td>\n",
       "      <td>-99999.0</td>\n",
       "      <td>97.0</td>\n",
       "      <td>355.0</td>\n",
       "      <td>6.0</td>\n",
       "      <td>-99999.0</td>\n",
       "      <td>...</td>\n",
       "      <td>0</td>\n",
       "      <td>1</td>\n",
       "      <td>1</td>\n",
       "      <td>0</td>\n",
       "      <td>0</td>\n",
       "      <td>1</td>\n",
       "      <td>1</td>\n",
       "      <td>0</td>\n",
       "      <td>0</td>\n",
       "      <td>1</td>\n",
       "    </tr>\n",
       "    <tr>\n",
       "      <th>1</th>\n",
       "      <td>4300.0</td>\n",
       "      <td>29.0</td>\n",
       "      <td>4427.0</td>\n",
       "      <td>1476.0</td>\n",
       "      <td>37.0</td>\n",
       "      <td>1764.0</td>\n",
       "      <td>8.0</td>\n",
       "      <td>3.0</td>\n",
       "      <td>0.0</td>\n",
       "      <td>-99999.0</td>\n",
       "      <td>...</td>\n",
       "      <td>0</td>\n",
       "      <td>1</td>\n",
       "      <td>1</td>\n",
       "      <td>0</td>\n",
       "      <td>0</td>\n",
       "      <td>1</td>\n",
       "      <td>1</td>\n",
       "      <td>0</td>\n",
       "      <td>0</td>\n",
       "      <td>1</td>\n",
       "    </tr>\n",
       "    <tr>\n",
       "      <th>2</th>\n",
       "      <td>1500.0</td>\n",
       "      <td>3.0</td>\n",
       "      <td>1500.0</td>\n",
       "      <td>500.0</td>\n",
       "      <td>3.0</td>\n",
       "      <td>-99999.0</td>\n",
       "      <td>30.0</td>\n",
       "      <td>30.0</td>\n",
       "      <td>-99999.0</td>\n",
       "      <td>-99999.0</td>\n",
       "      <td>...</td>\n",
       "      <td>0</td>\n",
       "      <td>1</td>\n",
       "      <td>1</td>\n",
       "      <td>0</td>\n",
       "      <td>0</td>\n",
       "      <td>1</td>\n",
       "      <td>1</td>\n",
       "      <td>0</td>\n",
       "      <td>0</td>\n",
       "      <td>1</td>\n",
       "    </tr>\n",
       "  </tbody>\n",
       "</table>\n",
       "<p>3 rows × 183 columns</p>\n",
       "</div>"
      ],
      "text/plain": [
       "   MONTANT  FREQUENCE_RECH  REVENUE  ARPU_SEGMENT  FREQUENCE  DATA_VOLUME  \\\n",
       "0  17000.0            32.0  18000.0        6000.0       34.0     -99999.0   \n",
       "1   4300.0            29.0   4427.0        1476.0       37.0       1764.0   \n",
       "2   1500.0             3.0   1500.0         500.0        3.0     -99999.0   \n",
       "\n",
       "   ON_NET  ORANGE     TIGO    ZONE1  ...  FR_0  FR_1  ON_N_0  ON_N_1  ARp_0  \\\n",
       "0    97.0   355.0      6.0 -99999.0  ...     0     1       1       0      0   \n",
       "1     8.0     3.0      0.0 -99999.0  ...     0     1       1       0      0   \n",
       "2    30.0    30.0 -99999.0 -99999.0  ...     0     1       1       0      0   \n",
       "\n",
       "   ARp_1  ORN_0  ORN_1  PK_0  PK_1  \n",
       "0      1      1      0     0     1  \n",
       "1      1      1      0     0     1  \n",
       "2      1      1      0     0     1  \n",
       "\n",
       "[3 rows x 183 columns]"
      ]
     },
     "execution_count": 40,
     "metadata": {},
     "output_type": "execute_result"
    }
   ],
   "source": [
    "data.head(3)"
   ]
  },
  {
   "cell_type": "code",
   "execution_count": 41,
   "metadata": {
    "scrolled": true
   },
   "outputs": [],
   "source": [
    "train=data[data.sep.notnull()].reset_index(drop=True)\n",
    "test=data[data.sep.isna()].reset_index(drop=True)"
   ]
  },
  {
   "cell_type": "code",
   "execution_count": 42,
   "metadata": {},
   "outputs": [],
   "source": [
    "train.drop(columns=['sep'], inplace=True)\n",
    "test.drop(columns=['sep'], inplace=True)"
   ]
  },
  {
   "cell_type": "code",
   "execution_count": 44,
   "metadata": {},
   "outputs": [
    {
     "data": {
      "text/plain": [
       "KMeans(n_clusters=1, n_init=20, random_state=0)"
      ]
     },
     "execution_count": 44,
     "metadata": {},
     "output_type": "execute_result"
    },
    {
     "data": {
      "text/plain": [
       "KMeans(n_clusters=2, n_init=20, random_state=0)"
      ]
     },
     "execution_count": 44,
     "metadata": {},
     "output_type": "execute_result"
    },
    {
     "data": {
      "text/plain": [
       "KMeans(n_clusters=3, n_init=20, random_state=0)"
      ]
     },
     "execution_count": 44,
     "metadata": {},
     "output_type": "execute_result"
    },
    {
     "data": {
      "text/plain": [
       "KMeans(n_clusters=4, n_init=20, random_state=0)"
      ]
     },
     "execution_count": 44,
     "metadata": {},
     "output_type": "execute_result"
    },
    {
     "data": {
      "text/plain": [
       "KMeans(n_clusters=5, n_init=20, random_state=0)"
      ]
     },
     "execution_count": 44,
     "metadata": {},
     "output_type": "execute_result"
    },
    {
     "data": {
      "text/plain": [
       "KMeans(n_clusters=6, n_init=20, random_state=0)"
      ]
     },
     "execution_count": 44,
     "metadata": {},
     "output_type": "execute_result"
    },
    {
     "data": {
      "text/plain": [
       "KMeans(n_clusters=7, n_init=20, random_state=0)"
      ]
     },
     "execution_count": 44,
     "metadata": {},
     "output_type": "execute_result"
    },
    {
     "data": {
      "text/plain": [
       "KMeans(n_init=20, random_state=0)"
      ]
     },
     "execution_count": 44,
     "metadata": {},
     "output_type": "execute_result"
    },
    {
     "data": {
      "text/plain": [
       "KMeans(n_clusters=9, n_init=20, random_state=0)"
      ]
     },
     "execution_count": 44,
     "metadata": {},
     "output_type": "execute_result"
    },
    {
     "data": {
      "text/plain": [
       "KMeans(n_clusters=10, n_init=20, random_state=0)"
      ]
     },
     "execution_count": 44,
     "metadata": {},
     "output_type": "execute_result"
    },
    {
     "data": {
      "text/plain": [
       "[<matplotlib.lines.Line2D at 0x3c87451320>]"
      ]
     },
     "execution_count": 44,
     "metadata": {},
     "output_type": "execute_result"
    },
    {
     "data": {
      "text/plain": [
       "Text(0.5, 0, 'Number of clusters')"
      ]
     },
     "execution_count": 44,
     "metadata": {},
     "output_type": "execute_result"
    },
    {
     "data": {
      "text/plain": [
       "Text(0, 0.5, 'Distortion')"
      ]
     },
     "execution_count": 44,
     "metadata": {},
     "output_type": "execute_result"
    },
    {
     "data": {
      "image/png": "[encoded data removed]",
      "text/plain": [
       "<Figure size 432x288 with 1 Axes>"
      ]
     },
     "metadata": {
      "needs_background": "light"
     },
     "output_type": "display_data"
    }
   ],
   "source": [
    "distortions = []\n",
    "for i in range(1, 11):\n",
    "    km = KMeans(\n",
    "        n_clusters=i, init='k-means++',\n",
    "        n_init=20, max_iter=300,\n",
    "        tol=1e-04, random_state=0\n",
    "    )\n",
    "    km.fit(pd.DataFrame(train))\n",
    "    distortions.append(km.inertia_)\n",
    "\n",
    "# plot\n",
    "plt.plot(range(1, 11), distortions, marker='o')\n",
    "plt.xlabel('Number of clusters')\n",
    "plt.ylabel('Distortion')\n",
    "plt.show()"
   ]
  },
  {
   "cell_type": "markdown",
   "metadata": {},
   "source": [
    "The above cell is quite computationally expensive and should only be run if you're interested in seeing the plots I used in determining the optimal k values, using the elbow method, also most k values i got were 2."
   ]
  },
  {
   "cell_type": "code",
   "execution_count": 44,
   "metadata": {},
   "outputs": [],
   "source": [
    "km = KMeans(\n",
    "        n_clusters=3, init='k-means++',\n",
    "        n_init=20, max_iter=300,\n",
    "        tol=1e-04, random_state=0\n",
    "    )"
   ]
  },
  {
   "cell_type": "code",
   "execution_count": 45,
   "metadata": {},
   "outputs": [
    {
     "data": {
      "text/plain": [
       "KMeans(n_clusters=3, n_init=20, random_state=0)"
      ]
     },
     "execution_count": 45,
     "metadata": {},
     "output_type": "execute_result"
    }
   ],
   "source": [
    "km.fit(train)"
   ]
  },
  {
   "cell_type": "code",
   "execution_count": 46,
   "metadata": {},
   "outputs": [],
   "source": [
    "train['groups'] = km.labels_\n",
    "test['groups'] = km.predict(test)"
   ]
  },
  {
   "cell_type": "code",
   "execution_count": 47,
   "metadata": {
    "scrolled": true
   },
   "outputs": [
    {
     "data": {
      "text/plain": [
       "((400000, 183), (400000,), (100000, 183))"
      ]
     },
     "execution_count": 47,
     "metadata": {},
     "output_type": "execute_result"
    }
   ],
   "source": [
    "train.shape, y.shape, test.shape"
   ]
  },
  {
   "cell_type": "code",
   "execution_count": 48,
   "metadata": {
    "scrolled": false
   },
   "outputs": [
    {
     "data": {
      "text/html": [
       "<div>\n",
       "<style scoped>\n",
       "    .dataframe tbody tr th:only-of-type {\n",
       "        vertical-align: middle;\n",
       "    }\n",
       "\n",
       "    .dataframe tbody tr th {\n",
       "        vertical-align: top;\n",
       "    }\n",
       "\n",
       "    .dataframe thead th {\n",
       "        text-align: right;\n",
       "    }\n",
       "</style>\n",
       "<table border=\"1\" class=\"dataframe\">\n",
       "  <thead>\n",
       "    <tr style=\"text-align: right;\">\n",
       "      <th></th>\n",
       "      <th>MONTANT</th>\n",
       "      <th>FREQUENCE_RECH</th>\n",
       "      <th>REVENUE</th>\n",
       "      <th>ARPU_SEGMENT</th>\n",
       "      <th>FREQUENCE</th>\n",
       "      <th>DATA_VOLUME</th>\n",
       "      <th>ON_NET</th>\n",
       "      <th>ORANGE</th>\n",
       "      <th>TIGO</th>\n",
       "      <th>ZONE1</th>\n",
       "      <th>...</th>\n",
       "      <th>FR_1</th>\n",
       "      <th>ON_N_0</th>\n",
       "      <th>ON_N_1</th>\n",
       "      <th>ARp_0</th>\n",
       "      <th>ARp_1</th>\n",
       "      <th>ORN_0</th>\n",
       "      <th>ORN_1</th>\n",
       "      <th>PK_0</th>\n",
       "      <th>PK_1</th>\n",
       "      <th>groups</th>\n",
       "    </tr>\n",
       "  </thead>\n",
       "  <tbody>\n",
       "    <tr>\n",
       "      <th>0</th>\n",
       "      <td>17000.0</td>\n",
       "      <td>32.0</td>\n",
       "      <td>18000.0</td>\n",
       "      <td>6000.0</td>\n",
       "      <td>34.0</td>\n",
       "      <td>-99999.0</td>\n",
       "      <td>97.0</td>\n",
       "      <td>355.0</td>\n",
       "      <td>6.0</td>\n",
       "      <td>-99999.0</td>\n",
       "      <td>...</td>\n",
       "      <td>1</td>\n",
       "      <td>1</td>\n",
       "      <td>0</td>\n",
       "      <td>0</td>\n",
       "      <td>1</td>\n",
       "      <td>1</td>\n",
       "      <td>0</td>\n",
       "      <td>0</td>\n",
       "      <td>1</td>\n",
       "      <td>2</td>\n",
       "    </tr>\n",
       "    <tr>\n",
       "      <th>1</th>\n",
       "      <td>4300.0</td>\n",
       "      <td>29.0</td>\n",
       "      <td>4427.0</td>\n",
       "      <td>1476.0</td>\n",
       "      <td>37.0</td>\n",
       "      <td>1764.0</td>\n",
       "      <td>8.0</td>\n",
       "      <td>3.0</td>\n",
       "      <td>0.0</td>\n",
       "      <td>-99999.0</td>\n",
       "      <td>...</td>\n",
       "      <td>1</td>\n",
       "      <td>1</td>\n",
       "      <td>0</td>\n",
       "      <td>0</td>\n",
       "      <td>1</td>\n",
       "      <td>1</td>\n",
       "      <td>0</td>\n",
       "      <td>0</td>\n",
       "      <td>1</td>\n",
       "      <td>2</td>\n",
       "    </tr>\n",
       "    <tr>\n",
       "      <th>2</th>\n",
       "      <td>1500.0</td>\n",
       "      <td>3.0</td>\n",
       "      <td>1500.0</td>\n",
       "      <td>500.0</td>\n",
       "      <td>3.0</td>\n",
       "      <td>-99999.0</td>\n",
       "      <td>30.0</td>\n",
       "      <td>30.0</td>\n",
       "      <td>-99999.0</td>\n",
       "      <td>-99999.0</td>\n",
       "      <td>...</td>\n",
       "      <td>1</td>\n",
       "      <td>1</td>\n",
       "      <td>0</td>\n",
       "      <td>0</td>\n",
       "      <td>1</td>\n",
       "      <td>1</td>\n",
       "      <td>0</td>\n",
       "      <td>0</td>\n",
       "      <td>1</td>\n",
       "      <td>1</td>\n",
       "    </tr>\n",
       "  </tbody>\n",
       "</table>\n",
       "<p>3 rows × 183 columns</p>\n",
       "</div>"
      ],
      "text/plain": [
       "   MONTANT  FREQUENCE_RECH  REVENUE  ARPU_SEGMENT  FREQUENCE  DATA_VOLUME  \\\n",
       "0  17000.0            32.0  18000.0        6000.0       34.0     -99999.0   \n",
       "1   4300.0            29.0   4427.0        1476.0       37.0       1764.0   \n",
       "2   1500.0             3.0   1500.0         500.0        3.0     -99999.0   \n",
       "\n",
       "   ON_NET  ORANGE     TIGO    ZONE1  ...  FR_1  ON_N_0  ON_N_1  ARp_0  ARp_1  \\\n",
       "0    97.0   355.0      6.0 -99999.0  ...     1       1       0      0      1   \n",
       "1     8.0     3.0      0.0 -99999.0  ...     1       1       0      0      1   \n",
       "2    30.0    30.0 -99999.0 -99999.0  ...     1       1       0      0      1   \n",
       "\n",
       "   ORN_0  ORN_1  PK_0  PK_1  groups  \n",
       "0      1      0     0     1       2  \n",
       "1      1      0     0     1       2  \n",
       "2      1      0     0     1       1  \n",
       "\n",
       "[3 rows x 183 columns]"
      ]
     },
     "execution_count": 48,
     "metadata": {},
     "output_type": "execute_result"
    }
   ],
   "source": [
    "train.head(3)"
   ]
  },
  {
   "cell_type": "markdown",
   "metadata": {},
   "source": [
    "##### Local Validation"
   ]
  },
  {
   "cell_type": "code",
   "execution_count": 45,
   "metadata": {},
   "outputs": [],
   "source": [
    "X_1, X_2, y_1, y_2 = train_test_split(train, y, test_size = 0.01, random_state = 0)"
   ]
  },
  {
   "cell_type": "code",
   "execution_count": 46,
   "metadata": {},
   "outputs": [],
   "source": [
    "X_3, X_4, y_3, y_4 = train_test_split(X_2, y_2, test_size = 0.1, random_state = 2001)"
   ]
  },
  {
   "cell_type": "code",
   "execution_count": 47,
   "metadata": {},
   "outputs": [
    {
     "data": {
      "text/plain": [
       "((3600, 182), (3600,))"
      ]
     },
     "execution_count": 47,
     "metadata": {},
     "output_type": "execute_result"
    }
   ],
   "source": [
    "X_3.shape, y_3.shape"
   ]
  },
  {
   "cell_type": "code",
   "execution_count": 52,
   "metadata": {},
   "outputs": [],
   "source": [
    "val_model = CatBoostClassifier(random_seed=0, n_estimators=1200)"
   ]
  },
  {
   "cell_type": "code",
   "execution_count": 53,
   "metadata": {},
   "outputs": [
    {
     "name": "stdout",
     "output_type": "stream",
     "text": [
      "Learning rate set to 0.015061\n",
      "0:\tlearn: 0.6671695\ttotal: 368ms\tremaining: 7m 21s\n",
      "1:\tlearn: 0.6461074\ttotal: 383ms\tremaining: 3m 49s\n",
      "2:\tlearn: 0.6234335\ttotal: 407ms\tremaining: 2m 42s\n",
      "3:\tlearn: 0.6017402\ttotal: 431ms\tremaining: 2m 8s\n",
      "4:\tlearn: 0.5816300\ttotal: 454ms\tremaining: 1m 48s\n",
      "5:\tlearn: 0.5626531\ttotal: 476ms\tremaining: 1m 34s\n",
      "6:\tlearn: 0.5469134\ttotal: 498ms\tremaining: 1m 24s\n",
      "7:\tlearn: 0.5299518\ttotal: 528ms\tremaining: 1m 18s\n",
      "8:\tlearn: 0.5150593\ttotal: 550ms\tremaining: 1m 12s\n",
      "9:\tlearn: 0.4997163\ttotal: 584ms\tremaining: 1m 9s\n",
      "10:\tlearn: 0.4861292\ttotal: 609ms\tremaining: 1m 5s\n",
      "11:\tlearn: 0.4735766\ttotal: 639ms\tremaining: 1m 3s\n",
      "12:\tlearn: 0.4606597\ttotal: 664ms\tremaining: 1m\n",
      "13:\tlearn: 0.4495739\ttotal: 682ms\tremaining: 57.7s\n",
      "14:\tlearn: 0.4390291\ttotal: 702ms\tremaining: 55.4s\n",
      "15:\tlearn: 0.4328558\ttotal: 732ms\tremaining: 54.2s\n",
      "16:\tlearn: 0.4238303\ttotal: 764ms\tremaining: 53.2s\n",
      "17:\tlearn: 0.4143783\ttotal: 789ms\tremaining: 51.8s\n",
      "18:\tlearn: 0.4056761\ttotal: 813ms\tremaining: 50.5s\n",
      "19:\tlearn: 0.3974014\ttotal: 838ms\tremaining: 49.4s\n",
      "20:\tlearn: 0.3905340\ttotal: 866ms\tremaining: 48.6s\n",
      "21:\tlearn: 0.3832164\ttotal: 903ms\tremaining: 48.3s\n",
      "22:\tlearn: 0.3767340\ttotal: 925ms\tremaining: 47.4s\n",
      "23:\tlearn: 0.3705225\ttotal: 953ms\tremaining: 46.7s\n",
      "24:\tlearn: 0.3646423\ttotal: 982ms\tremaining: 46.2s\n",
      "25:\tlearn: 0.3590394\ttotal: 1s\tremaining: 45.4s\n",
      "26:\tlearn: 0.3533492\ttotal: 1.03s\tremaining: 44.7s\n",
      "27:\tlearn: 0.3479871\ttotal: 1.07s\tremaining: 44.8s\n",
      "28:\tlearn: 0.3431032\ttotal: 1.1s\tremaining: 44.3s\n",
      "29:\tlearn: 0.3383374\ttotal: 1.12s\tremaining: 43.7s\n",
      "30:\tlearn: 0.3342547\ttotal: 1.15s\tremaining: 43.3s\n",
      "31:\tlearn: 0.3302841\ttotal: 1.18s\tremaining: 43.1s\n",
      "32:\tlearn: 0.3263695\ttotal: 1.21s\tremaining: 42.7s\n",
      "33:\tlearn: 0.3230810\ttotal: 1.23s\tremaining: 42.3s\n",
      "34:\tlearn: 0.3199334\ttotal: 1.26s\tremaining: 42.1s\n",
      "35:\tlearn: 0.3162146\ttotal: 1.29s\tremaining: 41.6s\n",
      "36:\tlearn: 0.3133224\ttotal: 1.31s\tremaining: 41.2s\n",
      "37:\tlearn: 0.3103442\ttotal: 1.33s\tremaining: 40.9s\n",
      "38:\tlearn: 0.3077540\ttotal: 1.36s\tremaining: 40.6s\n",
      "39:\tlearn: 0.3052567\ttotal: 1.38s\tremaining: 40s\n",
      "40:\tlearn: 0.3024683\ttotal: 1.41s\tremaining: 39.8s\n",
      "41:\tlearn: 0.3003832\ttotal: 1.43s\tremaining: 39.5s\n",
      "42:\tlearn: 0.2980549\ttotal: 1.45s\tremaining: 39.1s\n",
      "43:\tlearn: 0.2958383\ttotal: 1.49s\tremaining: 39.1s\n",
      "44:\tlearn: 0.2939863\ttotal: 1.51s\tremaining: 38.8s\n",
      "45:\tlearn: 0.2921281\ttotal: 1.54s\tremaining: 38.6s\n",
      "46:\tlearn: 0.2899565\ttotal: 1.56s\tremaining: 38.4s\n",
      "47:\tlearn: 0.2881749\ttotal: 1.59s\tremaining: 38.1s\n",
      "48:\tlearn: 0.2871952\ttotal: 1.61s\tremaining: 37.9s\n",
      "49:\tlearn: 0.2854095\ttotal: 1.64s\tremaining: 37.7s\n",
      "50:\tlearn: 0.2837897\ttotal: 1.66s\tremaining: 37.5s\n",
      "51:\tlearn: 0.2819092\ttotal: 1.69s\tremaining: 37.4s\n",
      "52:\tlearn: 0.2806534\ttotal: 1.72s\tremaining: 37.2s\n",
      "53:\tlearn: 0.2791621\ttotal: 1.74s\tremaining: 36.9s\n",
      "54:\tlearn: 0.2778485\ttotal: 1.76s\tremaining: 36.6s\n",
      "55:\tlearn: 0.2764817\ttotal: 1.78s\tremaining: 36.5s\n",
      "56:\tlearn: 0.2752830\ttotal: 1.81s\tremaining: 36.2s\n",
      "57:\tlearn: 0.2741790\ttotal: 1.84s\tremaining: 36.2s\n",
      "58:\tlearn: 0.2730917\ttotal: 1.86s\tremaining: 35.9s\n",
      "59:\tlearn: 0.2721320\ttotal: 1.88s\tremaining: 35.8s\n",
      "60:\tlearn: 0.2711970\ttotal: 1.9s\tremaining: 35.5s\n",
      "61:\tlearn: 0.2703735\ttotal: 1.92s\tremaining: 35.2s\n",
      "62:\tlearn: 0.2695162\ttotal: 1.94s\tremaining: 35s\n",
      "63:\tlearn: 0.2685366\ttotal: 1.96s\tremaining: 34.8s\n",
      "64:\tlearn: 0.2676056\ttotal: 1.98s\tremaining: 34.6s\n",
      "65:\tlearn: 0.2668193\ttotal: 2s\tremaining: 34.4s\n",
      "66:\tlearn: 0.2661071\ttotal: 2.02s\tremaining: 34.2s\n",
      "67:\tlearn: 0.2653438\ttotal: 2.04s\tremaining: 34s\n",
      "68:\tlearn: 0.2647021\ttotal: 2.06s\tremaining: 33.8s\n",
      "69:\tlearn: 0.2640605\ttotal: 2.08s\tremaining: 33.7s\n",
      "70:\tlearn: 0.2633694\ttotal: 2.11s\tremaining: 33.5s\n",
      "71:\tlearn: 0.2626927\ttotal: 2.13s\tremaining: 33.3s\n",
      "72:\tlearn: 0.2619840\ttotal: 2.15s\tremaining: 33.2s\n",
      "73:\tlearn: 0.2611334\ttotal: 2.17s\tremaining: 33.1s\n",
      "74:\tlearn: 0.2606415\ttotal: 2.19s\tremaining: 32.9s\n",
      "75:\tlearn: 0.2600168\ttotal: 2.21s\tremaining: 32.6s\n",
      "76:\tlearn: 0.2594906\ttotal: 2.23s\tremaining: 32.5s\n",
      "77:\tlearn: 0.2588838\ttotal: 2.25s\tremaining: 32.4s\n",
      "78:\tlearn: 0.2585418\ttotal: 2.27s\tremaining: 32.3s\n",
      "79:\tlearn: 0.2580155\ttotal: 2.29s\tremaining: 32.1s\n",
      "80:\tlearn: 0.2574187\ttotal: 2.31s\tremaining: 31.9s\n",
      "81:\tlearn: 0.2570429\ttotal: 2.33s\tremaining: 31.8s\n",
      "82:\tlearn: 0.2565775\ttotal: 2.35s\tremaining: 31.7s\n",
      "83:\tlearn: 0.2560087\ttotal: 2.37s\tremaining: 31.5s\n",
      "84:\tlearn: 0.2556379\ttotal: 2.39s\tremaining: 31.3s\n",
      "85:\tlearn: 0.2553479\ttotal: 2.4s\tremaining: 31.2s\n",
      "86:\tlearn: 0.2548808\ttotal: 2.44s\tremaining: 31.2s\n",
      "87:\tlearn: 0.2544387\ttotal: 2.46s\tremaining: 31.1s\n",
      "88:\tlearn: 0.2539802\ttotal: 2.48s\tremaining: 30.9s\n",
      "89:\tlearn: 0.2535883\ttotal: 2.49s\tremaining: 30.8s\n",
      "90:\tlearn: 0.2531970\ttotal: 2.51s\tremaining: 30.6s\n",
      "91:\tlearn: 0.2530217\ttotal: 2.53s\tremaining: 30.4s\n",
      "92:\tlearn: 0.2527169\ttotal: 2.54s\tremaining: 30.3s\n",
      "93:\tlearn: 0.2525378\ttotal: 2.56s\tremaining: 30.1s\n",
      "94:\tlearn: 0.2523008\ttotal: 2.57s\tremaining: 29.9s\n",
      "95:\tlearn: 0.2519772\ttotal: 2.58s\tremaining: 29.7s\n",
      "96:\tlearn: 0.2517541\ttotal: 2.6s\tremaining: 29.6s\n",
      "97:\tlearn: 0.2513436\ttotal: 2.62s\tremaining: 29.4s\n",
      "98:\tlearn: 0.2510898\ttotal: 2.63s\tremaining: 29.3s\n",
      "99:\tlearn: 0.2508660\ttotal: 2.65s\tremaining: 29.2s\n",
      "100:\tlearn: 0.2506905\ttotal: 2.67s\tremaining: 29s\n",
      "101:\tlearn: 0.2504945\ttotal: 2.68s\tremaining: 28.8s\n",
      "102:\tlearn: 0.2501530\ttotal: 2.7s\tremaining: 28.7s\n",
      "103:\tlearn: 0.2498713\ttotal: 2.71s\tremaining: 28.6s\n",
      "104:\tlearn: 0.2496245\ttotal: 2.73s\tremaining: 28.5s\n",
      "105:\tlearn: 0.2493183\ttotal: 2.74s\tremaining: 28.3s\n",
      "106:\tlearn: 0.2490026\ttotal: 2.76s\tremaining: 28.2s\n",
      "107:\tlearn: 0.2488174\ttotal: 2.77s\tremaining: 28s\n",
      "108:\tlearn: 0.2486814\ttotal: 2.79s\tremaining: 27.9s\n",
      "109:\tlearn: 0.2484526\ttotal: 2.81s\tremaining: 27.8s\n",
      "110:\tlearn: 0.2482408\ttotal: 2.82s\tremaining: 27.7s\n",
      "111:\tlearn: 0.2480517\ttotal: 2.84s\tremaining: 27.6s\n",
      "112:\tlearn: 0.2477691\ttotal: 2.85s\tremaining: 27.5s\n",
      "113:\tlearn: 0.2474806\ttotal: 2.87s\tremaining: 27.3s\n",
      "114:\tlearn: 0.2472243\ttotal: 2.89s\tremaining: 27.2s\n",
      "115:\tlearn: 0.2470777\ttotal: 2.9s\tremaining: 27.1s\n",
      "116:\tlearn: 0.2468521\ttotal: 2.92s\tremaining: 27s\n",
      "117:\tlearn: 0.2466366\ttotal: 2.93s\tremaining: 26.9s\n",
      "118:\tlearn: 0.2464446\ttotal: 2.95s\tremaining: 26.8s\n",
      "119:\tlearn: 0.2462576\ttotal: 2.97s\tremaining: 26.7s\n",
      "120:\tlearn: 0.2461102\ttotal: 2.99s\tremaining: 26.6s\n",
      "121:\tlearn: 0.2458542\ttotal: 3s\tremaining: 26.6s\n",
      "122:\tlearn: 0.2457281\ttotal: 3.02s\tremaining: 26.5s\n",
      "123:\tlearn: 0.2454872\ttotal: 3.04s\tremaining: 26.4s\n",
      "124:\tlearn: 0.2452332\ttotal: 3.06s\tremaining: 26.3s\n",
      "125:\tlearn: 0.2449723\ttotal: 3.07s\tremaining: 26.2s\n",
      "126:\tlearn: 0.2448042\ttotal: 3.09s\tremaining: 26.1s\n",
      "127:\tlearn: 0.2446963\ttotal: 3.1s\tremaining: 26s\n",
      "128:\tlearn: 0.2444618\ttotal: 3.11s\tremaining: 25.9s\n",
      "129:\tlearn: 0.2442943\ttotal: 3.13s\tremaining: 25.7s\n",
      "130:\tlearn: 0.2439469\ttotal: 3.14s\tremaining: 25.6s\n",
      "131:\tlearn: 0.2438611\ttotal: 3.16s\tremaining: 25.6s\n",
      "132:\tlearn: 0.2436017\ttotal: 3.18s\tremaining: 25.5s\n",
      "133:\tlearn: 0.2434728\ttotal: 3.19s\tremaining: 25.4s\n",
      "134:\tlearn: 0.2432715\ttotal: 3.21s\tremaining: 25.3s\n",
      "135:\tlearn: 0.2430652\ttotal: 3.22s\tremaining: 25.2s\n",
      "136:\tlearn: 0.2429006\ttotal: 3.23s\tremaining: 25.1s\n",
      "137:\tlearn: 0.2426922\ttotal: 3.25s\tremaining: 25s\n",
      "138:\tlearn: 0.2426235\ttotal: 3.26s\tremaining: 24.9s\n",
      "139:\tlearn: 0.2424886\ttotal: 3.28s\tremaining: 24.8s\n",
      "140:\tlearn: 0.2422739\ttotal: 3.29s\tremaining: 24.7s\n",
      "141:\tlearn: 0.2421194\ttotal: 3.3s\tremaining: 24.6s\n",
      "142:\tlearn: 0.2419186\ttotal: 3.31s\tremaining: 24.5s\n",
      "143:\tlearn: 0.2416952\ttotal: 3.34s\tremaining: 24.5s\n",
      "144:\tlearn: 0.2415541\ttotal: 3.35s\tremaining: 24.4s\n",
      "145:\tlearn: 0.2414139\ttotal: 3.37s\tremaining: 24.4s\n",
      "146:\tlearn: 0.2413459\ttotal: 3.39s\tremaining: 24.3s\n",
      "147:\tlearn: 0.2412168\ttotal: 3.4s\tremaining: 24.2s\n",
      "148:\tlearn: 0.2411253\ttotal: 3.42s\tremaining: 24.1s\n",
      "149:\tlearn: 0.2410393\ttotal: 3.43s\tremaining: 24s\n",
      "150:\tlearn: 0.2409024\ttotal: 3.44s\tremaining: 23.9s\n",
      "151:\tlearn: 0.2408449\ttotal: 3.45s\tremaining: 23.8s\n",
      "152:\tlearn: 0.2407391\ttotal: 3.46s\tremaining: 23.7s\n",
      "153:\tlearn: 0.2405758\ttotal: 3.48s\tremaining: 23.6s\n",
      "154:\tlearn: 0.2404536\ttotal: 3.49s\tremaining: 23.5s\n",
      "155:\tlearn: 0.2403528\ttotal: 3.5s\tremaining: 23.4s\n",
      "156:\tlearn: 0.2401926\ttotal: 3.51s\tremaining: 23.3s\n",
      "157:\tlearn: 0.2401094\ttotal: 3.53s\tremaining: 23.3s\n",
      "158:\tlearn: 0.2399283\ttotal: 3.57s\tremaining: 23.4s\n",
      "159:\tlearn: 0.2398220\ttotal: 3.59s\tremaining: 23.4s\n",
      "160:\tlearn: 0.2397124\ttotal: 3.61s\tremaining: 23.3s\n",
      "161:\tlearn: 0.2396632\ttotal: 3.63s\tremaining: 23.2s\n",
      "162:\tlearn: 0.2395786\ttotal: 3.64s\tremaining: 23.2s\n",
      "163:\tlearn: 0.2394947\ttotal: 3.66s\tremaining: 23.1s\n",
      "164:\tlearn: 0.2393626\ttotal: 3.67s\tremaining: 23s\n",
      "165:\tlearn: 0.2392193\ttotal: 3.68s\tremaining: 22.9s\n",
      "166:\tlearn: 0.2391047\ttotal: 3.69s\tremaining: 22.9s\n",
      "167:\tlearn: 0.2390111\ttotal: 3.71s\tremaining: 22.8s\n"
     ]
    },
    {
     "name": "stdout",
     "output_type": "stream",
     "text": [
      "168:\tlearn: 0.2388837\ttotal: 3.72s\tremaining: 22.7s\n",
      "169:\tlearn: 0.2387382\ttotal: 3.75s\tremaining: 22.7s\n",
      "170:\tlearn: 0.2386937\ttotal: 3.79s\tremaining: 22.8s\n",
      "171:\tlearn: 0.2386129\ttotal: 3.81s\tremaining: 22.8s\n",
      "172:\tlearn: 0.2385031\ttotal: 3.82s\tremaining: 22.7s\n",
      "173:\tlearn: 0.2383952\ttotal: 3.83s\tremaining: 22.6s\n",
      "174:\tlearn: 0.2383194\ttotal: 3.84s\tremaining: 22.5s\n",
      "175:\tlearn: 0.2382050\ttotal: 3.85s\tremaining: 22.4s\n",
      "176:\tlearn: 0.2381706\ttotal: 3.86s\tremaining: 22.3s\n",
      "177:\tlearn: 0.2380085\ttotal: 3.88s\tremaining: 22.3s\n",
      "178:\tlearn: 0.2379405\ttotal: 3.9s\tremaining: 22.2s\n",
      "179:\tlearn: 0.2379101\ttotal: 3.91s\tremaining: 22.2s\n",
      "180:\tlearn: 0.2377140\ttotal: 3.94s\tremaining: 22.2s\n",
      "181:\tlearn: 0.2375523\ttotal: 3.96s\tremaining: 22.1s\n",
      "182:\tlearn: 0.2374225\ttotal: 3.97s\tremaining: 22.1s\n",
      "183:\tlearn: 0.2373451\ttotal: 3.98s\tremaining: 22s\n",
      "184:\tlearn: 0.2372676\ttotal: 3.99s\tremaining: 21.9s\n",
      "185:\tlearn: 0.2372344\ttotal: 4s\tremaining: 21.8s\n",
      "186:\tlearn: 0.2371781\ttotal: 4.01s\tremaining: 21.8s\n",
      "187:\tlearn: 0.2370768\ttotal: 4.03s\tremaining: 21.7s\n",
      "188:\tlearn: 0.2369358\ttotal: 4.04s\tremaining: 21.6s\n",
      "189:\tlearn: 0.2368231\ttotal: 4.05s\tremaining: 21.5s\n",
      "190:\tlearn: 0.2367888\ttotal: 4.06s\tremaining: 21.5s\n",
      "191:\tlearn: 0.2367703\ttotal: 4.07s\tremaining: 21.4s\n",
      "192:\tlearn: 0.2366316\ttotal: 4.09s\tremaining: 21.3s\n",
      "193:\tlearn: 0.2365486\ttotal: 4.11s\tremaining: 21.3s\n",
      "194:\tlearn: 0.2364467\ttotal: 4.12s\tremaining: 21.2s\n",
      "195:\tlearn: 0.2363636\ttotal: 4.13s\tremaining: 21.1s\n",
      "196:\tlearn: 0.2362542\ttotal: 4.14s\tremaining: 21.1s\n",
      "197:\tlearn: 0.2361543\ttotal: 4.15s\tremaining: 21s\n",
      "198:\tlearn: 0.2360966\ttotal: 4.16s\tremaining: 20.9s\n",
      "199:\tlearn: 0.2360055\ttotal: 4.18s\tremaining: 20.9s\n",
      "200:\tlearn: 0.2359579\ttotal: 4.19s\tremaining: 20.8s\n",
      "201:\tlearn: 0.2358015\ttotal: 4.2s\tremaining: 20.7s\n",
      "202:\tlearn: 0.2356774\ttotal: 4.21s\tremaining: 20.7s\n",
      "203:\tlearn: 0.2355262\ttotal: 4.22s\tremaining: 20.6s\n",
      "204:\tlearn: 0.2354929\ttotal: 4.24s\tremaining: 20.6s\n",
      "205:\tlearn: 0.2354139\ttotal: 4.25s\tremaining: 20.5s\n",
      "206:\tlearn: 0.2353495\ttotal: 4.26s\tremaining: 20.4s\n",
      "207:\tlearn: 0.2352761\ttotal: 4.29s\tremaining: 20.4s\n",
      "208:\tlearn: 0.2352263\ttotal: 4.3s\tremaining: 20.4s\n",
      "209:\tlearn: 0.2351577\ttotal: 4.31s\tremaining: 20.3s\n",
      "210:\tlearn: 0.2349715\ttotal: 4.32s\tremaining: 20.2s\n",
      "211:\tlearn: 0.2349262\ttotal: 4.33s\tremaining: 20.2s\n",
      "212:\tlearn: 0.2348794\ttotal: 4.34s\tremaining: 20.1s\n",
      "213:\tlearn: 0.2348521\ttotal: 4.35s\tremaining: 20.1s\n",
      "214:\tlearn: 0.2347185\ttotal: 4.36s\tremaining: 20s\n",
      "215:\tlearn: 0.2346740\ttotal: 4.37s\tremaining: 19.9s\n",
      "216:\tlearn: 0.2346160\ttotal: 4.39s\tremaining: 19.9s\n",
      "217:\tlearn: 0.2345792\ttotal: 4.4s\tremaining: 19.8s\n",
      "218:\tlearn: 0.2345157\ttotal: 4.41s\tremaining: 19.7s\n",
      "219:\tlearn: 0.2344343\ttotal: 4.42s\tremaining: 19.7s\n",
      "220:\tlearn: 0.2343934\ttotal: 4.43s\tremaining: 19.6s\n",
      "221:\tlearn: 0.2342556\ttotal: 4.44s\tremaining: 19.6s\n",
      "222:\tlearn: 0.2341106\ttotal: 4.46s\tremaining: 19.5s\n",
      "223:\tlearn: 0.2340924\ttotal: 4.46s\tremaining: 19.5s\n",
      "224:\tlearn: 0.2340380\ttotal: 4.47s\tremaining: 19.4s\n",
      "225:\tlearn: 0.2339492\ttotal: 4.49s\tremaining: 19.3s\n",
      "226:\tlearn: 0.2338868\ttotal: 4.5s\tremaining: 19.3s\n",
      "227:\tlearn: 0.2337658\ttotal: 4.51s\tremaining: 19.2s\n",
      "228:\tlearn: 0.2337234\ttotal: 4.52s\tremaining: 19.2s\n",
      "229:\tlearn: 0.2336468\ttotal: 4.53s\tremaining: 19.1s\n",
      "230:\tlearn: 0.2335143\ttotal: 4.54s\tremaining: 19s\n",
      "231:\tlearn: 0.2334049\ttotal: 4.55s\tremaining: 19s\n",
      "232:\tlearn: 0.2333444\ttotal: 4.56s\tremaining: 18.9s\n",
      "233:\tlearn: 0.2332631\ttotal: 4.57s\tremaining: 18.9s\n",
      "234:\tlearn: 0.2331781\ttotal: 4.58s\tremaining: 18.8s\n",
      "235:\tlearn: 0.2330577\ttotal: 4.59s\tremaining: 18.7s\n",
      "236:\tlearn: 0.2330085\ttotal: 4.6s\tremaining: 18.7s\n",
      "237:\tlearn: 0.2329835\ttotal: 4.61s\tremaining: 18.6s\n",
      "238:\tlearn: 0.2328563\ttotal: 4.62s\tremaining: 18.6s\n",
      "239:\tlearn: 0.2327638\ttotal: 4.63s\tremaining: 18.5s\n",
      "240:\tlearn: 0.2326890\ttotal: 4.64s\tremaining: 18.5s\n",
      "241:\tlearn: 0.2325943\ttotal: 4.65s\tremaining: 18.4s\n",
      "242:\tlearn: 0.2325304\ttotal: 4.66s\tremaining: 18.4s\n",
      "243:\tlearn: 0.2324339\ttotal: 4.67s\tremaining: 18.3s\n",
      "244:\tlearn: 0.2323430\ttotal: 4.68s\tremaining: 18.3s\n",
      "245:\tlearn: 0.2323267\ttotal: 4.69s\tremaining: 18.2s\n",
      "246:\tlearn: 0.2322243\ttotal: 4.7s\tremaining: 18.1s\n",
      "247:\tlearn: 0.2321871\ttotal: 4.72s\tremaining: 18.1s\n",
      "248:\tlearn: 0.2321391\ttotal: 4.73s\tremaining: 18.1s\n",
      "249:\tlearn: 0.2321160\ttotal: 4.74s\tremaining: 18s\n",
      "250:\tlearn: 0.2320912\ttotal: 4.75s\tremaining: 18s\n",
      "251:\tlearn: 0.2319660\ttotal: 4.76s\tremaining: 17.9s\n",
      "252:\tlearn: 0.2319129\ttotal: 4.77s\tremaining: 17.9s\n",
      "253:\tlearn: 0.2318493\ttotal: 4.78s\tremaining: 17.8s\n",
      "254:\tlearn: 0.2318180\ttotal: 4.8s\tremaining: 17.8s\n",
      "255:\tlearn: 0.2317846\ttotal: 4.81s\tremaining: 17.7s\n",
      "256:\tlearn: 0.2317133\ttotal: 4.82s\tremaining: 17.7s\n",
      "257:\tlearn: 0.2316070\ttotal: 4.83s\tremaining: 17.6s\n",
      "258:\tlearn: 0.2315625\ttotal: 4.84s\tremaining: 17.6s\n",
      "259:\tlearn: 0.2314376\ttotal: 4.85s\tremaining: 17.5s\n",
      "260:\tlearn: 0.2312944\ttotal: 4.86s\tremaining: 17.5s\n",
      "261:\tlearn: 0.2312556\ttotal: 4.87s\tremaining: 17.4s\n",
      "262:\tlearn: 0.2312144\ttotal: 4.88s\tremaining: 17.4s\n",
      "263:\tlearn: 0.2311231\ttotal: 4.89s\tremaining: 17.3s\n",
      "264:\tlearn: 0.2310364\ttotal: 4.9s\tremaining: 17.3s\n",
      "265:\tlearn: 0.2309831\ttotal: 4.91s\tremaining: 17.2s\n",
      "266:\tlearn: 0.2308840\ttotal: 4.92s\tremaining: 17.2s\n",
      "267:\tlearn: 0.2307909\ttotal: 4.93s\tremaining: 17.1s\n",
      "268:\tlearn: 0.2306421\ttotal: 4.94s\tremaining: 17.1s\n",
      "269:\tlearn: 0.2305633\ttotal: 4.95s\tremaining: 17s\n",
      "270:\tlearn: 0.2305028\ttotal: 4.96s\tremaining: 17s\n",
      "271:\tlearn: 0.2303595\ttotal: 4.99s\tremaining: 17s\n",
      "272:\tlearn: 0.2303035\ttotal: 5s\tremaining: 17s\n",
      "273:\tlearn: 0.2302498\ttotal: 5.01s\tremaining: 16.9s\n",
      "274:\tlearn: 0.2301528\ttotal: 5.02s\tremaining: 16.9s\n",
      "275:\tlearn: 0.2300995\ttotal: 5.03s\tremaining: 16.8s\n",
      "276:\tlearn: 0.2300821\ttotal: 5.04s\tremaining: 16.8s\n",
      "277:\tlearn: 0.2300757\ttotal: 5.04s\tremaining: 16.7s\n",
      "278:\tlearn: 0.2300516\ttotal: 5.05s\tremaining: 16.7s\n",
      "279:\tlearn: 0.2300020\ttotal: 5.07s\tremaining: 16.6s\n",
      "280:\tlearn: 0.2299203\ttotal: 5.08s\tremaining: 16.6s\n",
      "281:\tlearn: 0.2298289\ttotal: 5.09s\tremaining: 16.6s\n",
      "282:\tlearn: 0.2298041\ttotal: 5.1s\tremaining: 16.5s\n",
      "283:\tlearn: 0.2297502\ttotal: 5.11s\tremaining: 16.5s\n",
      "284:\tlearn: 0.2296751\ttotal: 5.12s\tremaining: 16.4s\n",
      "285:\tlearn: 0.2295842\ttotal: 5.13s\tremaining: 16.4s\n",
      "286:\tlearn: 0.2295550\ttotal: 5.13s\tremaining: 16.3s\n",
      "287:\tlearn: 0.2294522\ttotal: 5.14s\tremaining: 16.3s\n",
      "288:\tlearn: 0.2293983\ttotal: 5.15s\tremaining: 16.2s\n",
      "289:\tlearn: 0.2293219\ttotal: 5.16s\tremaining: 16.2s\n",
      "290:\tlearn: 0.2292537\ttotal: 5.17s\tremaining: 16.1s\n",
      "291:\tlearn: 0.2292100\ttotal: 5.17s\tremaining: 16.1s\n",
      "292:\tlearn: 0.2291627\ttotal: 5.18s\tremaining: 16s\n",
      "293:\tlearn: 0.2291036\ttotal: 5.19s\tremaining: 16s\n",
      "294:\tlearn: 0.2289545\ttotal: 5.19s\tremaining: 15.9s\n",
      "295:\tlearn: 0.2288651\ttotal: 5.2s\tremaining: 15.9s\n",
      "296:\tlearn: 0.2287830\ttotal: 5.21s\tremaining: 15.8s\n",
      "297:\tlearn: 0.2286818\ttotal: 5.21s\tremaining: 15.8s\n",
      "298:\tlearn: 0.2286497\ttotal: 5.22s\tremaining: 15.7s\n",
      "299:\tlearn: 0.2286274\ttotal: 5.22s\tremaining: 15.7s\n",
      "300:\tlearn: 0.2285943\ttotal: 5.23s\tremaining: 15.6s\n",
      "301:\tlearn: 0.2285262\ttotal: 5.24s\tremaining: 15.6s\n",
      "302:\tlearn: 0.2284836\ttotal: 5.25s\tremaining: 15.5s\n",
      "303:\tlearn: 0.2284322\ttotal: 5.25s\tremaining: 15.5s\n",
      "304:\tlearn: 0.2283751\ttotal: 5.26s\tremaining: 15.4s\n",
      "305:\tlearn: 0.2282628\ttotal: 5.27s\tremaining: 15.4s\n",
      "306:\tlearn: 0.2282465\ttotal: 5.28s\tremaining: 15.3s\n",
      "307:\tlearn: 0.2281644\ttotal: 5.28s\tremaining: 15.3s\n",
      "308:\tlearn: 0.2281256\ttotal: 5.29s\tremaining: 15.2s\n",
      "309:\tlearn: 0.2279891\ttotal: 5.29s\tremaining: 15.2s\n",
      "310:\tlearn: 0.2278973\ttotal: 5.3s\tremaining: 15.1s\n",
      "311:\tlearn: 0.2278485\ttotal: 5.31s\tremaining: 15.1s\n",
      "312:\tlearn: 0.2278280\ttotal: 5.32s\tremaining: 15.1s\n",
      "313:\tlearn: 0.2277426\ttotal: 5.33s\tremaining: 15s\n",
      "314:\tlearn: 0.2277280\ttotal: 5.33s\tremaining: 15s\n",
      "315:\tlearn: 0.2276569\ttotal: 5.34s\tremaining: 14.9s\n",
      "316:\tlearn: 0.2276419\ttotal: 5.35s\tremaining: 14.9s\n",
      "317:\tlearn: 0.2275655\ttotal: 5.35s\tremaining: 14.8s\n",
      "318:\tlearn: 0.2275470\ttotal: 5.36s\tremaining: 14.8s\n",
      "319:\tlearn: 0.2274982\ttotal: 5.37s\tremaining: 14.8s\n",
      "320:\tlearn: 0.2274552\ttotal: 5.37s\tremaining: 14.7s\n",
      "321:\tlearn: 0.2274253\ttotal: 5.38s\tremaining: 14.7s\n",
      "322:\tlearn: 0.2273892\ttotal: 5.38s\tremaining: 14.6s\n",
      "323:\tlearn: 0.2273589\ttotal: 5.39s\tremaining: 14.6s\n",
      "324:\tlearn: 0.2272975\ttotal: 5.39s\tremaining: 14.5s\n",
      "325:\tlearn: 0.2272131\ttotal: 5.4s\tremaining: 14.5s\n",
      "326:\tlearn: 0.2271957\ttotal: 5.41s\tremaining: 14.4s\n",
      "327:\tlearn: 0.2271652\ttotal: 5.41s\tremaining: 14.4s\n",
      "328:\tlearn: 0.2271020\ttotal: 5.42s\tremaining: 14.3s\n",
      "329:\tlearn: 0.2270727\ttotal: 5.42s\tremaining: 14.3s\n",
      "330:\tlearn: 0.2269836\ttotal: 5.43s\tremaining: 14.3s\n",
      "331:\tlearn: 0.2269202\ttotal: 5.44s\tremaining: 14.2s\n",
      "332:\tlearn: 0.2268876\ttotal: 5.44s\tremaining: 14.2s\n",
      "333:\tlearn: 0.2268614\ttotal: 5.45s\tremaining: 14.1s\n",
      "334:\tlearn: 0.2267953\ttotal: 5.46s\tremaining: 14.1s\n",
      "335:\tlearn: 0.2266890\ttotal: 5.46s\tremaining: 14s\n",
      "336:\tlearn: 0.2266801\ttotal: 5.47s\tremaining: 14s\n",
      "337:\tlearn: 0.2266094\ttotal: 5.47s\tremaining: 14s\n"
     ]
    },
    {
     "name": "stdout",
     "output_type": "stream",
     "text": [
      "338:\tlearn: 0.2265755\ttotal: 5.48s\tremaining: 13.9s\n",
      "339:\tlearn: 0.2264443\ttotal: 5.49s\tremaining: 13.9s\n",
      "340:\tlearn: 0.2263547\ttotal: 5.5s\tremaining: 13.8s\n",
      "341:\tlearn: 0.2262936\ttotal: 5.5s\tremaining: 13.8s\n",
      "342:\tlearn: 0.2262543\ttotal: 5.51s\tremaining: 13.8s\n",
      "343:\tlearn: 0.2261290\ttotal: 5.52s\tremaining: 13.7s\n",
      "344:\tlearn: 0.2260900\ttotal: 5.52s\tremaining: 13.7s\n",
      "345:\tlearn: 0.2260625\ttotal: 5.53s\tremaining: 13.6s\n",
      "346:\tlearn: 0.2260343\ttotal: 5.54s\tremaining: 13.6s\n",
      "347:\tlearn: 0.2259670\ttotal: 5.54s\tremaining: 13.6s\n",
      "348:\tlearn: 0.2258681\ttotal: 5.55s\tremaining: 13.5s\n",
      "349:\tlearn: 0.2258355\ttotal: 5.55s\tremaining: 13.5s\n",
      "350:\tlearn: 0.2257219\ttotal: 5.56s\tremaining: 13.4s\n",
      "351:\tlearn: 0.2256955\ttotal: 5.57s\tremaining: 13.4s\n",
      "352:\tlearn: 0.2255839\ttotal: 5.57s\tremaining: 13.4s\n",
      "353:\tlearn: 0.2255264\ttotal: 5.58s\tremaining: 13.3s\n",
      "354:\tlearn: 0.2253351\ttotal: 5.58s\tremaining: 13.3s\n",
      "355:\tlearn: 0.2252865\ttotal: 5.59s\tremaining: 13.3s\n",
      "356:\tlearn: 0.2252366\ttotal: 5.6s\tremaining: 13.2s\n",
      "357:\tlearn: 0.2252034\ttotal: 5.61s\tremaining: 13.2s\n",
      "358:\tlearn: 0.2251277\ttotal: 5.61s\tremaining: 13.1s\n",
      "359:\tlearn: 0.2251086\ttotal: 5.62s\tremaining: 13.1s\n",
      "360:\tlearn: 0.2250530\ttotal: 5.62s\tremaining: 13.1s\n",
      "361:\tlearn: 0.2250443\ttotal: 5.63s\tremaining: 13s\n",
      "362:\tlearn: 0.2249987\ttotal: 5.63s\tremaining: 13s\n",
      "363:\tlearn: 0.2249639\ttotal: 5.64s\tremaining: 13s\n",
      "364:\tlearn: 0.2248886\ttotal: 5.65s\tremaining: 12.9s\n",
      "365:\tlearn: 0.2248370\ttotal: 5.65s\tremaining: 12.9s\n",
      "366:\tlearn: 0.2248258\ttotal: 5.66s\tremaining: 12.8s\n",
      "367:\tlearn: 0.2248120\ttotal: 5.67s\tremaining: 12.8s\n",
      "368:\tlearn: 0.2247534\ttotal: 5.67s\tremaining: 12.8s\n",
      "369:\tlearn: 0.2247188\ttotal: 5.68s\tremaining: 12.7s\n",
      "370:\tlearn: 0.2246382\ttotal: 5.69s\tremaining: 12.7s\n",
      "371:\tlearn: 0.2246101\ttotal: 5.69s\tremaining: 12.7s\n",
      "372:\tlearn: 0.2245100\ttotal: 5.7s\tremaining: 12.6s\n",
      "373:\tlearn: 0.2244819\ttotal: 5.71s\tremaining: 12.6s\n",
      "374:\tlearn: 0.2244291\ttotal: 5.71s\tremaining: 12.6s\n",
      "375:\tlearn: 0.2243661\ttotal: 5.72s\tremaining: 12.5s\n",
      "376:\tlearn: 0.2243455\ttotal: 5.72s\tremaining: 12.5s\n",
      "377:\tlearn: 0.2243223\ttotal: 5.73s\tremaining: 12.5s\n",
      "378:\tlearn: 0.2243022\ttotal: 5.74s\tremaining: 12.4s\n",
      "379:\tlearn: 0.2242867\ttotal: 5.74s\tremaining: 12.4s\n",
      "380:\tlearn: 0.2242068\ttotal: 5.75s\tremaining: 12.4s\n",
      "381:\tlearn: 0.2241847\ttotal: 5.75s\tremaining: 12.3s\n",
      "382:\tlearn: 0.2241338\ttotal: 5.76s\tremaining: 12.3s\n",
      "383:\tlearn: 0.2240696\ttotal: 5.77s\tremaining: 12.3s\n",
      "384:\tlearn: 0.2240583\ttotal: 5.77s\tremaining: 12.2s\n",
      "385:\tlearn: 0.2240353\ttotal: 5.78s\tremaining: 12.2s\n",
      "386:\tlearn: 0.2239668\ttotal: 5.79s\tremaining: 12.2s\n",
      "387:\tlearn: 0.2239070\ttotal: 5.79s\tremaining: 12.1s\n",
      "388:\tlearn: 0.2238874\ttotal: 5.8s\tremaining: 12.1s\n",
      "389:\tlearn: 0.2238279\ttotal: 5.8s\tremaining: 12.1s\n",
      "390:\tlearn: 0.2237769\ttotal: 5.81s\tremaining: 12s\n",
      "391:\tlearn: 0.2237643\ttotal: 5.82s\tremaining: 12s\n",
      "392:\tlearn: 0.2237071\ttotal: 5.82s\tremaining: 12s\n",
      "393:\tlearn: 0.2236525\ttotal: 5.83s\tremaining: 11.9s\n",
      "394:\tlearn: 0.2235881\ttotal: 5.83s\tremaining: 11.9s\n",
      "395:\tlearn: 0.2235461\ttotal: 5.84s\tremaining: 11.9s\n",
      "396:\tlearn: 0.2235104\ttotal: 5.85s\tremaining: 11.8s\n",
      "397:\tlearn: 0.2234512\ttotal: 5.86s\tremaining: 11.8s\n",
      "398:\tlearn: 0.2234195\ttotal: 5.86s\tremaining: 11.8s\n",
      "399:\tlearn: 0.2233450\ttotal: 5.87s\tremaining: 11.7s\n",
      "400:\tlearn: 0.2232739\ttotal: 5.88s\tremaining: 11.7s\n",
      "401:\tlearn: 0.2232447\ttotal: 5.88s\tremaining: 11.7s\n",
      "402:\tlearn: 0.2232332\ttotal: 5.89s\tremaining: 11.6s\n",
      "403:\tlearn: 0.2232095\ttotal: 5.89s\tremaining: 11.6s\n",
      "404:\tlearn: 0.2231907\ttotal: 5.9s\tremaining: 11.6s\n",
      "405:\tlearn: 0.2231654\ttotal: 5.91s\tremaining: 11.6s\n",
      "406:\tlearn: 0.2231222\ttotal: 5.91s\tremaining: 11.5s\n",
      "407:\tlearn: 0.2230727\ttotal: 5.92s\tremaining: 11.5s\n",
      "408:\tlearn: 0.2230579\ttotal: 5.92s\tremaining: 11.5s\n",
      "409:\tlearn: 0.2230469\ttotal: 5.93s\tremaining: 11.4s\n",
      "410:\tlearn: 0.2230102\ttotal: 5.94s\tremaining: 11.4s\n",
      "411:\tlearn: 0.2229418\ttotal: 5.94s\tremaining: 11.4s\n",
      "412:\tlearn: 0.2228984\ttotal: 5.95s\tremaining: 11.3s\n",
      "413:\tlearn: 0.2228579\ttotal: 5.96s\tremaining: 11.3s\n",
      "414:\tlearn: 0.2227899\ttotal: 5.96s\tremaining: 11.3s\n",
      "415:\tlearn: 0.2227502\ttotal: 5.97s\tremaining: 11.2s\n",
      "416:\tlearn: 0.2227153\ttotal: 5.97s\tremaining: 11.2s\n",
      "417:\tlearn: 0.2227068\ttotal: 5.98s\tremaining: 11.2s\n",
      "418:\tlearn: 0.2226908\ttotal: 5.99s\tremaining: 11.2s\n",
      "419:\tlearn: 0.2225956\ttotal: 5.99s\tremaining: 11.1s\n",
      "420:\tlearn: 0.2225814\ttotal: 6s\tremaining: 11.1s\n",
      "421:\tlearn: 0.2225720\ttotal: 6s\tremaining: 11.1s\n",
      "422:\tlearn: 0.2225502\ttotal: 6.01s\tremaining: 11s\n",
      "423:\tlearn: 0.2225151\ttotal: 6.02s\tremaining: 11s\n",
      "424:\tlearn: 0.2224750\ttotal: 6.03s\tremaining: 11s\n",
      "425:\tlearn: 0.2223831\ttotal: 6.03s\tremaining: 11s\n",
      "426:\tlearn: 0.2223217\ttotal: 6.04s\tremaining: 10.9s\n",
      "427:\tlearn: 0.2222646\ttotal: 6.05s\tremaining: 10.9s\n",
      "428:\tlearn: 0.2222476\ttotal: 6.05s\tremaining: 10.9s\n",
      "429:\tlearn: 0.2221857\ttotal: 6.06s\tremaining: 10.8s\n",
      "430:\tlearn: 0.2220977\ttotal: 6.07s\tremaining: 10.8s\n",
      "431:\tlearn: 0.2220583\ttotal: 6.07s\tremaining: 10.8s\n",
      "432:\tlearn: 0.2220315\ttotal: 6.08s\tremaining: 10.8s\n",
      "433:\tlearn: 0.2219414\ttotal: 6.08s\tremaining: 10.7s\n",
      "434:\tlearn: 0.2219309\ttotal: 6.09s\tremaining: 10.7s\n",
      "435:\tlearn: 0.2219159\ttotal: 6.09s\tremaining: 10.7s\n",
      "436:\tlearn: 0.2218739\ttotal: 6.1s\tremaining: 10.7s\n",
      "437:\tlearn: 0.2218215\ttotal: 6.11s\tremaining: 10.6s\n",
      "438:\tlearn: 0.2217585\ttotal: 6.11s\tremaining: 10.6s\n",
      "439:\tlearn: 0.2217532\ttotal: 6.12s\tremaining: 10.6s\n",
      "440:\tlearn: 0.2217289\ttotal: 6.13s\tremaining: 10.5s\n",
      "441:\tlearn: 0.2216556\ttotal: 6.13s\tremaining: 10.5s\n",
      "442:\tlearn: 0.2216203\ttotal: 6.14s\tremaining: 10.5s\n",
      "443:\tlearn: 0.2215466\ttotal: 6.14s\tremaining: 10.5s\n",
      "444:\tlearn: 0.2214833\ttotal: 6.15s\tremaining: 10.4s\n",
      "445:\tlearn: 0.2214325\ttotal: 6.16s\tremaining: 10.4s\n",
      "446:\tlearn: 0.2213839\ttotal: 6.16s\tremaining: 10.4s\n",
      "447:\tlearn: 0.2213623\ttotal: 6.17s\tremaining: 10.4s\n",
      "448:\tlearn: 0.2213405\ttotal: 6.17s\tremaining: 10.3s\n",
      "449:\tlearn: 0.2212893\ttotal: 6.18s\tremaining: 10.3s\n",
      "450:\tlearn: 0.2212484\ttotal: 6.19s\tremaining: 10.3s\n",
      "451:\tlearn: 0.2211486\ttotal: 6.2s\tremaining: 10.3s\n",
      "452:\tlearn: 0.2211277\ttotal: 6.2s\tremaining: 10.2s\n",
      "453:\tlearn: 0.2210539\ttotal: 6.21s\tremaining: 10.2s\n",
      "454:\tlearn: 0.2210438\ttotal: 6.21s\tremaining: 10.2s\n",
      "455:\tlearn: 0.2209972\ttotal: 6.22s\tremaining: 10.2s\n",
      "456:\tlearn: 0.2209558\ttotal: 6.23s\tremaining: 10.1s\n",
      "457:\tlearn: 0.2209136\ttotal: 6.23s\tremaining: 10.1s\n",
      "458:\tlearn: 0.2208901\ttotal: 6.24s\tremaining: 10.1s\n",
      "459:\tlearn: 0.2208636\ttotal: 6.25s\tremaining: 10s\n",
      "460:\tlearn: 0.2207878\ttotal: 6.25s\tremaining: 10s\n",
      "461:\tlearn: 0.2207778\ttotal: 6.26s\tremaining: 10s\n",
      "462:\tlearn: 0.2207316\ttotal: 6.26s\tremaining: 9.97s\n",
      "463:\tlearn: 0.2206548\ttotal: 6.27s\tremaining: 9.95s\n",
      "464:\tlearn: 0.2205748\ttotal: 6.28s\tremaining: 9.92s\n",
      "465:\tlearn: 0.2205090\ttotal: 6.28s\tremaining: 9.89s\n",
      "466:\tlearn: 0.2204285\ttotal: 6.29s\tremaining: 9.87s\n",
      "467:\tlearn: 0.2203319\ttotal: 6.29s\tremaining: 9.85s\n",
      "468:\tlearn: 0.2203229\ttotal: 6.3s\tremaining: 9.82s\n",
      "469:\tlearn: 0.2202516\ttotal: 6.31s\tremaining: 9.8s\n",
      "470:\tlearn: 0.2202053\ttotal: 6.31s\tremaining: 9.77s\n",
      "471:\tlearn: 0.2202030\ttotal: 6.32s\tremaining: 9.74s\n",
      "472:\tlearn: 0.2201716\ttotal: 6.32s\tremaining: 9.72s\n",
      "473:\tlearn: 0.2201369\ttotal: 6.33s\tremaining: 9.69s\n",
      "474:\tlearn: 0.2200662\ttotal: 6.33s\tremaining: 9.67s\n",
      "475:\tlearn: 0.2200471\ttotal: 6.34s\tremaining: 9.64s\n",
      "476:\tlearn: 0.2199696\ttotal: 6.34s\tremaining: 9.62s\n",
      "477:\tlearn: 0.2199359\ttotal: 6.35s\tremaining: 9.59s\n",
      "478:\tlearn: 0.2198583\ttotal: 6.36s\tremaining: 9.57s\n",
      "479:\tlearn: 0.2198332\ttotal: 6.37s\tremaining: 9.55s\n",
      "480:\tlearn: 0.2197645\ttotal: 6.38s\tremaining: 9.53s\n",
      "481:\tlearn: 0.2197158\ttotal: 6.38s\tremaining: 9.51s\n",
      "482:\tlearn: 0.2196993\ttotal: 6.39s\tremaining: 9.49s\n",
      "483:\tlearn: 0.2196602\ttotal: 6.4s\tremaining: 9.46s\n",
      "484:\tlearn: 0.2195786\ttotal: 6.4s\tremaining: 9.44s\n",
      "485:\tlearn: 0.2195323\ttotal: 6.41s\tremaining: 9.42s\n",
      "486:\tlearn: 0.2194767\ttotal: 6.42s\tremaining: 9.39s\n",
      "487:\tlearn: 0.2194274\ttotal: 6.42s\tremaining: 9.37s\n",
      "488:\tlearn: 0.2194030\ttotal: 6.43s\tremaining: 9.34s\n",
      "489:\tlearn: 0.2193237\ttotal: 6.43s\tremaining: 9.32s\n",
      "490:\tlearn: 0.2192754\ttotal: 6.44s\tremaining: 9.3s\n",
      "491:\tlearn: 0.2192394\ttotal: 6.45s\tremaining: 9.28s\n",
      "492:\tlearn: 0.2191622\ttotal: 6.45s\tremaining: 9.25s\n",
      "493:\tlearn: 0.2191043\ttotal: 6.46s\tremaining: 9.23s\n",
      "494:\tlearn: 0.2190851\ttotal: 6.46s\tremaining: 9.21s\n",
      "495:\tlearn: 0.2190476\ttotal: 6.47s\tremaining: 9.18s\n",
      "496:\tlearn: 0.2190301\ttotal: 6.47s\tremaining: 9.16s\n",
      "497:\tlearn: 0.2189658\ttotal: 6.48s\tremaining: 9.14s\n",
      "498:\tlearn: 0.2188640\ttotal: 6.49s\tremaining: 9.11s\n",
      "499:\tlearn: 0.2188107\ttotal: 6.49s\tremaining: 9.09s\n",
      "500:\tlearn: 0.2187273\ttotal: 6.5s\tremaining: 9.07s\n",
      "501:\tlearn: 0.2186891\ttotal: 6.5s\tremaining: 9.04s\n",
      "502:\tlearn: 0.2186566\ttotal: 6.51s\tremaining: 9.02s\n",
      "503:\tlearn: 0.2185828\ttotal: 6.52s\tremaining: 9s\n",
      "504:\tlearn: 0.2185133\ttotal: 6.52s\tremaining: 8.98s\n",
      "505:\tlearn: 0.2184718\ttotal: 6.53s\tremaining: 8.96s\n"
     ]
    },
    {
     "name": "stdout",
     "output_type": "stream",
     "text": [
      "506:\tlearn: 0.2183985\ttotal: 6.54s\tremaining: 8.94s\n",
      "507:\tlearn: 0.2183762\ttotal: 6.54s\tremaining: 8.92s\n",
      "508:\tlearn: 0.2183195\ttotal: 6.55s\tremaining: 8.9s\n",
      "509:\tlearn: 0.2182444\ttotal: 6.56s\tremaining: 8.88s\n",
      "510:\tlearn: 0.2182234\ttotal: 6.57s\tremaining: 8.86s\n",
      "511:\tlearn: 0.2182124\ttotal: 6.57s\tremaining: 8.83s\n",
      "512:\tlearn: 0.2180844\ttotal: 6.58s\tremaining: 8.81s\n",
      "513:\tlearn: 0.2180145\ttotal: 6.59s\tremaining: 8.79s\n",
      "514:\tlearn: 0.2179939\ttotal: 6.59s\tremaining: 8.77s\n",
      "515:\tlearn: 0.2179708\ttotal: 6.6s\tremaining: 8.75s\n",
      "516:\tlearn: 0.2179416\ttotal: 6.6s\tremaining: 8.72s\n",
      "517:\tlearn: 0.2178977\ttotal: 6.61s\tremaining: 8.7s\n",
      "518:\tlearn: 0.2178501\ttotal: 6.62s\tremaining: 8.68s\n",
      "519:\tlearn: 0.2178097\ttotal: 6.62s\tremaining: 8.66s\n",
      "520:\tlearn: 0.2177607\ttotal: 6.63s\tremaining: 8.64s\n",
      "521:\tlearn: 0.2177483\ttotal: 6.63s\tremaining: 8.62s\n",
      "522:\tlearn: 0.2176927\ttotal: 6.64s\tremaining: 8.6s\n",
      "523:\tlearn: 0.2176246\ttotal: 6.65s\tremaining: 8.57s\n",
      "524:\tlearn: 0.2175965\ttotal: 6.65s\tremaining: 8.55s\n",
      "525:\tlearn: 0.2175037\ttotal: 6.66s\tremaining: 8.53s\n",
      "526:\tlearn: 0.2174425\ttotal: 6.66s\tremaining: 8.51s\n",
      "527:\tlearn: 0.2173774\ttotal: 6.67s\tremaining: 8.49s\n",
      "528:\tlearn: 0.2172556\ttotal: 6.68s\tremaining: 8.47s\n",
      "529:\tlearn: 0.2172249\ttotal: 6.68s\tremaining: 8.45s\n",
      "530:\tlearn: 0.2172037\ttotal: 6.69s\tremaining: 8.43s\n",
      "531:\tlearn: 0.2171480\ttotal: 6.7s\tremaining: 8.41s\n",
      "532:\tlearn: 0.2170651\ttotal: 6.7s\tremaining: 8.39s\n",
      "533:\tlearn: 0.2170039\ttotal: 6.71s\tremaining: 8.37s\n",
      "534:\tlearn: 0.2169879\ttotal: 6.72s\tremaining: 8.35s\n",
      "535:\tlearn: 0.2168971\ttotal: 6.72s\tremaining: 8.33s\n",
      "536:\tlearn: 0.2168443\ttotal: 6.73s\tremaining: 8.31s\n",
      "537:\tlearn: 0.2167974\ttotal: 6.74s\tremaining: 8.29s\n",
      "538:\tlearn: 0.2167397\ttotal: 6.74s\tremaining: 8.27s\n",
      "539:\tlearn: 0.2166417\ttotal: 6.75s\tremaining: 8.25s\n",
      "540:\tlearn: 0.2165649\ttotal: 6.76s\tremaining: 8.23s\n",
      "541:\tlearn: 0.2165478\ttotal: 6.76s\tremaining: 8.21s\n",
      "542:\tlearn: 0.2165277\ttotal: 6.77s\tremaining: 8.19s\n",
      "543:\tlearn: 0.2165145\ttotal: 6.78s\tremaining: 8.17s\n",
      "544:\tlearn: 0.2164662\ttotal: 6.78s\tremaining: 8.15s\n",
      "545:\tlearn: 0.2164255\ttotal: 6.79s\tremaining: 8.13s\n",
      "546:\tlearn: 0.2163576\ttotal: 6.79s\tremaining: 8.11s\n",
      "547:\tlearn: 0.2162739\ttotal: 6.8s\tremaining: 8.09s\n",
      "548:\tlearn: 0.2162175\ttotal: 6.8s\tremaining: 8.07s\n",
      "549:\tlearn: 0.2161015\ttotal: 6.81s\tremaining: 8.05s\n",
      "550:\tlearn: 0.2160169\ttotal: 6.82s\tremaining: 8.03s\n",
      "551:\tlearn: 0.2160044\ttotal: 6.82s\tremaining: 8.01s\n",
      "552:\tlearn: 0.2159597\ttotal: 6.83s\tremaining: 7.99s\n",
      "553:\tlearn: 0.2159538\ttotal: 6.83s\tremaining: 7.97s\n",
      "554:\tlearn: 0.2158682\ttotal: 6.84s\tremaining: 7.95s\n",
      "555:\tlearn: 0.2158561\ttotal: 6.85s\tremaining: 7.93s\n",
      "556:\tlearn: 0.2158353\ttotal: 6.85s\tremaining: 7.91s\n",
      "557:\tlearn: 0.2157868\ttotal: 6.86s\tremaining: 7.89s\n",
      "558:\tlearn: 0.2157454\ttotal: 6.86s\tremaining: 7.87s\n",
      "559:\tlearn: 0.2156893\ttotal: 6.87s\tremaining: 7.85s\n",
      "560:\tlearn: 0.2156203\ttotal: 6.88s\tremaining: 7.83s\n",
      "561:\tlearn: 0.2155604\ttotal: 6.88s\tremaining: 7.81s\n",
      "562:\tlearn: 0.2154806\ttotal: 6.89s\tremaining: 7.8s\n",
      "563:\tlearn: 0.2154749\ttotal: 6.9s\tremaining: 7.78s\n",
      "564:\tlearn: 0.2154344\ttotal: 6.9s\tremaining: 7.76s\n",
      "565:\tlearn: 0.2154064\ttotal: 6.91s\tremaining: 7.74s\n",
      "566:\tlearn: 0.2153674\ttotal: 6.92s\tremaining: 7.72s\n",
      "567:\tlearn: 0.2153652\ttotal: 6.92s\tremaining: 7.7s\n",
      "568:\tlearn: 0.2153256\ttotal: 6.93s\tremaining: 7.68s\n",
      "569:\tlearn: 0.2153183\ttotal: 6.93s\tremaining: 7.66s\n",
      "570:\tlearn: 0.2152585\ttotal: 6.94s\tremaining: 7.65s\n",
      "571:\tlearn: 0.2152468\ttotal: 6.95s\tremaining: 7.63s\n",
      "572:\tlearn: 0.2151987\ttotal: 6.96s\tremaining: 7.61s\n",
      "573:\tlearn: 0.2151478\ttotal: 6.97s\tremaining: 7.6s\n",
      "574:\tlearn: 0.2151361\ttotal: 6.97s\tremaining: 7.58s\n",
      "575:\tlearn: 0.2151205\ttotal: 6.98s\tremaining: 7.56s\n",
      "576:\tlearn: 0.2151183\ttotal: 6.98s\tremaining: 7.54s\n",
      "577:\tlearn: 0.2150618\ttotal: 6.99s\tremaining: 7.52s\n",
      "578:\tlearn: 0.2150429\ttotal: 7s\tremaining: 7.5s\n",
      "579:\tlearn: 0.2149964\ttotal: 7s\tremaining: 7.49s\n",
      "580:\tlearn: 0.2149901\ttotal: 7.01s\tremaining: 7.47s\n",
      "581:\tlearn: 0.2149311\ttotal: 7.02s\tremaining: 7.45s\n",
      "582:\tlearn: 0.2148850\ttotal: 7.02s\tremaining: 7.43s\n",
      "583:\tlearn: 0.2148211\ttotal: 7.03s\tremaining: 7.42s\n",
      "584:\tlearn: 0.2147587\ttotal: 7.04s\tremaining: 7.4s\n",
      "585:\tlearn: 0.2147175\ttotal: 7.05s\tremaining: 7.38s\n",
      "586:\tlearn: 0.2146744\ttotal: 7.05s\tremaining: 7.37s\n",
      "587:\tlearn: 0.2146682\ttotal: 7.06s\tremaining: 7.35s\n",
      "588:\tlearn: 0.2146536\ttotal: 7.07s\tremaining: 7.33s\n",
      "589:\tlearn: 0.2146385\ttotal: 7.08s\tremaining: 7.32s\n",
      "590:\tlearn: 0.2145584\ttotal: 7.08s\tremaining: 7.3s\n",
      "591:\tlearn: 0.2144548\ttotal: 7.09s\tremaining: 7.28s\n",
      "592:\tlearn: 0.2144398\ttotal: 7.1s\tremaining: 7.26s\n",
      "593:\tlearn: 0.2144356\ttotal: 7.1s\tremaining: 7.25s\n",
      "594:\tlearn: 0.2143874\ttotal: 7.11s\tremaining: 7.23s\n",
      "595:\tlearn: 0.2142917\ttotal: 7.12s\tremaining: 7.21s\n",
      "596:\tlearn: 0.2142825\ttotal: 7.12s\tremaining: 7.19s\n",
      "597:\tlearn: 0.2142513\ttotal: 7.13s\tremaining: 7.18s\n",
      "598:\tlearn: 0.2141972\ttotal: 7.14s\tremaining: 7.16s\n",
      "599:\tlearn: 0.2141186\ttotal: 7.14s\tremaining: 7.14s\n",
      "600:\tlearn: 0.2140859\ttotal: 7.15s\tremaining: 7.13s\n",
      "601:\tlearn: 0.2140564\ttotal: 7.16s\tremaining: 7.11s\n",
      "602:\tlearn: 0.2140017\ttotal: 7.16s\tremaining: 7.09s\n",
      "603:\tlearn: 0.2139899\ttotal: 7.17s\tremaining: 7.07s\n",
      "604:\tlearn: 0.2139472\ttotal: 7.17s\tremaining: 7.06s\n",
      "605:\tlearn: 0.2139148\ttotal: 7.18s\tremaining: 7.04s\n",
      "606:\tlearn: 0.2138660\ttotal: 7.19s\tremaining: 7.02s\n",
      "607:\tlearn: 0.2137866\ttotal: 7.19s\tremaining: 7s\n",
      "608:\tlearn: 0.2137371\ttotal: 7.2s\tremaining: 6.99s\n",
      "609:\tlearn: 0.2137184\ttotal: 7.21s\tremaining: 6.97s\n",
      "610:\tlearn: 0.2136617\ttotal: 7.21s\tremaining: 6.95s\n",
      "611:\tlearn: 0.2136292\ttotal: 7.22s\tremaining: 6.94s\n",
      "612:\tlearn: 0.2135481\ttotal: 7.23s\tremaining: 6.92s\n",
      "613:\tlearn: 0.2135284\ttotal: 7.23s\tremaining: 6.9s\n",
      "614:\tlearn: 0.2134428\ttotal: 7.24s\tremaining: 6.89s\n",
      "615:\tlearn: 0.2134365\ttotal: 7.25s\tremaining: 6.88s\n",
      "616:\tlearn: 0.2133976\ttotal: 7.26s\tremaining: 6.86s\n",
      "617:\tlearn: 0.2133499\ttotal: 7.27s\tremaining: 6.85s\n",
      "618:\tlearn: 0.2132605\ttotal: 7.28s\tremaining: 6.83s\n",
      "619:\tlearn: 0.2132045\ttotal: 7.28s\tremaining: 6.81s\n",
      "620:\tlearn: 0.2131751\ttotal: 7.29s\tremaining: 6.8s\n",
      "621:\tlearn: 0.2131516\ttotal: 7.3s\tremaining: 6.78s\n",
      "622:\tlearn: 0.2130931\ttotal: 7.3s\tremaining: 6.76s\n",
      "623:\tlearn: 0.2130459\ttotal: 7.31s\tremaining: 6.75s\n",
      "624:\tlearn: 0.2130401\ttotal: 7.32s\tremaining: 6.73s\n",
      "625:\tlearn: 0.2129413\ttotal: 7.33s\tremaining: 6.72s\n",
      "626:\tlearn: 0.2128675\ttotal: 7.33s\tremaining: 6.7s\n",
      "627:\tlearn: 0.2128123\ttotal: 7.34s\tremaining: 6.69s\n",
      "628:\tlearn: 0.2127507\ttotal: 7.35s\tremaining: 6.67s\n",
      "629:\tlearn: 0.2127143\ttotal: 7.36s\tremaining: 6.66s\n",
      "630:\tlearn: 0.2127087\ttotal: 7.37s\tremaining: 6.64s\n",
      "631:\tlearn: 0.2126771\ttotal: 7.37s\tremaining: 6.63s\n",
      "632:\tlearn: 0.2126077\ttotal: 7.38s\tremaining: 6.61s\n",
      "633:\tlearn: 0.2126019\ttotal: 7.39s\tremaining: 6.59s\n",
      "634:\tlearn: 0.2125553\ttotal: 7.39s\tremaining: 6.58s\n",
      "635:\tlearn: 0.2125490\ttotal: 7.4s\tremaining: 6.56s\n",
      "636:\tlearn: 0.2125467\ttotal: 7.4s\tremaining: 6.54s\n",
      "637:\tlearn: 0.2125308\ttotal: 7.41s\tremaining: 6.53s\n",
      "638:\tlearn: 0.2124492\ttotal: 7.42s\tremaining: 6.51s\n",
      "639:\tlearn: 0.2124044\ttotal: 7.42s\tremaining: 6.5s\n",
      "640:\tlearn: 0.2123732\ttotal: 7.43s\tremaining: 6.48s\n",
      "641:\tlearn: 0.2123139\ttotal: 7.44s\tremaining: 6.47s\n",
      "642:\tlearn: 0.2122747\ttotal: 7.45s\tremaining: 6.45s\n",
      "643:\tlearn: 0.2122584\ttotal: 7.45s\tremaining: 6.43s\n",
      "644:\tlearn: 0.2122524\ttotal: 7.46s\tremaining: 6.42s\n",
      "645:\tlearn: 0.2122236\ttotal: 7.46s\tremaining: 6.4s\n",
      "646:\tlearn: 0.2122107\ttotal: 7.47s\tremaining: 6.38s\n",
      "647:\tlearn: 0.2121576\ttotal: 7.48s\tremaining: 6.37s\n",
      "648:\tlearn: 0.2121270\ttotal: 7.48s\tremaining: 6.35s\n",
      "649:\tlearn: 0.2120747\ttotal: 7.49s\tremaining: 6.34s\n",
      "650:\tlearn: 0.2120005\ttotal: 7.5s\tremaining: 6.32s\n",
      "651:\tlearn: 0.2119893\ttotal: 7.5s\tremaining: 6.3s\n",
      "652:\tlearn: 0.2118889\ttotal: 7.51s\tremaining: 6.29s\n",
      "653:\tlearn: 0.2118067\ttotal: 7.51s\tremaining: 6.27s\n",
      "654:\tlearn: 0.2117747\ttotal: 7.52s\tremaining: 6.26s\n",
      "655:\tlearn: 0.2117554\ttotal: 7.53s\tremaining: 6.24s\n",
      "656:\tlearn: 0.2117267\ttotal: 7.53s\tremaining: 6.22s\n",
      "657:\tlearn: 0.2117026\ttotal: 7.54s\tremaining: 6.21s\n",
      "658:\tlearn: 0.2116775\ttotal: 7.54s\tremaining: 6.19s\n",
      "659:\tlearn: 0.2116111\ttotal: 7.55s\tremaining: 6.18s\n",
      "660:\tlearn: 0.2115769\ttotal: 7.55s\tremaining: 6.16s\n",
      "661:\tlearn: 0.2115508\ttotal: 7.56s\tremaining: 6.14s\n",
      "662:\tlearn: 0.2114806\ttotal: 7.57s\tremaining: 6.13s\n",
      "663:\tlearn: 0.2114558\ttotal: 7.57s\tremaining: 6.11s\n",
      "664:\tlearn: 0.2114230\ttotal: 7.58s\tremaining: 6.1s\n",
      "665:\tlearn: 0.2113710\ttotal: 7.58s\tremaining: 6.08s\n",
      "666:\tlearn: 0.2113585\ttotal: 7.59s\tremaining: 6.06s\n"
     ]
    },
    {
     "name": "stdout",
     "output_type": "stream",
     "text": [
      "667:\tlearn: 0.2112989\ttotal: 7.6s\tremaining: 6.05s\n",
      "668:\tlearn: 0.2112929\ttotal: 7.61s\tremaining: 6.04s\n",
      "669:\tlearn: 0.2112687\ttotal: 7.61s\tremaining: 6.02s\n",
      "670:\tlearn: 0.2112641\ttotal: 7.62s\tremaining: 6.01s\n",
      "671:\tlearn: 0.2112289\ttotal: 7.63s\tremaining: 5.99s\n",
      "672:\tlearn: 0.2111862\ttotal: 7.63s\tremaining: 5.98s\n",
      "673:\tlearn: 0.2111043\ttotal: 7.64s\tremaining: 5.96s\n",
      "674:\tlearn: 0.2110901\ttotal: 7.64s\tremaining: 5.95s\n",
      "675:\tlearn: 0.2110755\ttotal: 7.65s\tremaining: 5.93s\n",
      "676:\tlearn: 0.2110275\ttotal: 7.66s\tremaining: 5.92s\n",
      "677:\tlearn: 0.2108914\ttotal: 7.66s\tremaining: 5.9s\n",
      "678:\tlearn: 0.2108393\ttotal: 7.67s\tremaining: 5.88s\n",
      "679:\tlearn: 0.2107817\ttotal: 7.67s\tremaining: 5.87s\n",
      "680:\tlearn: 0.2107662\ttotal: 7.68s\tremaining: 5.85s\n",
      "681:\tlearn: 0.2106864\ttotal: 7.69s\tremaining: 5.84s\n",
      "682:\tlearn: 0.2106296\ttotal: 7.69s\tremaining: 5.82s\n",
      "683:\tlearn: 0.2106245\ttotal: 7.7s\tremaining: 5.81s\n",
      "684:\tlearn: 0.2106068\ttotal: 7.7s\tremaining: 5.79s\n",
      "685:\tlearn: 0.2105629\ttotal: 7.71s\tremaining: 5.78s\n",
      "686:\tlearn: 0.2105065\ttotal: 7.71s\tremaining: 5.76s\n",
      "687:\tlearn: 0.2104850\ttotal: 7.72s\tremaining: 5.75s\n",
      "688:\tlearn: 0.2104631\ttotal: 7.73s\tremaining: 5.73s\n",
      "689:\tlearn: 0.2103894\ttotal: 7.73s\tremaining: 5.71s\n",
      "690:\tlearn: 0.2103234\ttotal: 7.74s\tremaining: 5.7s\n",
      "691:\tlearn: 0.2102813\ttotal: 7.75s\tremaining: 5.68s\n",
      "692:\tlearn: 0.2102426\ttotal: 7.75s\tremaining: 5.67s\n",
      "693:\tlearn: 0.2101796\ttotal: 7.76s\tremaining: 5.66s\n",
      "694:\tlearn: 0.2101737\ttotal: 7.76s\tremaining: 5.64s\n",
      "695:\tlearn: 0.2101385\ttotal: 7.77s\tremaining: 5.63s\n",
      "696:\tlearn: 0.2101299\ttotal: 7.78s\tremaining: 5.61s\n",
      "697:\tlearn: 0.2100535\ttotal: 7.79s\tremaining: 5.6s\n",
      "698:\tlearn: 0.2100408\ttotal: 7.79s\tremaining: 5.58s\n",
      "699:\tlearn: 0.2100201\ttotal: 7.8s\tremaining: 5.57s\n",
      "700:\tlearn: 0.2100116\ttotal: 7.8s\tremaining: 5.55s\n",
      "701:\tlearn: 0.2099868\ttotal: 7.81s\tremaining: 5.54s\n",
      "702:\tlearn: 0.2099729\ttotal: 7.82s\tremaining: 5.53s\n",
      "703:\tlearn: 0.2099400\ttotal: 7.82s\tremaining: 5.51s\n",
      "704:\tlearn: 0.2098853\ttotal: 7.83s\tremaining: 5.5s\n",
      "705:\tlearn: 0.2098578\ttotal: 7.83s\tremaining: 5.48s\n",
      "706:\tlearn: 0.2097989\ttotal: 7.84s\tremaining: 5.47s\n",
      "707:\tlearn: 0.2097168\ttotal: 7.84s\tremaining: 5.45s\n",
      "708:\tlearn: 0.2096675\ttotal: 7.85s\tremaining: 5.44s\n",
      "709:\tlearn: 0.2096152\ttotal: 7.86s\tremaining: 5.42s\n",
      "710:\tlearn: 0.2096032\ttotal: 7.86s\tremaining: 5.41s\n",
      "711:\tlearn: 0.2095805\ttotal: 7.87s\tremaining: 5.39s\n",
      "712:\tlearn: 0.2095641\ttotal: 7.88s\tremaining: 5.38s\n",
      "713:\tlearn: 0.2095481\ttotal: 7.88s\tremaining: 5.37s\n",
      "714:\tlearn: 0.2094880\ttotal: 7.89s\tremaining: 5.35s\n",
      "715:\tlearn: 0.2094822\ttotal: 7.9s\tremaining: 5.34s\n",
      "716:\tlearn: 0.2094352\ttotal: 7.91s\tremaining: 5.33s\n",
      "717:\tlearn: 0.2094271\ttotal: 7.92s\tremaining: 5.31s\n",
      "718:\tlearn: 0.2094239\ttotal: 7.92s\tremaining: 5.3s\n",
      "719:\tlearn: 0.2093264\ttotal: 7.93s\tremaining: 5.29s\n",
      "720:\tlearn: 0.2092645\ttotal: 7.94s\tremaining: 5.27s\n",
      "721:\tlearn: 0.2092186\ttotal: 7.94s\tremaining: 5.26s\n",
      "722:\tlearn: 0.2092091\ttotal: 7.95s\tremaining: 5.25s\n",
      "723:\tlearn: 0.2091886\ttotal: 7.96s\tremaining: 5.23s\n",
      "724:\tlearn: 0.2090823\ttotal: 7.97s\tremaining: 5.22s\n",
      "725:\tlearn: 0.2090201\ttotal: 7.98s\tremaining: 5.21s\n",
      "726:\tlearn: 0.2089852\ttotal: 7.98s\tremaining: 5.19s\n",
      "727:\tlearn: 0.2089476\ttotal: 7.99s\tremaining: 5.18s\n",
      "728:\tlearn: 0.2089378\ttotal: 8s\tremaining: 5.17s\n",
      "729:\tlearn: 0.2088418\ttotal: 8s\tremaining: 5.15s\n",
      "730:\tlearn: 0.2087617\ttotal: 8.01s\tremaining: 5.14s\n",
      "731:\tlearn: 0.2087255\ttotal: 8.02s\tremaining: 5.13s\n",
      "732:\tlearn: 0.2086763\ttotal: 8.02s\tremaining: 5.11s\n",
      "733:\tlearn: 0.2086608\ttotal: 8.03s\tremaining: 5.1s\n",
      "734:\tlearn: 0.2086558\ttotal: 8.04s\tremaining: 5.08s\n",
      "735:\tlearn: 0.2085809\ttotal: 8.04s\tremaining: 5.07s\n",
      "736:\tlearn: 0.2084872\ttotal: 8.05s\tremaining: 5.05s\n",
      "737:\tlearn: 0.2084499\ttotal: 8.05s\tremaining: 5.04s\n",
      "738:\tlearn: 0.2083483\ttotal: 8.06s\tremaining: 5.03s\n",
      "739:\tlearn: 0.2083022\ttotal: 8.07s\tremaining: 5.01s\n",
      "740:\tlearn: 0.2082542\ttotal: 8.07s\tremaining: 5s\n",
      "741:\tlearn: 0.2082501\ttotal: 8.08s\tremaining: 4.99s\n",
      "742:\tlearn: 0.2081509\ttotal: 8.09s\tremaining: 4.97s\n",
      "743:\tlearn: 0.2080971\ttotal: 8.1s\tremaining: 4.96s\n",
      "744:\tlearn: 0.2080486\ttotal: 8.1s\tremaining: 4.95s\n",
      "745:\tlearn: 0.2079739\ttotal: 8.11s\tremaining: 4.93s\n",
      "746:\tlearn: 0.2079379\ttotal: 8.12s\tremaining: 4.92s\n",
      "747:\tlearn: 0.2079340\ttotal: 8.13s\tremaining: 4.91s\n",
      "748:\tlearn: 0.2078901\ttotal: 8.13s\tremaining: 4.9s\n",
      "749:\tlearn: 0.2078460\ttotal: 8.14s\tremaining: 4.88s\n",
      "750:\tlearn: 0.2078407\ttotal: 8.15s\tremaining: 4.87s\n",
      "751:\tlearn: 0.2078063\ttotal: 8.15s\tremaining: 4.86s\n",
      "752:\tlearn: 0.2077800\ttotal: 8.16s\tremaining: 4.84s\n",
      "753:\tlearn: 0.2077751\ttotal: 8.17s\tremaining: 4.83s\n",
      "754:\tlearn: 0.2077710\ttotal: 8.17s\tremaining: 4.82s\n",
      "755:\tlearn: 0.2077589\ttotal: 8.18s\tremaining: 4.8s\n",
      "756:\tlearn: 0.2077549\ttotal: 8.19s\tremaining: 4.79s\n",
      "757:\tlearn: 0.2076820\ttotal: 8.19s\tremaining: 4.78s\n",
      "758:\tlearn: 0.2076617\ttotal: 8.2s\tremaining: 4.76s\n",
      "759:\tlearn: 0.2076498\ttotal: 8.21s\tremaining: 4.75s\n",
      "760:\tlearn: 0.2075533\ttotal: 8.21s\tremaining: 4.74s\n",
      "761:\tlearn: 0.2074813\ttotal: 8.22s\tremaining: 4.72s\n",
      "762:\tlearn: 0.2074118\ttotal: 8.23s\tremaining: 4.71s\n",
      "763:\tlearn: 0.2074067\ttotal: 8.23s\tremaining: 4.7s\n",
      "764:\tlearn: 0.2073382\ttotal: 8.24s\tremaining: 4.68s\n",
      "765:\tlearn: 0.2072997\ttotal: 8.24s\tremaining: 4.67s\n",
      "766:\tlearn: 0.2072345\ttotal: 8.25s\tremaining: 4.66s\n",
      "767:\tlearn: 0.2072014\ttotal: 8.26s\tremaining: 4.64s\n",
      "768:\tlearn: 0.2071690\ttotal: 8.27s\tremaining: 4.63s\n",
      "769:\tlearn: 0.2071117\ttotal: 8.27s\tremaining: 4.62s\n",
      "770:\tlearn: 0.2070596\ttotal: 8.28s\tremaining: 4.61s\n",
      "771:\tlearn: 0.2070244\ttotal: 8.28s\tremaining: 4.59s\n",
      "772:\tlearn: 0.2069638\ttotal: 8.29s\tremaining: 4.58s\n",
      "773:\tlearn: 0.2069323\ttotal: 8.3s\tremaining: 4.57s\n",
      "774:\tlearn: 0.2069078\ttotal: 8.3s\tremaining: 4.55s\n",
      "775:\tlearn: 0.2069026\ttotal: 8.31s\tremaining: 4.54s\n",
      "776:\tlearn: 0.2068556\ttotal: 8.32s\tremaining: 4.53s\n",
      "777:\tlearn: 0.2068529\ttotal: 8.33s\tremaining: 4.52s\n",
      "778:\tlearn: 0.2068487\ttotal: 8.33s\tremaining: 4.5s\n",
      "779:\tlearn: 0.2067994\ttotal: 8.34s\tremaining: 4.49s\n",
      "780:\tlearn: 0.2067448\ttotal: 8.35s\tremaining: 4.48s\n",
      "781:\tlearn: 0.2066913\ttotal: 8.35s\tremaining: 4.46s\n",
      "782:\tlearn: 0.2066586\ttotal: 8.36s\tremaining: 4.45s\n",
      "783:\tlearn: 0.2066050\ttotal: 8.37s\tremaining: 4.44s\n",
      "784:\tlearn: 0.2065404\ttotal: 8.37s\tremaining: 4.43s\n",
      "785:\tlearn: 0.2065191\ttotal: 8.39s\tremaining: 4.42s\n",
      "786:\tlearn: 0.2064687\ttotal: 8.4s\tremaining: 4.41s\n",
      "787:\tlearn: 0.2064385\ttotal: 8.4s\tremaining: 4.39s\n",
      "788:\tlearn: 0.2064079\ttotal: 8.41s\tremaining: 4.38s\n",
      "789:\tlearn: 0.2063195\ttotal: 8.42s\tremaining: 4.37s\n",
      "790:\tlearn: 0.2063132\ttotal: 8.43s\tremaining: 4.36s\n",
      "791:\tlearn: 0.2062616\ttotal: 8.43s\tremaining: 4.34s\n",
      "792:\tlearn: 0.2061863\ttotal: 8.44s\tremaining: 4.33s\n",
      "793:\tlearn: 0.2061353\ttotal: 8.45s\tremaining: 4.32s\n",
      "794:\tlearn: 0.2061074\ttotal: 8.45s\tremaining: 4.31s\n",
      "795:\tlearn: 0.2060767\ttotal: 8.46s\tremaining: 4.29s\n",
      "796:\tlearn: 0.2060311\ttotal: 8.47s\tremaining: 4.28s\n",
      "797:\tlearn: 0.2059845\ttotal: 8.47s\tremaining: 4.27s\n",
      "798:\tlearn: 0.2059581\ttotal: 8.48s\tremaining: 4.26s\n",
      "799:\tlearn: 0.2059339\ttotal: 8.49s\tremaining: 4.25s\n",
      "800:\tlearn: 0.2059145\ttotal: 8.5s\tremaining: 4.23s\n",
      "801:\tlearn: 0.2058847\ttotal: 8.5s\tremaining: 4.22s\n",
      "802:\tlearn: 0.2058634\ttotal: 8.51s\tremaining: 4.21s\n",
      "803:\tlearn: 0.2057799\ttotal: 8.52s\tremaining: 4.19s\n",
      "804:\tlearn: 0.2057245\ttotal: 8.53s\tremaining: 4.18s\n",
      "805:\tlearn: 0.2056794\ttotal: 8.53s\tremaining: 4.17s\n",
      "806:\tlearn: 0.2056756\ttotal: 8.54s\tremaining: 4.16s\n",
      "807:\tlearn: 0.2056567\ttotal: 8.54s\tremaining: 4.14s\n",
      "808:\tlearn: 0.2056332\ttotal: 8.55s\tremaining: 4.13s\n",
      "809:\tlearn: 0.2055843\ttotal: 8.56s\tremaining: 4.12s\n",
      "810:\tlearn: 0.2055740\ttotal: 8.57s\tremaining: 4.11s\n",
      "811:\tlearn: 0.2055708\ttotal: 8.57s\tremaining: 4.1s\n",
      "812:\tlearn: 0.2055642\ttotal: 8.58s\tremaining: 4.08s\n",
      "813:\tlearn: 0.2054811\ttotal: 8.59s\tremaining: 4.07s\n",
      "814:\tlearn: 0.2054352\ttotal: 8.59s\tremaining: 4.06s\n",
      "815:\tlearn: 0.2054070\ttotal: 8.6s\tremaining: 4.05s\n",
      "816:\tlearn: 0.2053619\ttotal: 8.6s\tremaining: 4.03s\n",
      "817:\tlearn: 0.2052811\ttotal: 8.61s\tremaining: 4.02s\n",
      "818:\tlearn: 0.2052396\ttotal: 8.62s\tremaining: 4.01s\n",
      "819:\tlearn: 0.2052125\ttotal: 8.62s\tremaining: 4s\n",
      "820:\tlearn: 0.2051588\ttotal: 8.63s\tremaining: 3.98s\n",
      "821:\tlearn: 0.2051031\ttotal: 8.64s\tremaining: 3.97s\n",
      "822:\tlearn: 0.2050905\ttotal: 8.64s\tremaining: 3.96s\n",
      "823:\tlearn: 0.2050844\ttotal: 8.65s\tremaining: 3.95s\n",
      "824:\tlearn: 0.2050210\ttotal: 8.66s\tremaining: 3.94s\n",
      "825:\tlearn: 0.2050169\ttotal: 8.67s\tremaining: 3.92s\n",
      "826:\tlearn: 0.2049385\ttotal: 8.68s\tremaining: 3.91s\n",
      "827:\tlearn: 0.2049016\ttotal: 8.68s\tremaining: 3.9s\n",
      "828:\tlearn: 0.2048385\ttotal: 8.69s\tremaining: 3.89s\n",
      "829:\tlearn: 0.2047894\ttotal: 8.7s\tremaining: 3.88s\n",
      "830:\tlearn: 0.2047416\ttotal: 8.7s\tremaining: 3.86s\n",
      "831:\tlearn: 0.2047288\ttotal: 8.71s\tremaining: 3.85s\n",
      "832:\tlearn: 0.2046646\ttotal: 8.71s\tremaining: 3.84s\n",
      "833:\tlearn: 0.2046379\ttotal: 8.72s\tremaining: 3.83s\n",
      "834:\tlearn: 0.2045914\ttotal: 8.73s\tremaining: 3.81s\n",
      "835:\tlearn: 0.2045856\ttotal: 8.73s\tremaining: 3.8s\n",
      "836:\tlearn: 0.2044439\ttotal: 8.74s\tremaining: 3.79s\n",
      "837:\tlearn: 0.2043986\ttotal: 8.75s\tremaining: 3.78s\n",
      "838:\tlearn: 0.2043763\ttotal: 8.76s\tremaining: 3.77s\n",
      "839:\tlearn: 0.2043678\ttotal: 8.76s\tremaining: 3.75s\n",
      "840:\tlearn: 0.2043150\ttotal: 8.77s\tremaining: 3.74s\n",
      "841:\tlearn: 0.2042792\ttotal: 8.78s\tremaining: 3.73s\n",
      "842:\tlearn: 0.2042327\ttotal: 8.78s\tremaining: 3.72s\n",
      "843:\tlearn: 0.2041723\ttotal: 8.79s\tremaining: 3.71s\n",
      "844:\tlearn: 0.2041462\ttotal: 8.79s\tremaining: 3.69s\n",
      "845:\tlearn: 0.2041354\ttotal: 8.8s\tremaining: 3.68s\n",
      "846:\tlearn: 0.2041120\ttotal: 8.81s\tremaining: 3.67s\n"
     ]
    },
    {
     "name": "stdout",
     "output_type": "stream",
     "text": [
      "847:\tlearn: 0.2040671\ttotal: 8.82s\tremaining: 3.66s\n",
      "848:\tlearn: 0.2040622\ttotal: 8.82s\tremaining: 3.65s\n",
      "849:\tlearn: 0.2040113\ttotal: 8.83s\tremaining: 3.64s\n",
      "850:\tlearn: 0.2039257\ttotal: 8.84s\tremaining: 3.63s\n",
      "851:\tlearn: 0.2039041\ttotal: 8.85s\tremaining: 3.61s\n",
      "852:\tlearn: 0.2038945\ttotal: 8.85s\tremaining: 3.6s\n",
      "853:\tlearn: 0.2038208\ttotal: 8.86s\tremaining: 3.59s\n",
      "854:\tlearn: 0.2037795\ttotal: 8.87s\tremaining: 3.58s\n",
      "855:\tlearn: 0.2037585\ttotal: 8.88s\tremaining: 3.57s\n",
      "856:\tlearn: 0.2037150\ttotal: 8.88s\tremaining: 3.56s\n",
      "857:\tlearn: 0.2036906\ttotal: 8.89s\tremaining: 3.54s\n",
      "858:\tlearn: 0.2036755\ttotal: 8.9s\tremaining: 3.53s\n",
      "859:\tlearn: 0.2036705\ttotal: 8.9s\tremaining: 3.52s\n",
      "860:\tlearn: 0.2036452\ttotal: 8.91s\tremaining: 3.51s\n",
      "861:\tlearn: 0.2036081\ttotal: 8.92s\tremaining: 3.5s\n",
      "862:\tlearn: 0.2036026\ttotal: 8.92s\tremaining: 3.48s\n",
      "863:\tlearn: 0.2035312\ttotal: 8.93s\tremaining: 3.47s\n",
      "864:\tlearn: 0.2035190\ttotal: 8.94s\tremaining: 3.46s\n",
      "865:\tlearn: 0.2034613\ttotal: 8.94s\tremaining: 3.45s\n",
      "866:\tlearn: 0.2034119\ttotal: 8.95s\tremaining: 3.44s\n",
      "867:\tlearn: 0.2033876\ttotal: 8.96s\tremaining: 3.42s\n",
      "868:\tlearn: 0.2033453\ttotal: 8.96s\tremaining: 3.41s\n",
      "869:\tlearn: 0.2033422\ttotal: 8.97s\tremaining: 3.4s\n",
      "870:\tlearn: 0.2032728\ttotal: 8.98s\tremaining: 3.39s\n",
      "871:\tlearn: 0.2032482\ttotal: 8.98s\tremaining: 3.38s\n",
      "872:\tlearn: 0.2032335\ttotal: 8.99s\tremaining: 3.37s\n",
      "873:\tlearn: 0.2031806\ttotal: 9s\tremaining: 3.35s\n",
      "874:\tlearn: 0.2031683\ttotal: 9.01s\tremaining: 3.35s\n",
      "875:\tlearn: 0.2031169\ttotal: 9.02s\tremaining: 3.33s\n",
      "876:\tlearn: 0.2030614\ttotal: 9.02s\tremaining: 3.32s\n",
      "877:\tlearn: 0.2030030\ttotal: 9.03s\tremaining: 3.31s\n",
      "878:\tlearn: 0.2028707\ttotal: 9.04s\tremaining: 3.3s\n",
      "879:\tlearn: 0.2028094\ttotal: 9.04s\tremaining: 3.29s\n",
      "880:\tlearn: 0.2027631\ttotal: 9.05s\tremaining: 3.28s\n",
      "881:\tlearn: 0.2027512\ttotal: 9.06s\tremaining: 3.27s\n",
      "882:\tlearn: 0.2027265\ttotal: 9.06s\tremaining: 3.25s\n",
      "883:\tlearn: 0.2026762\ttotal: 9.07s\tremaining: 3.24s\n",
      "884:\tlearn: 0.2026221\ttotal: 9.08s\tremaining: 3.23s\n",
      "885:\tlearn: 0.2025727\ttotal: 9.08s\tremaining: 3.22s\n",
      "886:\tlearn: 0.2025698\ttotal: 9.09s\tremaining: 3.21s\n",
      "887:\tlearn: 0.2024788\ttotal: 9.1s\tremaining: 3.2s\n",
      "888:\tlearn: 0.2024700\ttotal: 9.1s\tremaining: 3.19s\n",
      "889:\tlearn: 0.2024374\ttotal: 9.11s\tremaining: 3.17s\n",
      "890:\tlearn: 0.2024013\ttotal: 9.12s\tremaining: 3.16s\n",
      "891:\tlearn: 0.2023984\ttotal: 9.12s\tremaining: 3.15s\n",
      "892:\tlearn: 0.2023810\ttotal: 9.13s\tremaining: 3.14s\n",
      "893:\tlearn: 0.2022544\ttotal: 9.14s\tremaining: 3.13s\n",
      "894:\tlearn: 0.2022359\ttotal: 9.14s\tremaining: 3.12s\n",
      "895:\tlearn: 0.2021794\ttotal: 9.15s\tremaining: 3.1s\n",
      "896:\tlearn: 0.2021634\ttotal: 9.16s\tremaining: 3.09s\n",
      "897:\tlearn: 0.2020988\ttotal: 9.16s\tremaining: 3.08s\n",
      "898:\tlearn: 0.2020563\ttotal: 9.17s\tremaining: 3.07s\n",
      "899:\tlearn: 0.2020114\ttotal: 9.18s\tremaining: 3.06s\n",
      "900:\tlearn: 0.2019933\ttotal: 9.19s\tremaining: 3.05s\n",
      "901:\tlearn: 0.2019642\ttotal: 9.2s\tremaining: 3.04s\n",
      "902:\tlearn: 0.2019002\ttotal: 9.2s\tremaining: 3.03s\n",
      "903:\tlearn: 0.2018680\ttotal: 9.21s\tremaining: 3.01s\n",
      "904:\tlearn: 0.2017463\ttotal: 9.22s\tremaining: 3s\n",
      "905:\tlearn: 0.2017428\ttotal: 9.22s\tremaining: 2.99s\n",
      "906:\tlearn: 0.2016803\ttotal: 9.23s\tremaining: 2.98s\n",
      "907:\tlearn: 0.2016749\ttotal: 9.23s\tremaining: 2.97s\n",
      "908:\tlearn: 0.2016512\ttotal: 9.24s\tremaining: 2.96s\n",
      "909:\tlearn: 0.2016058\ttotal: 9.25s\tremaining: 2.95s\n",
      "910:\tlearn: 0.2016012\ttotal: 9.26s\tremaining: 2.94s\n",
      "911:\tlearn: 0.2015493\ttotal: 9.26s\tremaining: 2.92s\n",
      "912:\tlearn: 0.2015262\ttotal: 9.27s\tremaining: 2.91s\n",
      "913:\tlearn: 0.2015036\ttotal: 9.28s\tremaining: 2.9s\n",
      "914:\tlearn: 0.2014588\ttotal: 9.28s\tremaining: 2.89s\n",
      "915:\tlearn: 0.2014553\ttotal: 9.29s\tremaining: 2.88s\n",
      "916:\tlearn: 0.2014052\ttotal: 9.29s\tremaining: 2.87s\n",
      "917:\tlearn: 0.2013445\ttotal: 9.3s\tremaining: 2.86s\n",
      "918:\tlearn: 0.2013372\ttotal: 9.31s\tremaining: 2.85s\n",
      "919:\tlearn: 0.2013087\ttotal: 9.31s\tremaining: 2.83s\n",
      "920:\tlearn: 0.2012924\ttotal: 9.32s\tremaining: 2.82s\n",
      "921:\tlearn: 0.2012200\ttotal: 9.33s\tremaining: 2.81s\n",
      "922:\tlearn: 0.2011978\ttotal: 9.33s\tremaining: 2.8s\n",
      "923:\tlearn: 0.2011478\ttotal: 9.35s\tremaining: 2.79s\n",
      "924:\tlearn: 0.2011357\ttotal: 9.35s\tremaining: 2.78s\n",
      "925:\tlearn: 0.2010770\ttotal: 9.36s\tremaining: 2.77s\n",
      "926:\tlearn: 0.2010291\ttotal: 9.37s\tremaining: 2.76s\n",
      "927:\tlearn: 0.2010086\ttotal: 9.37s\tremaining: 2.75s\n",
      "928:\tlearn: 0.2009887\ttotal: 9.38s\tremaining: 2.74s\n",
      "929:\tlearn: 0.2009861\ttotal: 9.39s\tremaining: 2.73s\n",
      "930:\tlearn: 0.2009374\ttotal: 9.39s\tremaining: 2.71s\n",
      "931:\tlearn: 0.2009125\ttotal: 9.4s\tremaining: 2.7s\n",
      "932:\tlearn: 0.2008565\ttotal: 9.41s\tremaining: 2.69s\n",
      "933:\tlearn: 0.2008459\ttotal: 9.41s\tremaining: 2.68s\n",
      "934:\tlearn: 0.2007878\ttotal: 9.42s\tremaining: 2.67s\n",
      "935:\tlearn: 0.2007312\ttotal: 9.43s\tremaining: 2.66s\n",
      "936:\tlearn: 0.2007183\ttotal: 9.43s\tremaining: 2.65s\n",
      "937:\tlearn: 0.2006634\ttotal: 9.44s\tremaining: 2.64s\n",
      "938:\tlearn: 0.2006556\ttotal: 9.45s\tremaining: 2.63s\n",
      "939:\tlearn: 0.2006365\ttotal: 9.45s\tremaining: 2.61s\n",
      "940:\tlearn: 0.2005471\ttotal: 9.46s\tremaining: 2.6s\n",
      "941:\tlearn: 0.2005097\ttotal: 9.47s\tremaining: 2.59s\n",
      "942:\tlearn: 0.2004685\ttotal: 9.47s\tremaining: 2.58s\n",
      "943:\tlearn: 0.2004130\ttotal: 9.48s\tremaining: 2.57s\n",
      "944:\tlearn: 0.2004104\ttotal: 9.48s\tremaining: 2.56s\n",
      "945:\tlearn: 0.2003599\ttotal: 9.49s\tremaining: 2.55s\n",
      "946:\tlearn: 0.2003423\ttotal: 9.5s\tremaining: 2.54s\n",
      "947:\tlearn: 0.2003052\ttotal: 9.51s\tremaining: 2.53s\n",
      "948:\tlearn: 0.2002559\ttotal: 9.51s\tremaining: 2.52s\n",
      "949:\tlearn: 0.2002150\ttotal: 9.52s\tremaining: 2.5s\n",
      "950:\tlearn: 0.2002125\ttotal: 9.53s\tremaining: 2.49s\n",
      "951:\tlearn: 0.2002095\ttotal: 9.53s\tremaining: 2.48s\n",
      "952:\tlearn: 0.2001927\ttotal: 9.54s\tremaining: 2.47s\n",
      "953:\tlearn: 0.2001232\ttotal: 9.55s\tremaining: 2.46s\n",
      "954:\tlearn: 0.2000742\ttotal: 9.56s\tremaining: 2.45s\n",
      "955:\tlearn: 0.1999886\ttotal: 9.56s\tremaining: 2.44s\n",
      "956:\tlearn: 0.1999375\ttotal: 9.57s\tremaining: 2.43s\n",
      "957:\tlearn: 0.1999316\ttotal: 9.58s\tremaining: 2.42s\n",
      "958:\tlearn: 0.1998925\ttotal: 9.58s\tremaining: 2.41s\n",
      "959:\tlearn: 0.1998773\ttotal: 9.59s\tremaining: 2.4s\n",
      "960:\tlearn: 0.1998420\ttotal: 9.6s\tremaining: 2.39s\n",
      "961:\tlearn: 0.1997884\ttotal: 9.6s\tremaining: 2.38s\n",
      "962:\tlearn: 0.1997863\ttotal: 9.61s\tremaining: 2.37s\n",
      "963:\tlearn: 0.1997418\ttotal: 9.62s\tremaining: 2.35s\n",
      "964:\tlearn: 0.1997206\ttotal: 9.62s\tremaining: 2.34s\n",
      "965:\tlearn: 0.1996668\ttotal: 9.63s\tremaining: 2.33s\n",
      "966:\tlearn: 0.1996088\ttotal: 9.64s\tremaining: 2.32s\n",
      "967:\tlearn: 0.1995920\ttotal: 9.64s\tremaining: 2.31s\n",
      "968:\tlearn: 0.1995488\ttotal: 9.65s\tremaining: 2.3s\n",
      "969:\tlearn: 0.1995460\ttotal: 9.65s\tremaining: 2.29s\n",
      "970:\tlearn: 0.1995375\ttotal: 9.66s\tremaining: 2.28s\n",
      "971:\tlearn: 0.1995014\ttotal: 9.67s\tremaining: 2.27s\n",
      "972:\tlearn: 0.1994991\ttotal: 9.67s\tremaining: 2.26s\n",
      "973:\tlearn: 0.1994794\ttotal: 9.68s\tremaining: 2.25s\n",
      "974:\tlearn: 0.1994321\ttotal: 9.69s\tremaining: 2.23s\n",
      "975:\tlearn: 0.1993901\ttotal: 9.69s\tremaining: 2.22s\n",
      "976:\tlearn: 0.1993877\ttotal: 9.7s\tremaining: 2.21s\n",
      "977:\tlearn: 0.1993151\ttotal: 9.71s\tremaining: 2.2s\n",
      "978:\tlearn: 0.1993120\ttotal: 9.72s\tremaining: 2.19s\n",
      "979:\tlearn: 0.1993097\ttotal: 9.72s\tremaining: 2.18s\n",
      "980:\tlearn: 0.1992635\ttotal: 9.73s\tremaining: 2.17s\n",
      "981:\tlearn: 0.1992612\ttotal: 9.74s\tremaining: 2.16s\n",
      "982:\tlearn: 0.1992471\ttotal: 9.74s\tremaining: 2.15s\n",
      "983:\tlearn: 0.1992014\ttotal: 9.75s\tremaining: 2.14s\n",
      "984:\tlearn: 0.1991987\ttotal: 9.76s\tremaining: 2.13s\n",
      "985:\tlearn: 0.1991473\ttotal: 9.76s\tremaining: 2.12s\n",
      "986:\tlearn: 0.1991107\ttotal: 9.77s\tremaining: 2.11s\n",
      "987:\tlearn: 0.1990754\ttotal: 9.78s\tremaining: 2.1s\n",
      "988:\tlearn: 0.1990239\ttotal: 9.78s\tremaining: 2.09s\n",
      "989:\tlearn: 0.1989537\ttotal: 9.79s\tremaining: 2.08s\n",
      "990:\tlearn: 0.1989026\ttotal: 9.8s\tremaining: 2.07s\n",
      "991:\tlearn: 0.1988821\ttotal: 9.8s\tremaining: 2.06s\n",
      "992:\tlearn: 0.1988445\ttotal: 9.81s\tremaining: 2.04s\n",
      "993:\tlearn: 0.1988424\ttotal: 9.82s\tremaining: 2.03s\n",
      "994:\tlearn: 0.1988342\ttotal: 9.82s\tremaining: 2.02s\n",
      "995:\tlearn: 0.1988321\ttotal: 9.83s\tremaining: 2.01s\n",
      "996:\tlearn: 0.1988210\ttotal: 9.84s\tremaining: 2s\n",
      "997:\tlearn: 0.1987806\ttotal: 9.84s\tremaining: 1.99s\n",
      "998:\tlearn: 0.1987779\ttotal: 9.85s\tremaining: 1.98s\n",
      "999:\tlearn: 0.1987619\ttotal: 9.86s\tremaining: 1.97s\n",
      "1000:\tlearn: 0.1987528\ttotal: 9.86s\tremaining: 1.96s\n",
      "1001:\tlearn: 0.1987153\ttotal: 9.87s\tremaining: 1.95s\n",
      "1002:\tlearn: 0.1987132\ttotal: 9.88s\tremaining: 1.94s\n",
      "1003:\tlearn: 0.1986718\ttotal: 9.88s\tremaining: 1.93s\n",
      "1004:\tlearn: 0.1986652\ttotal: 9.89s\tremaining: 1.92s\n",
      "1005:\tlearn: 0.1986630\ttotal: 9.9s\tremaining: 1.91s\n",
      "1006:\tlearn: 0.1986236\ttotal: 9.9s\tremaining: 1.9s\n",
      "1007:\tlearn: 0.1985591\ttotal: 9.91s\tremaining: 1.89s\n",
      "1008:\tlearn: 0.1985306\ttotal: 9.92s\tremaining: 1.88s\n",
      "1009:\tlearn: 0.1984952\ttotal: 9.92s\tremaining: 1.87s\n",
      "1010:\tlearn: 0.1984490\ttotal: 9.93s\tremaining: 1.86s\n",
      "1011:\tlearn: 0.1983861\ttotal: 9.94s\tremaining: 1.85s\n",
      "1012:\tlearn: 0.1983583\ttotal: 9.94s\tremaining: 1.83s\n",
      "1013:\tlearn: 0.1983340\ttotal: 9.95s\tremaining: 1.82s\n",
      "1014:\tlearn: 0.1983077\ttotal: 9.96s\tremaining: 1.81s\n",
      "1015:\tlearn: 0.1982724\ttotal: 9.96s\tremaining: 1.8s\n",
      "1016:\tlearn: 0.1982060\ttotal: 9.97s\tremaining: 1.79s\n",
      "1017:\tlearn: 0.1981092\ttotal: 9.97s\tremaining: 1.78s\n",
      "1018:\tlearn: 0.1981081\ttotal: 9.98s\tremaining: 1.77s\n",
      "1019:\tlearn: 0.1980615\ttotal: 9.99s\tremaining: 1.76s\n",
      "1020:\tlearn: 0.1980296\ttotal: 9.99s\tremaining: 1.75s\n",
      "1021:\tlearn: 0.1979829\ttotal: 10s\tremaining: 1.74s\n",
      "1022:\tlearn: 0.1979043\ttotal: 10s\tremaining: 1.73s\n",
      "1023:\tlearn: 0.1978975\ttotal: 10s\tremaining: 1.72s\n",
      "1024:\tlearn: 0.1978736\ttotal: 10s\tremaining: 1.71s\n",
      "1025:\tlearn: 0.1978433\ttotal: 10s\tremaining: 1.7s\n",
      "1026:\tlearn: 0.1977496\ttotal: 10s\tremaining: 1.69s\n"
     ]
    },
    {
     "name": "stdout",
     "output_type": "stream",
     "text": [
      "1027:\tlearn: 0.1977109\ttotal: 10s\tremaining: 1.68s\n",
      "1028:\tlearn: 0.1976970\ttotal: 10s\tremaining: 1.67s\n",
      "1029:\tlearn: 0.1976606\ttotal: 10.1s\tremaining: 1.66s\n",
      "1030:\tlearn: 0.1976269\ttotal: 10.1s\tremaining: 1.65s\n",
      "1031:\tlearn: 0.1976078\ttotal: 10.1s\tremaining: 1.64s\n",
      "1032:\tlearn: 0.1975668\ttotal: 10.1s\tremaining: 1.63s\n",
      "1033:\tlearn: 0.1975193\ttotal: 10.1s\tremaining: 1.62s\n",
      "1034:\tlearn: 0.1975058\ttotal: 10.1s\tremaining: 1.61s\n",
      "1035:\tlearn: 0.1974685\ttotal: 10.1s\tremaining: 1.6s\n",
      "1036:\tlearn: 0.1974043\ttotal: 10.1s\tremaining: 1.59s\n",
      "1037:\tlearn: 0.1973389\ttotal: 10.1s\tremaining: 1.58s\n",
      "1038:\tlearn: 0.1973138\ttotal: 10.1s\tremaining: 1.57s\n",
      "1039:\tlearn: 0.1972780\ttotal: 10.1s\tremaining: 1.56s\n",
      "1040:\tlearn: 0.1972371\ttotal: 10.1s\tremaining: 1.55s\n",
      "1041:\tlearn: 0.1971963\ttotal: 10.1s\tremaining: 1.54s\n",
      "1042:\tlearn: 0.1971608\ttotal: 10.1s\tremaining: 1.53s\n",
      "1043:\tlearn: 0.1971103\ttotal: 10.1s\tremaining: 1.52s\n",
      "1044:\tlearn: 0.1970578\ttotal: 10.2s\tremaining: 1.51s\n",
      "1045:\tlearn: 0.1970532\ttotal: 10.2s\tremaining: 1.5s\n",
      "1046:\tlearn: 0.1970514\ttotal: 10.2s\tremaining: 1.49s\n",
      "1047:\tlearn: 0.1970379\ttotal: 10.2s\tremaining: 1.48s\n",
      "1048:\tlearn: 0.1970359\ttotal: 10.2s\tremaining: 1.47s\n",
      "1049:\tlearn: 0.1970228\ttotal: 10.2s\tremaining: 1.46s\n",
      "1050:\tlearn: 0.1969421\ttotal: 10.2s\tremaining: 1.45s\n",
      "1051:\tlearn: 0.1969060\ttotal: 10.2s\tremaining: 1.44s\n",
      "1052:\tlearn: 0.1968572\ttotal: 10.2s\tremaining: 1.42s\n",
      "1053:\tlearn: 0.1968443\ttotal: 10.2s\tremaining: 1.42s\n",
      "1054:\tlearn: 0.1968099\ttotal: 10.2s\tremaining: 1.41s\n",
      "1055:\tlearn: 0.1967756\ttotal: 10.2s\tremaining: 1.4s\n",
      "1056:\tlearn: 0.1967369\ttotal: 10.2s\tremaining: 1.39s\n",
      "1057:\tlearn: 0.1967081\ttotal: 10.2s\tremaining: 1.38s\n",
      "1058:\tlearn: 0.1967062\ttotal: 10.3s\tremaining: 1.36s\n",
      "1059:\tlearn: 0.1967049\ttotal: 10.3s\tremaining: 1.35s\n",
      "1060:\tlearn: 0.1966462\ttotal: 10.3s\tremaining: 1.34s\n",
      "1061:\tlearn: 0.1966394\ttotal: 10.3s\tremaining: 1.33s\n",
      "1062:\tlearn: 0.1966026\ttotal: 10.3s\tremaining: 1.32s\n",
      "1063:\tlearn: 0.1965887\ttotal: 10.3s\tremaining: 1.31s\n",
      "1064:\tlearn: 0.1965451\ttotal: 10.3s\tremaining: 1.3s\n",
      "1065:\tlearn: 0.1965225\ttotal: 10.3s\tremaining: 1.29s\n",
      "1066:\tlearn: 0.1964803\ttotal: 10.3s\tremaining: 1.28s\n",
      "1067:\tlearn: 0.1964678\ttotal: 10.3s\tremaining: 1.27s\n",
      "1068:\tlearn: 0.1964037\ttotal: 10.3s\tremaining: 1.26s\n",
      "1069:\tlearn: 0.1963851\ttotal: 10.3s\tremaining: 1.25s\n",
      "1070:\tlearn: 0.1963414\ttotal: 10.3s\tremaining: 1.24s\n",
      "1071:\tlearn: 0.1963300\ttotal: 10.3s\tremaining: 1.23s\n",
      "1072:\tlearn: 0.1962864\ttotal: 10.3s\tremaining: 1.22s\n",
      "1073:\tlearn: 0.1962814\ttotal: 10.3s\tremaining: 1.21s\n",
      "1074:\tlearn: 0.1962793\ttotal: 10.4s\tremaining: 1.2s\n",
      "1075:\tlearn: 0.1962775\ttotal: 10.4s\tremaining: 1.19s\n",
      "1076:\tlearn: 0.1962529\ttotal: 10.4s\tremaining: 1.18s\n",
      "1077:\tlearn: 0.1962171\ttotal: 10.4s\tremaining: 1.17s\n",
      "1078:\tlearn: 0.1961665\ttotal: 10.4s\tremaining: 1.16s\n",
      "1079:\tlearn: 0.1961315\ttotal: 10.4s\tremaining: 1.15s\n",
      "1080:\tlearn: 0.1961293\ttotal: 10.4s\tremaining: 1.14s\n",
      "1081:\tlearn: 0.1960840\ttotal: 10.4s\tremaining: 1.13s\n",
      "1082:\tlearn: 0.1960499\ttotal: 10.4s\tremaining: 1.12s\n",
      "1083:\tlearn: 0.1960066\ttotal: 10.4s\tremaining: 1.11s\n",
      "1084:\tlearn: 0.1959710\ttotal: 10.4s\tremaining: 1.1s\n",
      "1085:\tlearn: 0.1959320\ttotal: 10.4s\tremaining: 1.09s\n",
      "1086:\tlearn: 0.1958856\ttotal: 10.4s\tremaining: 1.08s\n",
      "1087:\tlearn: 0.1958437\ttotal: 10.4s\tremaining: 1.07s\n",
      "1088:\tlearn: 0.1958315\ttotal: 10.5s\tremaining: 1.06s\n",
      "1089:\tlearn: 0.1958052\ttotal: 10.5s\tremaining: 1.05s\n",
      "1090:\tlearn: 0.1957634\ttotal: 10.5s\tremaining: 1.04s\n",
      "1091:\tlearn: 0.1957580\ttotal: 10.5s\tremaining: 1.03s\n",
      "1092:\tlearn: 0.1957159\ttotal: 10.5s\tremaining: 1.02s\n",
      "1093:\tlearn: 0.1956946\ttotal: 10.5s\tremaining: 1.01s\n",
      "1094:\tlearn: 0.1956378\ttotal: 10.5s\tremaining: 1.01s\n",
      "1095:\tlearn: 0.1955973\ttotal: 10.5s\tremaining: 996ms\n",
      "1096:\tlearn: 0.1955161\ttotal: 10.5s\tremaining: 986ms\n",
      "1097:\tlearn: 0.1954780\ttotal: 10.5s\tremaining: 977ms\n",
      "1098:\tlearn: 0.1954662\ttotal: 10.5s\tremaining: 967ms\n",
      "1099:\tlearn: 0.1953982\ttotal: 10.5s\tremaining: 957ms\n",
      "1100:\tlearn: 0.1953866\ttotal: 10.5s\tremaining: 947ms\n",
      "1101:\tlearn: 0.1953785\ttotal: 10.5s\tremaining: 937ms\n",
      "1102:\tlearn: 0.1953459\ttotal: 10.5s\tremaining: 927ms\n",
      "1103:\tlearn: 0.1953399\ttotal: 10.6s\tremaining: 918ms\n",
      "1104:\tlearn: 0.1953118\ttotal: 10.6s\tremaining: 908ms\n",
      "1105:\tlearn: 0.1953005\ttotal: 10.6s\tremaining: 898ms\n",
      "1106:\tlearn: 0.1952530\ttotal: 10.6s\tremaining: 889ms\n",
      "1107:\tlearn: 0.1952435\ttotal: 10.6s\tremaining: 879ms\n",
      "1108:\tlearn: 0.1952229\ttotal: 10.6s\tremaining: 869ms\n",
      "1109:\tlearn: 0.1951453\ttotal: 10.6s\tremaining: 859ms\n",
      "1110:\tlearn: 0.1951034\ttotal: 10.6s\tremaining: 850ms\n",
      "1111:\tlearn: 0.1950739\ttotal: 10.6s\tremaining: 840ms\n",
      "1112:\tlearn: 0.1950187\ttotal: 10.6s\tremaining: 830ms\n",
      "1113:\tlearn: 0.1949848\ttotal: 10.6s\tremaining: 820ms\n",
      "1114:\tlearn: 0.1949261\ttotal: 10.6s\tremaining: 811ms\n",
      "1115:\tlearn: 0.1948971\ttotal: 10.6s\tremaining: 801ms\n",
      "1116:\tlearn: 0.1948653\ttotal: 10.6s\tremaining: 791ms\n",
      "1117:\tlearn: 0.1948211\ttotal: 10.7s\tremaining: 781ms\n",
      "1118:\tlearn: 0.1947772\ttotal: 10.7s\tremaining: 772ms\n",
      "1119:\tlearn: 0.1947758\ttotal: 10.7s\tremaining: 762ms\n",
      "1120:\tlearn: 0.1947559\ttotal: 10.7s\tremaining: 752ms\n",
      "1121:\tlearn: 0.1947241\ttotal: 10.7s\tremaining: 742ms\n",
      "1122:\tlearn: 0.1946496\ttotal: 10.7s\tremaining: 733ms\n",
      "1123:\tlearn: 0.1946068\ttotal: 10.7s\tremaining: 723ms\n",
      "1124:\tlearn: 0.1945321\ttotal: 10.7s\tremaining: 713ms\n",
      "1125:\tlearn: 0.1945289\ttotal: 10.7s\tremaining: 704ms\n",
      "1126:\tlearn: 0.1945201\ttotal: 10.7s\tremaining: 694ms\n",
      "1127:\tlearn: 0.1944802\ttotal: 10.7s\tremaining: 684ms\n",
      "1128:\tlearn: 0.1944775\ttotal: 10.7s\tremaining: 675ms\n",
      "1129:\tlearn: 0.1944723\ttotal: 10.7s\tremaining: 665ms\n",
      "1130:\tlearn: 0.1944315\ttotal: 10.7s\tremaining: 655ms\n",
      "1131:\tlearn: 0.1944221\ttotal: 10.7s\tremaining: 646ms\n",
      "1132:\tlearn: 0.1943900\ttotal: 10.8s\tremaining: 636ms\n",
      "1133:\tlearn: 0.1943425\ttotal: 10.8s\tremaining: 626ms\n",
      "1134:\tlearn: 0.1943345\ttotal: 10.8s\tremaining: 617ms\n",
      "1135:\tlearn: 0.1943247\ttotal: 10.8s\tremaining: 607ms\n",
      "1136:\tlearn: 0.1942934\ttotal: 10.8s\tremaining: 598ms\n",
      "1137:\tlearn: 0.1942621\ttotal: 10.8s\tremaining: 588ms\n",
      "1138:\tlearn: 0.1942189\ttotal: 10.8s\tremaining: 578ms\n",
      "1139:\tlearn: 0.1941816\ttotal: 10.8s\tremaining: 569ms\n",
      "1140:\tlearn: 0.1941512\ttotal: 10.8s\tremaining: 559ms\n",
      "1141:\tlearn: 0.1941235\ttotal: 10.8s\tremaining: 549ms\n",
      "1142:\tlearn: 0.1941111\ttotal: 10.8s\tremaining: 540ms\n",
      "1143:\tlearn: 0.1941012\ttotal: 10.8s\tremaining: 530ms\n",
      "1144:\tlearn: 0.1940672\ttotal: 10.8s\tremaining: 520ms\n",
      "1145:\tlearn: 0.1940397\ttotal: 10.8s\tremaining: 511ms\n",
      "1146:\tlearn: 0.1940353\ttotal: 10.8s\tremaining: 501ms\n",
      "1147:\tlearn: 0.1940264\ttotal: 10.9s\tremaining: 492ms\n",
      "1148:\tlearn: 0.1940195\ttotal: 10.9s\tremaining: 482ms\n",
      "1149:\tlearn: 0.1940029\ttotal: 10.9s\tremaining: 473ms\n",
      "1150:\tlearn: 0.1939595\ttotal: 10.9s\tremaining: 463ms\n",
      "1151:\tlearn: 0.1939385\ttotal: 10.9s\tremaining: 453ms\n",
      "1152:\tlearn: 0.1939054\ttotal: 10.9s\tremaining: 444ms\n",
      "1153:\tlearn: 0.1938663\ttotal: 10.9s\tremaining: 434ms\n",
      "1154:\tlearn: 0.1938652\ttotal: 10.9s\tremaining: 425ms\n",
      "1155:\tlearn: 0.1938235\ttotal: 10.9s\tremaining: 415ms\n",
      "1156:\tlearn: 0.1937678\ttotal: 10.9s\tremaining: 406ms\n",
      "1157:\tlearn: 0.1937256\ttotal: 10.9s\tremaining: 396ms\n",
      "1158:\tlearn: 0.1936879\ttotal: 10.9s\tremaining: 387ms\n",
      "1159:\tlearn: 0.1936563\ttotal: 10.9s\tremaining: 377ms\n",
      "1160:\tlearn: 0.1936319\ttotal: 10.9s\tremaining: 368ms\n",
      "1161:\tlearn: 0.1936138\ttotal: 11s\tremaining: 358ms\n",
      "1162:\tlearn: 0.1936121\ttotal: 11s\tremaining: 349ms\n",
      "1163:\tlearn: 0.1935863\ttotal: 11s\tremaining: 339ms\n",
      "1164:\tlearn: 0.1935706\ttotal: 11s\tremaining: 330ms\n",
      "1165:\tlearn: 0.1935237\ttotal: 11s\tremaining: 320ms\n",
      "1166:\tlearn: 0.1935184\ttotal: 11s\tremaining: 311ms\n",
      "1167:\tlearn: 0.1934999\ttotal: 11s\tremaining: 301ms\n",
      "1168:\tlearn: 0.1934401\ttotal: 11s\tremaining: 292ms\n",
      "1169:\tlearn: 0.1934110\ttotal: 11s\tremaining: 282ms\n",
      "1170:\tlearn: 0.1933676\ttotal: 11s\tremaining: 273ms\n",
      "1171:\tlearn: 0.1933600\ttotal: 11s\tremaining: 263ms\n",
      "1172:\tlearn: 0.1933352\ttotal: 11s\tremaining: 254ms\n",
      "1173:\tlearn: 0.1933222\ttotal: 11s\tremaining: 244ms\n",
      "1174:\tlearn: 0.1932845\ttotal: 11s\tremaining: 235ms\n",
      "1175:\tlearn: 0.1932825\ttotal: 11s\tremaining: 225ms\n",
      "1176:\tlearn: 0.1932716\ttotal: 11s\tremaining: 216ms\n",
      "1177:\tlearn: 0.1932477\ttotal: 11.1s\tremaining: 206ms\n",
      "1178:\tlearn: 0.1931767\ttotal: 11.1s\tremaining: 197ms\n",
      "1179:\tlearn: 0.1931343\ttotal: 11.1s\tremaining: 188ms\n",
      "1180:\tlearn: 0.1930331\ttotal: 11.1s\tremaining: 178ms\n",
      "1181:\tlearn: 0.1930033\ttotal: 11.1s\tremaining: 169ms\n",
      "1182:\tlearn: 0.1929884\ttotal: 11.1s\tremaining: 159ms\n"
     ]
    },
    {
     "name": "stdout",
     "output_type": "stream",
     "text": [
      "1183:\tlearn: 0.1929590\ttotal: 11.1s\tremaining: 150ms\n",
      "1184:\tlearn: 0.1929224\ttotal: 11.1s\tremaining: 141ms\n",
      "1185:\tlearn: 0.1929013\ttotal: 11.1s\tremaining: 131ms\n",
      "1186:\tlearn: 0.1928490\ttotal: 11.1s\tremaining: 122ms\n",
      "1187:\tlearn: 0.1928389\ttotal: 11.1s\tremaining: 112ms\n",
      "1188:\tlearn: 0.1927857\ttotal: 11.1s\tremaining: 103ms\n",
      "1189:\tlearn: 0.1927175\ttotal: 11.1s\tremaining: 93.6ms\n",
      "1190:\tlearn: 0.1927132\ttotal: 11.1s\tremaining: 84.2ms\n",
      "1191:\tlearn: 0.1927091\ttotal: 11.2s\tremaining: 74.9ms\n",
      "1192:\tlearn: 0.1926640\ttotal: 11.2s\tremaining: 65.5ms\n",
      "1193:\tlearn: 0.1926393\ttotal: 11.2s\tremaining: 56.1ms\n",
      "1194:\tlearn: 0.1926377\ttotal: 11.2s\tremaining: 46.8ms\n",
      "1195:\tlearn: 0.1926272\ttotal: 11.2s\tremaining: 37.4ms\n",
      "1196:\tlearn: 0.1926255\ttotal: 11.2s\tremaining: 28ms\n",
      "1197:\tlearn: 0.1925957\ttotal: 11.2s\tremaining: 18.7ms\n",
      "1198:\tlearn: 0.1925904\ttotal: 11.2s\tremaining: 9.34ms\n",
      "1199:\tlearn: 0.1925731\ttotal: 11.2s\tremaining: 0us\n"
     ]
    },
    {
     "data": {
      "text/plain": [
       "<catboost.core.CatBoostClassifier at 0xd8ffb7a828>"
      ]
     },
     "execution_count": 53,
     "metadata": {},
     "output_type": "execute_result"
    }
   ],
   "source": [
    "val_model.fit(X_3, y_3)"
   ]
  },
  {
   "cell_type": "code",
   "execution_count": 54,
   "metadata": {},
   "outputs": [],
   "source": [
    "val_pred = val_model.predict_proba(X_4)[:, 1]"
   ]
  },
  {
   "cell_type": "code",
   "execution_count": 55,
   "metadata": {},
   "outputs": [
    {
     "data": {
      "text/plain": [
       "0.25665963751575727"
      ]
     },
     "execution_count": 55,
     "metadata": {},
     "output_type": "execute_result"
    }
   ],
   "source": [
    "log_loss(y_4, val_pred)"
   ]
  },
  {
   "cell_type": "markdown",
   "metadata": {},
   "source": [
    "Local CV log_loss score of about 0.255 seems okay, but caution is that it's just a very sample from our dataset."
   ]
  },
  {
   "cell_type": "markdown",
   "metadata": {},
   "source": [
    "##### Model Training"
   ]
  },
  {
   "cell_type": "markdown",
   "metadata": {},
   "source": [
    "Models I used in making my preddictions are catboost and xgboost"
   ]
  },
  {
   "cell_type": "markdown",
   "metadata": {},
   "source": [
    "Catboost single model"
   ]
  },
  {
   "cell_type": "markdown",
   "metadata": {},
   "source": [
    "25-KFold Catboost model"
   ]
  },
  {
   "cell_type": "code",
   "execution_count": 65,
   "metadata": {},
   "outputs": [
    {
     "data": {
      "text/plain": [
       "((400000, 183), (100000, 183), (400000,))"
      ]
     },
     "execution_count": 65,
     "metadata": {},
     "output_type": "execute_result"
    }
   ],
   "source": [
    "train.shape, test.shape, y.shape"
   ]
  },
  {
   "cell_type": "code",
   "execution_count": 122,
   "metadata": {
    "scrolled": true
   },
   "outputs": [
    {
     "name": "stdout",
     "output_type": "stream",
     "text": [
      "1 iter\n",
      "Learning rate set to 0.137797\n",
      "0:\tlearn: 0.5180190\ttest: 0.5180190\ttest1: 0.5171118\tbest: 0.5171118 (0)\ttotal: 972ms\tremaining: 16m 11s\n",
      "100:\tlearn: 0.2511525\ttest: 0.2511525\ttest1: 0.2479223\tbest: 0.2479223 (100)\ttotal: 29.5s\tremaining: 4m 22s\n",
      "200:\tlearn: 0.2495545\ttest: 0.2495545\ttest1: 0.2476114\tbest: 0.2476013 (170)\ttotal: 45.1s\tremaining: 2m 59s\n",
      "300:\tlearn: 0.2483376\ttest: 0.2483376\ttest1: 0.2476021\tbest: 0.2475947 (238)\ttotal: 1m 1s\tremaining: 2m 22s\n",
      "400:\tlearn: 0.2472542\ttest: 0.2472542\ttest1: 0.2474925\tbest: 0.2474742 (393)\ttotal: 1m 18s\tremaining: 1m 57s\n",
      "500:\tlearn: 0.2464047\ttest: 0.2464047\ttest1: 0.2474760\tbest: 0.2473522 (447)\ttotal: 1m 35s\tremaining: 1m 35s\n",
      "Stopped by overfitting detector  (100 iterations wait)\n",
      "\n",
      "bestTest = 0.2473522276\n",
      "bestIteration = 447\n",
      "\n",
      "Shrink model to first 448 iterations.\n"
     ]
    },
    {
     "data": {
      "text/plain": [
       "<catboost.core.CatBoostClassifier at 0xd8c6af35f8>"
      ]
     },
     "execution_count": 122,
     "metadata": {},
     "output_type": "execute_result"
    },
    {
     "name": "stdout",
     "output_type": "stream",
     "text": [
      "err:  0.24735222759162553\n",
      "2 iter\n",
      "Learning rate set to 0.137797\n",
      "0:\tlearn: 0.5181383\ttest: 0.5181383\ttest1: 0.5170976\tbest: 0.5170976 (0)\ttotal: 160ms\tremaining: 2m 39s\n",
      "100:\tlearn: 0.2510553\ttest: 0.2510553\ttest1: 0.2493621\tbest: 0.2493255 (90)\ttotal: 21.2s\tremaining: 3m 8s\n",
      "200:\tlearn: 0.2494582\ttest: 0.2494582\ttest1: 0.2494614\tbest: 0.2492516 (119)\ttotal: 39.1s\tremaining: 2m 35s\n",
      "Stopped by overfitting detector  (100 iterations wait)\n",
      "\n",
      "bestTest = 0.2492515846\n",
      "bestIteration = 119\n",
      "\n",
      "Shrink model to first 120 iterations.\n"
     ]
    },
    {
     "data": {
      "text/plain": [
       "<catboost.core.CatBoostClassifier at 0xd8818dcf60>"
      ]
     },
     "execution_count": 122,
     "metadata": {},
     "output_type": "execute_result"
    },
    {
     "name": "stdout",
     "output_type": "stream",
     "text": [
      "err:  0.24925158460397512\n",
      "3 iter\n",
      "Learning rate set to 0.137797\n",
      "0:\tlearn: 0.5101822\ttest: 0.5101822\ttest1: 0.5092143\tbest: 0.5092143 (0)\ttotal: 217ms\tremaining: 3m 36s\n",
      "100:\tlearn: 0.2512101\ttest: 0.2512101\ttest1: 0.2473672\tbest: 0.2473672 (100)\ttotal: 19.4s\tremaining: 2m 52s\n",
      "200:\tlearn: 0.2496136\ttest: 0.2496136\ttest1: 0.2471112\tbest: 0.2470799 (186)\ttotal: 37.1s\tremaining: 2m 27s\n",
      "300:\tlearn: 0.2484086\ttest: 0.2484086\ttest1: 0.2469224\tbest: 0.2468715 (286)\ttotal: 56.1s\tremaining: 2m 10s\n",
      "400:\tlearn: 0.2473265\ttest: 0.2473265\ttest1: 0.2469462\tbest: 0.2468546 (372)\ttotal: 1m 14s\tremaining: 1m 52s\n",
      "500:\tlearn: 0.2463771\ttest: 0.2463771\ttest1: 0.2467464\tbest: 0.2467389 (483)\ttotal: 1m 35s\tremaining: 1m 34s\n",
      "600:\tlearn: 0.2456552\ttest: 0.2456552\ttest1: 0.2469181\tbest: 0.2467041 (505)\ttotal: 1m 51s\tremaining: 1m 14s\n",
      "Stopped by overfitting detector  (100 iterations wait)\n",
      "\n",
      "bestTest = 0.2467041229\n",
      "bestIteration = 505\n",
      "\n",
      "Shrink model to first 506 iterations.\n"
     ]
    },
    {
     "data": {
      "text/plain": [
       "<catboost.core.CatBoostClassifier at 0xd8c5959d68>"
      ]
     },
     "execution_count": 122,
     "metadata": {},
     "output_type": "execute_result"
    },
    {
     "name": "stdout",
     "output_type": "stream",
     "text": [
      "err:  0.24670412291071125\n",
      "4 iter\n",
      "Learning rate set to 0.137797\n",
      "0:\tlearn: 0.4966150\ttest: 0.4966150\ttest1: 0.4962656\tbest: 0.4962656 (0)\ttotal: 169ms\tremaining: 2m 49s\n",
      "100:\tlearn: 0.2507776\ttest: 0.2507776\ttest1: 0.2549194\tbest: 0.2549194 (100)\ttotal: 20.6s\tremaining: 3m 3s\n",
      "200:\tlearn: 0.2491989\ttest: 0.2491989\ttest1: 0.2544280\tbest: 0.2544179 (196)\ttotal: 39.1s\tremaining: 2m 35s\n",
      "300:\tlearn: 0.2479809\ttest: 0.2479809\ttest1: 0.2542749\tbest: 0.2542550 (293)\ttotal: 58.8s\tremaining: 2m 16s\n",
      "400:\tlearn: 0.2469699\ttest: 0.2469699\ttest1: 0.2540791\tbest: 0.2540141 (383)\ttotal: 1m 17s\tremaining: 1m 56s\n",
      "500:\tlearn: 0.2461114\ttest: 0.2461114\ttest1: 0.2539319\tbest: 0.2539319 (500)\ttotal: 1m 36s\tremaining: 1m 36s\n",
      "600:\tlearn: 0.2453765\ttest: 0.2453765\ttest1: 0.2538795\tbest: 0.2538507 (582)\ttotal: 1m 56s\tremaining: 1m 17s\n",
      "700:\tlearn: 0.2445881\ttest: 0.2445881\ttest1: 0.2539467\tbest: 0.2538207 (663)\ttotal: 2m 14s\tremaining: 57.4s\n",
      "Stopped by overfitting detector  (100 iterations wait)\n",
      "\n",
      "bestTest = 0.2538207419\n",
      "bestIteration = 663\n",
      "\n",
      "Shrink model to first 664 iterations.\n"
     ]
    },
    {
     "data": {
      "text/plain": [
       "<catboost.core.CatBoostClassifier at 0xd8c4fc2320>"
      ]
     },
     "execution_count": 122,
     "metadata": {},
     "output_type": "execute_result"
    },
    {
     "name": "stdout",
     "output_type": "stream",
     "text": [
      "err:  0.2538207418822087\n",
      "5 iter\n",
      "Learning rate set to 0.137797\n",
      "0:\tlearn: 0.4968693\ttest: 0.4968693\ttest1: 0.4971407\tbest: 0.4971407 (0)\ttotal: 229ms\tremaining: 3m 48s\n",
      "100:\tlearn: 0.2506436\ttest: 0.2506436\ttest1: 0.2567391\tbest: 0.2567391 (100)\ttotal: 21.8s\tremaining: 3m 13s\n",
      "200:\tlearn: 0.2491712\ttest: 0.2491712\ttest1: 0.2563837\tbest: 0.2563817 (195)\ttotal: 40.4s\tremaining: 2m 40s\n",
      "300:\tlearn: 0.2478290\ttest: 0.2478290\ttest1: 0.2561961\tbest: 0.2561587 (263)\ttotal: 1m\tremaining: 2m 20s\n",
      "Stopped by overfitting detector  (100 iterations wait)\n",
      "\n",
      "bestTest = 0.2561587306\n",
      "bestIteration = 263\n",
      "\n",
      "Shrink model to first 264 iterations.\n"
     ]
    },
    {
     "data": {
      "text/plain": [
       "<catboost.core.CatBoostClassifier at 0xd8c6e15358>"
      ]
     },
     "execution_count": 122,
     "metadata": {},
     "output_type": "execute_result"
    },
    {
     "name": "stdout",
     "output_type": "stream",
     "text": [
      "err:  0.2561587306044904\n",
      "6 iter\n",
      "Learning rate set to 0.137797\n",
      "0:\tlearn: 0.4969905\ttest: 0.4969905\ttest1: 0.4959024\tbest: 0.4959024 (0)\ttotal: 191ms\tremaining: 3m 10s\n",
      "100:\tlearn: 0.2510388\ttest: 0.2510388\ttest1: 0.2463809\tbest: 0.2463614 (96)\ttotal: 20.2s\tremaining: 2m 59s\n",
      "Stopped by overfitting detector  (100 iterations wait)\n",
      "\n",
      "bestTest = 0.2463613784\n",
      "bestIteration = 96\n",
      "\n",
      "Shrink model to first 97 iterations.\n"
     ]
    },
    {
     "data": {
      "text/plain": [
       "<catboost.core.CatBoostClassifier at 0xd8c5a4a908>"
      ]
     },
     "execution_count": 122,
     "metadata": {},
     "output_type": "execute_result"
    },
    {
     "name": "stdout",
     "output_type": "stream",
     "text": [
      "err:  0.24636137840977085\n",
      "7 iter\n",
      "Learning rate set to 0.137797\n",
      "0:\tlearn: 0.4966977\ttest: 0.4966977\ttest1: 0.4975966\tbest: 0.4975966 (0)\ttotal: 157ms\tremaining: 2m 36s\n",
      "100:\tlearn: 0.2506958\ttest: 0.2506958\ttest1: 0.2557992\tbest: 0.2557992 (100)\ttotal: 19.5s\tremaining: 2m 53s\n",
      "200:\tlearn: 0.2492249\ttest: 0.2492249\ttest1: 0.2557880\tbest: 0.2557580 (178)\ttotal: 37s\tremaining: 2m 27s\n",
      "300:\tlearn: 0.2479391\ttest: 0.2479391\ttest1: 0.2558064\tbest: 0.2557408 (288)\ttotal: 56.7s\tremaining: 2m 11s\n",
      "Stopped by overfitting detector  (100 iterations wait)\n",
      "\n",
      "bestTest = 0.255740849\n",
      "bestIteration = 288\n",
      "\n",
      "Shrink model to first 289 iterations.\n"
     ]
    },
    {
     "data": {
      "text/plain": [
       "<catboost.core.CatBoostClassifier at 0xd881275358>"
      ]
     },
     "execution_count": 122,
     "metadata": {},
     "output_type": "execute_result"
    },
    {
     "name": "stdout",
     "output_type": "stream",
     "text": [
      "err:  0.2557408489578033\n",
      "8 iter\n",
      "Learning rate set to 0.137797\n",
      "0:\tlearn: 0.5162811\ttest: 0.5162811\ttest1: 0.5151866\tbest: 0.5151866 (0)\ttotal: 149ms\tremaining: 2m 28s\n",
      "100:\tlearn: 0.2510459\ttest: 0.2510459\ttest1: 0.2498573\tbest: 0.2498573 (100)\ttotal: 22.2s\tremaining: 3m 17s\n",
      "200:\tlearn: 0.2495139\ttest: 0.2495139\ttest1: 0.2499555\tbest: 0.2498382 (102)\ttotal: 39.5s\tremaining: 2m 37s\n",
      "Stopped by overfitting detector  (100 iterations wait)\n",
      "\n",
      "bestTest = 0.2498382374\n",
      "bestIteration = 102\n",
      "\n",
      "Shrink model to first 103 iterations.\n"
     ]
    },
    {
     "data": {
      "text/plain": [
       "<catboost.core.CatBoostClassifier at 0xd8c6b00c88>"
      ]
     },
     "execution_count": 122,
     "metadata": {},
     "output_type": "execute_result"
    },
    {
     "name": "stdout",
     "output_type": "stream",
     "text": [
      "err:  0.2498382374389918\n",
      "9 iter\n",
      "Learning rate set to 0.137797\n",
      "0:\tlearn: 0.4964562\ttest: 0.4964562\ttest1: 0.4977063\tbest: 0.4977063 (0)\ttotal: 152ms\tremaining: 2m 31s\n",
      "100:\tlearn: 0.2506707\ttest: 0.2506707\ttest1: 0.2556801\tbest: 0.2556450 (98)\ttotal: 19.2s\tremaining: 2m 51s\n",
      "200:\tlearn: 0.2492322\ttest: 0.2492322\ttest1: 0.2556404\tbest: 0.2555988 (134)\ttotal: 36.7s\tremaining: 2m 25s\n",
      "Stopped by overfitting detector  (100 iterations wait)\n",
      "\n",
      "bestTest = 0.2555987586\n",
      "bestIteration = 134\n",
      "\n",
      "Shrink model to first 135 iterations.\n"
     ]
    },
    {
     "data": {
      "text/plain": [
       "<catboost.core.CatBoostClassifier at 0xd8d2db6748>"
      ]
     },
     "execution_count": 122,
     "metadata": {},
     "output_type": "execute_result"
    },
    {
     "name": "stdout",
     "output_type": "stream",
     "text": [
      "err:  0.25559875859005693\n",
      "10 iter\n",
      "Learning rate set to 0.137797\n",
      "0:\tlearn: 0.4963382\ttest: 0.4963382\ttest1: 0.4953314\tbest: 0.4953314 (0)\ttotal: 175ms\tremaining: 2m 55s\n",
      "100:\tlearn: 0.2508479\ttest: 0.2508479\ttest1: 0.2510971\tbest: 0.2510775 (99)\ttotal: 22.5s\tremaining: 3m 20s\n",
      "Stopped by overfitting detector  (100 iterations wait)\n",
      "\n",
      "bestTest = 0.2510775065\n",
      "bestIteration = 99\n",
      "\n",
      "Shrink model to first 100 iterations.\n"
     ]
    },
    {
     "data": {
      "text/plain": [
       "<catboost.core.CatBoostClassifier at 0xd8c4a434a8>"
      ]
     },
     "execution_count": 122,
     "metadata": {},
     "output_type": "execute_result"
    },
    {
     "name": "stdout",
     "output_type": "stream",
     "text": [
      "err:  0.25107750650003596\n",
      "11 iter\n",
      "Learning rate set to 0.137797\n",
      "0:\tlearn: 0.4965858\ttest: 0.4965858\ttest1: 0.4961281\tbest: 0.4961281 (0)\ttotal: 208ms\tremaining: 3m 27s\n",
      "100:\tlearn: 0.2507911\ttest: 0.2507911\ttest1: 0.2563809\tbest: 0.2563767 (97)\ttotal: 21.8s\tremaining: 3m 13s\n",
      "200:\tlearn: 0.2492934\ttest: 0.2492934\ttest1: 0.2562839\tbest: 0.2562639 (197)\ttotal: 43s\tremaining: 2m 50s\n",
      "300:\tlearn: 0.2481131\ttest: 0.2481131\ttest1: 0.2561131\tbest: 0.2561131 (300)\ttotal: 1m 3s\tremaining: 2m 26s\n",
      "400:\tlearn: 0.2471597\ttest: 0.2471597\ttest1: 0.2560763\tbest: 0.2560422 (344)\ttotal: 1m 21s\tremaining: 2m 2s\n",
      "Stopped by overfitting detector  (100 iterations wait)\n",
      "\n",
      "bestTest = 0.2560421884\n",
      "bestIteration = 344\n",
      "\n",
      "Shrink model to first 345 iterations.\n"
     ]
    },
    {
     "data": {
      "text/plain": [
       "<catboost.core.CatBoostClassifier at 0xd8c6b00eb8>"
      ]
     },
     "execution_count": 122,
     "metadata": {},
     "output_type": "execute_result"
    },
    {
     "name": "stdout",
     "output_type": "stream",
     "text": [
      "err:  0.25604218841570925\n",
      "12 iter\n",
      "Learning rate set to 0.137797\n",
      "0:\tlearn: 0.5021166\ttest: 0.5021166\ttest1: 0.5024625\tbest: 0.5024625 (0)\ttotal: 190ms\tremaining: 3m 10s\n",
      "100:\tlearn: 0.2510028\ttest: 0.2510028\ttest1: 0.2504547\tbest: 0.2504547 (100)\ttotal: 19.9s\tremaining: 2m 57s\n",
      "200:\tlearn: 0.2493833\ttest: 0.2493833\ttest1: 0.2501213\tbest: 0.2501064 (186)\ttotal: 37.1s\tremaining: 2m 27s\n",
      "300:\tlearn: 0.2482790\ttest: 0.2482790\ttest1: 0.2502101\tbest: 0.2500775 (222)\ttotal: 54.1s\tremaining: 2m 5s\n",
      "Stopped by overfitting detector  (100 iterations wait)\n",
      "\n",
      "bestTest = 0.2500774615\n",
      "bestIteration = 222\n",
      "\n",
      "Shrink model to first 223 iterations.\n"
     ]
    },
    {
     "data": {
      "text/plain": [
       "<catboost.core.CatBoostClassifier at 0xd8d2db60b8>"
      ]
     },
     "execution_count": 122,
     "metadata": {},
     "output_type": "execute_result"
    },
    {
     "name": "stdout",
     "output_type": "stream",
     "text": [
      "err:  0.25007746153441435\n",
      "13 iter\n",
      "Learning rate set to 0.137797\n",
      "0:\tlearn: 0.5138999\ttest: 0.5138999\ttest1: 0.5133722\tbest: 0.5133722 (0)\ttotal: 193ms\tremaining: 3m 12s\n",
      "100:\tlearn: 0.2508845\ttest: 0.2508845\ttest1: 0.2515443\tbest: 0.2515293 (99)\ttotal: 20.9s\tremaining: 3m 5s\n",
      "200:\tlearn: 0.2493778\ttest: 0.2493778\ttest1: 0.2512061\tbest: 0.2512004 (181)\ttotal: 40.5s\tremaining: 2m 41s\n",
      "300:\tlearn: 0.2480883\ttest: 0.2480883\ttest1: 0.2511692\tbest: 0.2511078 (242)\ttotal: 57.8s\tremaining: 2m 14s\n",
      "Stopped by overfitting detector  (100 iterations wait)\n",
      "\n",
      "bestTest = 0.2511078265\n",
      "bestIteration = 242\n",
      "\n",
      "Shrink model to first 243 iterations.\n"
     ]
    },
    {
     "data": {
      "text/plain": [
       "<catboost.core.CatBoostClassifier at 0xd8c4a49828>"
      ]
     },
     "execution_count": 122,
     "metadata": {},
     "output_type": "execute_result"
    },
    {
     "name": "stdout",
     "output_type": "stream",
     "text": [
      "err:  0.251107826463883\n",
      "14 iter\n",
      "Learning rate set to 0.137797\n",
      "0:\tlearn: 0.5018392\ttest: 0.5018392\ttest1: 0.5031692\tbest: 0.5031692 (0)\ttotal: 185ms\tremaining: 3m 4s\n",
      "100:\tlearn: 0.2507813\ttest: 0.2507813\ttest1: 0.2548209\tbest: 0.2548001 (97)\ttotal: 18.8s\tremaining: 2m 47s\n",
      "200:\tlearn: 0.2493150\ttest: 0.2493150\ttest1: 0.2544074\tbest: 0.2543978 (199)\ttotal: 36s\tremaining: 2m 23s\n",
      "300:\tlearn: 0.2480937\ttest: 0.2480937\ttest1: 0.2544081\tbest: 0.2543178 (237)\ttotal: 53.1s\tremaining: 2m 3s\n",
      "Stopped by overfitting detector  (100 iterations wait)\n",
      "\n",
      "bestTest = 0.2543177876\n",
      "bestIteration = 237\n",
      "\n",
      "Shrink model to first 238 iterations.\n"
     ]
    },
    {
     "data": {
      "text/plain": [
       "<catboost.core.CatBoostClassifier at 0xd8c47c86d8>"
      ]
     },
     "execution_count": 122,
     "metadata": {},
     "output_type": "execute_result"
    },
    {
     "name": "stdout",
     "output_type": "stream",
     "text": [
      "err:  0.25431778762668017\n",
      "15 iter\n",
      "Learning rate set to 0.137797\n",
      "0:\tlearn: 0.5080976\ttest: 0.5080976\ttest1: 0.5095317\tbest: 0.5095317 (0)\ttotal: 199ms\tremaining: 3m 18s\n",
      "100:\tlearn: 0.2508097\ttest: 0.2508097\ttest1: 0.2536725\tbest: 0.2536725 (100)\ttotal: 21.6s\tremaining: 3m 12s\n",
      "200:\tlearn: 0.2493274\ttest: 0.2493274\ttest1: 0.2533841\tbest: 0.2533744 (199)\ttotal: 39.9s\tremaining: 2m 38s\n",
      "300:\tlearn: 0.2481285\ttest: 0.2481285\ttest1: 0.2531451\tbest: 0.2531416 (298)\ttotal: 57s\tremaining: 2m 12s\n",
      "400:\tlearn: 0.2471723\ttest: 0.2471723\ttest1: 0.2532789\tbest: 0.2531404 (323)\ttotal: 1m 13s\tremaining: 1m 50s\n",
      "Stopped by overfitting detector  (100 iterations wait)\n",
      "\n",
      "bestTest = 0.2531403933\n",
      "bestIteration = 323\n",
      "\n",
      "Shrink model to first 324 iterations.\n"
     ]
    },
    {
     "data": {
      "text/plain": [
       "<catboost.core.CatBoostClassifier at 0xd8d2db6860>"
      ]
     },
     "execution_count": 122,
     "metadata": {},
     "output_type": "execute_result"
    },
    {
     "name": "stdout",
     "output_type": "stream",
     "text": [
      "err:  0.25314039333181115\n",
      "16 iter\n",
      "Learning rate set to 0.137797\n",
      "0:\tlearn: 0.5080588\ttest: 0.5080588\ttest1: 0.5083257\tbest: 0.5083257 (0)\ttotal: 254ms\tremaining: 4m 14s\n",
      "100:\tlearn: 0.2508173\ttest: 0.2508173\ttest1: 0.2546246\tbest: 0.2546246 (100)\ttotal: 21.9s\tremaining: 3m 14s\n",
      "200:\tlearn: 0.2492367\ttest: 0.2492367\ttest1: 0.2544004\tbest: 0.2543927 (182)\ttotal: 41.9s\tremaining: 2m 46s\n",
      "300:\tlearn: 0.2480295\ttest: 0.2480295\ttest1: 0.2543090\tbest: 0.2542807 (221)\ttotal: 59.9s\tremaining: 2m 19s\n",
      "400:\tlearn: 0.2470184\ttest: 0.2470184\ttest1: 0.2543695\tbest: 0.2542466 (319)\ttotal: 1m 19s\tremaining: 1m 58s\n",
      "Stopped by overfitting detector  (100 iterations wait)\n",
      "\n",
      "bestTest = 0.2542466191\n",
      "bestIteration = 319\n",
      "\n",
      "Shrink model to first 320 iterations.\n"
     ]
    },
    {
     "data": {
      "text/plain": [
       "<catboost.core.CatBoostClassifier at 0xd8c6b12dd8>"
      ]
     },
     "execution_count": 122,
     "metadata": {},
     "output_type": "execute_result"
    },
    {
     "name": "stdout",
     "output_type": "stream",
     "text": [
      "err:  0.2542466190821714\n",
      "17 iter\n",
      "Learning rate set to 0.137797\n",
      "0:\tlearn: 0.5019851\ttest: 0.5019851\ttest1: 0.5021502\tbest: 0.5021502 (0)\ttotal: 192ms\tremaining: 3m 11s\n",
      "100:\tlearn: 0.2507443\ttest: 0.2507443\ttest1: 0.2532948\tbest: 0.2532696 (94)\ttotal: 22.8s\tremaining: 3m 23s\n",
      "200:\tlearn: 0.2492790\ttest: 0.2492790\ttest1: 0.2530808\tbest: 0.2530409 (194)\ttotal: 41.2s\tremaining: 2m 43s\n",
      "300:\tlearn: 0.2480770\ttest: 0.2480770\ttest1: 0.2531491\tbest: 0.2529848 (256)\ttotal: 1m\tremaining: 2m 19s\n",
      "Stopped by overfitting detector  (100 iterations wait)\n",
      "\n",
      "bestTest = 0.2529848266\n",
      "bestIteration = 256\n",
      "\n",
      "Shrink model to first 257 iterations.\n"
     ]
    },
    {
     "data": {
      "text/plain": [
       "<catboost.core.CatBoostClassifier at 0xd8c4a49d68>"
      ]
     },
     "execution_count": 122,
     "metadata": {},
     "output_type": "execute_result"
    },
    {
     "name": "stdout",
     "output_type": "stream",
     "text": [
      "err:  0.25298482664946453\n",
      "18 iter\n",
      "Learning rate set to 0.137797\n",
      "0:\tlearn: 0.5078532\ttest: 0.5078532\ttest1: 0.5098566\tbest: 0.5098566 (0)\ttotal: 188ms\tremaining: 3m 7s\n",
      "100:\tlearn: 0.2505776\ttest: 0.2505776\ttest1: 0.2607523\tbest: 0.2607523 (100)\ttotal: 21.6s\tremaining: 3m 12s\n",
      "200:\tlearn: 0.2490648\ttest: 0.2490648\ttest1: 0.2607139\tbest: 0.2606665 (195)\ttotal: 39.7s\tremaining: 2m 37s\n",
      "300:\tlearn: 0.2478140\ttest: 0.2478140\ttest1: 0.2606295\tbest: 0.2605961 (229)\ttotal: 56.8s\tremaining: 2m 11s\n",
      "Stopped by overfitting detector  (100 iterations wait)\n",
      "\n",
      "bestTest = 0.2605961273\n",
      "bestIteration = 229\n",
      "\n",
      "Shrink model to first 230 iterations.\n"
     ]
    },
    {
     "data": {
      "text/plain": [
       "<catboost.core.CatBoostClassifier at 0xd8d2db6240>"
      ]
     },
     "execution_count": 122,
     "metadata": {},
     "output_type": "execute_result"
    },
    {
     "name": "stdout",
     "output_type": "stream",
     "text": [
      "err:  0.26059612728158166\n",
      "19 iter\n",
      "Learning rate set to 0.137797\n",
      "0:\tlearn: 0.5144247\ttest: 0.5144247\ttest1: 0.5134181\tbest: 0.5134181 (0)\ttotal: 274ms\tremaining: 4m 33s\n",
      "100:\tlearn: 0.2510242\ttest: 0.2510242\ttest1: 0.2494925\tbest: 0.2494925 (100)\ttotal: 22.9s\tremaining: 3m 23s\n",
      "200:\tlearn: 0.2494864\ttest: 0.2494864\ttest1: 0.2491649\tbest: 0.2491632 (197)\ttotal: 42.9s\tremaining: 2m 50s\n",
      "300:\tlearn: 0.2482043\ttest: 0.2482043\ttest1: 0.2491623\tbest: 0.2490450 (264)\ttotal: 1m\tremaining: 2m 20s\n",
      "Stopped by overfitting detector  (100 iterations wait)\n",
      "\n",
      "bestTest = 0.2490450152\n",
      "bestIteration = 264\n",
      "\n",
      "Shrink model to first 265 iterations.\n"
     ]
    },
    {
     "data": {
      "text/plain": [
       "<catboost.core.CatBoostClassifier at 0xd8c6b12860>"
      ]
     },
     "execution_count": 122,
     "metadata": {},
     "output_type": "execute_result"
    },
    {
     "name": "stdout",
     "output_type": "stream",
     "text": [
      "err:  0.24904501524765704\n",
      "20 iter\n",
      "Learning rate set to 0.137797\n",
      "0:\tlearn: 0.5084263\ttest: 0.5084263\ttest1: 0.5094938\tbest: 0.5094938 (0)\ttotal: 189ms\tremaining: 3m 9s\n",
      "100:\tlearn: 0.2509313\ttest: 0.2509313\ttest1: 0.2549451\tbest: 0.2549189 (97)\ttotal: 20.9s\tremaining: 3m 5s\n",
      "200:\tlearn: 0.2493827\ttest: 0.2493827\ttest1: 0.2545657\tbest: 0.2545361 (197)\ttotal: 38.5s\tremaining: 2m 33s\n",
      "300:\tlearn: 0.2481109\ttest: 0.2481109\ttest1: 0.2544136\tbest: 0.2544136 (300)\ttotal: 57.6s\tremaining: 2m 13s\n",
      "400:\tlearn: 0.2470382\ttest: 0.2470382\ttest1: 0.2544366\tbest: 0.2543924 (318)\ttotal: 1m 15s\tremaining: 1m 53s\n",
      "Stopped by overfitting detector  (100 iterations wait)\n",
      "\n",
      "bestTest = 0.2543924285\n",
      "bestIteration = 318\n",
      "\n",
      "Shrink model to first 319 iterations.\n"
     ]
    },
    {
     "data": {
      "text/plain": [
       "<catboost.core.CatBoostClassifier at 0xd8818bfdd8>"
      ]
     },
     "execution_count": 122,
     "metadata": {},
     "output_type": "execute_result"
    },
    {
     "name": "stdout",
     "output_type": "stream",
     "text": [
      "err:  0.2543924285314061\n",
      "21 iter\n",
      "Learning rate set to 0.137797\n",
      "0:\tlearn: 0.5083069\ttest: 0.5083069\ttest1: 0.5072709\tbest: 0.5072709 (0)\ttotal: 196ms\tremaining: 3m 15s\n",
      "100:\tlearn: 0.2512759\ttest: 0.2512759\ttest1: 0.2458701\tbest: 0.2458580 (98)\ttotal: 23.2s\tremaining: 3m 26s\n",
      "200:\tlearn: 0.2496776\ttest: 0.2496776\ttest1: 0.2456871\tbest: 0.2456859 (199)\ttotal: 43.7s\tremaining: 2m 53s\n",
      "300:\tlearn: 0.2483822\ttest: 0.2483822\ttest1: 0.2455228\tbest: 0.2454322 (271)\ttotal: 1m 3s\tremaining: 2m 28s\n",
      "Stopped by overfitting detector  (100 iterations wait)\n",
      "\n",
      "bestTest = 0.2454322333\n",
      "bestIteration = 271\n",
      "\n",
      "Shrink model to first 272 iterations.\n"
     ]
    },
    {
     "data": {
      "text/plain": [
       "<catboost.core.CatBoostClassifier at 0xd88188d3c8>"
      ]
     },
     "execution_count": 122,
     "metadata": {},
     "output_type": "execute_result"
    },
    {
     "name": "stdout",
     "output_type": "stream",
     "text": [
      "err:  0.24543223333510997\n",
      "22 iter\n",
      "Learning rate set to 0.137797\n",
      "0:\tlearn: 0.5080887\ttest: 0.5080887\ttest1: 0.5075752\tbest: 0.5075752 (0)\ttotal: 176ms\tremaining: 2m 55s\n",
      "100:\tlearn: 0.2512176\ttest: 0.2512176\ttest1: 0.2475833\tbest: 0.2475591 (93)\ttotal: 20.2s\tremaining: 2m 59s\n",
      "200:\tlearn: 0.2496552\ttest: 0.2496552\ttest1: 0.2472652\tbest: 0.2472652 (200)\ttotal: 40.2s\tremaining: 2m 39s\n",
      "300:\tlearn: 0.2483931\ttest: 0.2483931\ttest1: 0.2472224\tbest: 0.2471953 (253)\ttotal: 57.8s\tremaining: 2m 14s\n",
      "Stopped by overfitting detector  (100 iterations wait)\n",
      "\n",
      "bestTest = 0.2471953249\n",
      "bestIteration = 253\n",
      "\n",
      "Shrink model to first 254 iterations.\n"
     ]
    },
    {
     "data": {
      "text/plain": [
       "<catboost.core.CatBoostClassifier at 0xd8818b0ef0>"
      ]
     },
     "execution_count": 122,
     "metadata": {},
     "output_type": "execute_result"
    },
    {
     "name": "stdout",
     "output_type": "stream",
     "text": [
      "err:  0.24719532488203133\n",
      "23 iter\n",
      "Learning rate set to 0.137797\n",
      "0:\tlearn: 0.5010046\ttest: 0.5010046\ttest1: 0.5009926\tbest: 0.5009926 (0)\ttotal: 198ms\tremaining: 3m 18s\n",
      "100:\tlearn: 0.2507213\ttest: 0.2507213\ttest1: 0.2576748\tbest: 0.2576678 (99)\ttotal: 20.6s\tremaining: 3m 3s\n",
      "200:\tlearn: 0.2491795\ttest: 0.2491795\ttest1: 0.2574805\tbest: 0.2574500 (198)\ttotal: 38.2s\tremaining: 2m 31s\n",
      "300:\tlearn: 0.2478087\ttest: 0.2478087\ttest1: 0.2574142\tbest: 0.2574002 (295)\ttotal: 55.9s\tremaining: 2m 9s\n",
      "400:\tlearn: 0.2467759\ttest: 0.2467759\ttest1: 0.2575273\tbest: 0.2573417 (378)\ttotal: 1m 15s\tremaining: 1m 52s\n",
      "Stopped by overfitting detector  (100 iterations wait)\n",
      "\n",
      "bestTest = 0.2573416861\n",
      "bestIteration = 378\n",
      "\n",
      "Shrink model to first 379 iterations.\n"
     ]
    },
    {
     "data": {
      "text/plain": [
       "<catboost.core.CatBoostClassifier at 0xd8818bfd68>"
      ]
     },
     "execution_count": 122,
     "metadata": {},
     "output_type": "execute_result"
    },
    {
     "name": "stdout",
     "output_type": "stream",
     "text": [
      "err:  0.2573416861237623\n",
      "24 iter\n",
      "Learning rate set to 0.137797\n",
      "0:\tlearn: 0.5014049\ttest: 0.5014049\ttest1: 0.5029767\tbest: 0.5029767 (0)\ttotal: 155ms\tremaining: 2m 35s\n",
      "100:\tlearn: 0.2507426\ttest: 0.2507426\ttest1: 0.2559893\tbest: 0.2559177 (84)\ttotal: 21.8s\tremaining: 3m 14s\n",
      "Stopped by overfitting detector  (100 iterations wait)\n",
      "\n",
      "bestTest = 0.2559177194\n",
      "bestIteration = 84\n",
      "\n",
      "Shrink model to first 85 iterations.\n"
     ]
    },
    {
     "data": {
      "text/plain": [
       "<catboost.core.CatBoostClassifier at 0xd8c6aff9e8>"
      ]
     },
     "execution_count": 122,
     "metadata": {},
     "output_type": "execute_result"
    },
    {
     "name": "stdout",
     "output_type": "stream",
     "text": [
      "err:  0.25591771943590363\n",
      "25 iter\n",
      "Learning rate set to 0.137797\n",
      "0:\tlearn: 0.5016106\ttest: 0.5016106\ttest1: 0.4995301\tbest: 0.4995301 (0)\ttotal: 552ms\tremaining: 9m 11s\n",
      "100:\tlearn: 0.2511735\ttest: 0.2511735\ttest1: 0.2486054\tbest: 0.2485597 (88)\ttotal: 22.8s\tremaining: 3m 23s\n",
      "200:\tlearn: 0.2495965\ttest: 0.2495965\ttest1: 0.2483816\tbest: 0.2483579 (187)\ttotal: 44.7s\tremaining: 2m 57s\n",
      "300:\tlearn: 0.2483713\ttest: 0.2483713\ttest1: 0.2482326\tbest: 0.2482326 (300)\ttotal: 1m 3s\tremaining: 2m 28s\n",
      "400:\tlearn: 0.2473701\ttest: 0.2473701\ttest1: 0.2482428\tbest: 0.2481730 (378)\ttotal: 1m 21s\tremaining: 2m 1s\n",
      "Stopped by overfitting detector  (100 iterations wait)\n",
      "\n",
      "bestTest = 0.2481730191\n",
      "bestIteration = 378\n",
      "\n",
      "Shrink model to first 379 iterations.\n"
     ]
    },
    {
     "data": {
      "text/plain": [
       "<catboost.core.CatBoostClassifier at 0xd8ac6cd588>"
      ]
     },
     "execution_count": 122,
     "metadata": {},
     "output_type": "execute_result"
    },
    {
     "name": "stdout",
     "output_type": "stream",
     "text": [
      "err:  0.24817301913357268\n"
     ]
    },
    {
     "data": {
      "text/plain": [
       "0.2520765917825931"
      ]
     },
     "execution_count": 122,
     "metadata": {},
     "output_type": "execute_result"
    }
   ],
   "source": [
    "errcb1=[]\n",
    "y_pred_totcb2=[]\n",
    "fold=KFold(n_splits=25)#25\n",
    "i=1\n",
    "for train_index, test_index in fold.split(train,y):\n",
    "    print(str(i) + ' iter')\n",
    "    X_train, X_test = train.iloc[train_index], train.iloc[test_index]\n",
    "    y_train, y_test = y.iloc[train_index], y.iloc[test_index]\n",
    "    m2  = CatBoostClassifier(n_estimators=1000,eval_metric='Logloss',random_seed= 10, use_best_model=True)\n",
    "    m2.fit(X_train,y_train,eval_set=[(X_train,y_train),(X_test, y_test)], early_stopping_rounds=100,verbose=100)\n",
    "    preds=m2.predict_proba(X_test)[:,1]\n",
    "    print(\"err: \",log_loss(y_test,preds))\n",
    "    errcb1.append((log_loss(y_test,preds)))\n",
    "    p2 = m2.predict_proba(test)[:,1]\n",
    "    y_pred_totcb2.append(p2)\n",
    "    i+=1\n",
    "np.mean(errcb1)"
   ]
  },
  {
   "cell_type": "code",
   "execution_count": 123,
   "metadata": {
    "scrolled": true
   },
   "outputs": [],
   "source": [
    "sample.CHURN = np.mean(y_pred_totcb2, axis=0) #blend = ((best.CHURN*0.6) + (sample.CHURN*0.4))*0.95 + (best.CHURN*0.05) best = 66, sample = current Fold"
   ]
  },
  {
   "cell_type": "code",
   "execution_count": 124,
   "metadata": {},
   "outputs": [],
   "source": [
    "sample.to_csv('KFold_Catlast.csv', index = False)"
   ]
  },
  {
   "cell_type": "code",
   "execution_count": 57,
   "metadata": {},
   "outputs": [],
   "source": [
    "train.rename(columns = lambda x:re.sub('[^A-Za-z0-9_]+', '', x), inplace=True)"
   ]
  },
  {
   "cell_type": "code",
   "execution_count": 58,
   "metadata": {},
   "outputs": [],
   "source": [
    "test.rename(columns = lambda x:re.sub('[^A-Za-z0-9_]+', '', x), inplace=True)"
   ]
  },
  {
   "cell_type": "code",
   "execution_count": null,
   "metadata": {},
   "outputs": [],
   "source": []
  },
  {
   "cell_type": "code",
   "execution_count": 71,
   "metadata": {
    "collapsed": true
   },
   "outputs": [
    {
     "name": "stdout",
     "output_type": "stream",
     "text": [
      "1 iter\n",
      "[100]\ttraining's binary_logloss: 0.258803\tvalid_1's binary_logloss: 0.255836\n",
      "[200]\ttraining's binary_logloss: 0.252639\tvalid_1's binary_logloss: 0.249709\n",
      "[300]\ttraining's binary_logloss: 0.251226\tvalid_1's binary_logloss: 0.24856\n",
      "[400]\ttraining's binary_logloss: 0.250233\tvalid_1's binary_logloss: 0.247804\n",
      "[500]\ttraining's binary_logloss: 0.249695\tvalid_1's binary_logloss: 0.247657\n"
     ]
    },
    {
     "data": {
      "text/plain": [
       "LGBMClassifier(boosting_type='dart', max_depth=5, min_child_weight=0.03,\n",
       "               n_estimators=500, num_leaves=25, random_seed=0, reg_alpha=0.01,\n",
       "               reg_lambda=0.005, subsample=0.7, use_best_model=True)"
      ]
     },
     "execution_count": 71,
     "metadata": {},
     "output_type": "execute_result"
    },
    {
     "name": "stdout",
     "output_type": "stream",
     "text": [
      "err:  0.24765734028285924\n",
      "2 iter\n",
      "[100]\ttraining's binary_logloss: 0.258717\tvalid_1's binary_logloss: 0.256709\n",
      "[200]\ttraining's binary_logloss: 0.252561\tvalid_1's binary_logloss: 0.250966\n",
      "[300]\ttraining's binary_logloss: 0.251132\tvalid_1's binary_logloss: 0.250113\n",
      "[400]\ttraining's binary_logloss: 0.250129\tvalid_1's binary_logloss: 0.249486\n",
      "[500]\ttraining's binary_logloss: 0.24961\tvalid_1's binary_logloss: 0.249337\n"
     ]
    },
    {
     "data": {
      "text/plain": [
       "LGBMClassifier(boosting_type='dart', max_depth=5, min_child_weight=0.03,\n",
       "               n_estimators=500, num_leaves=25, random_seed=0, reg_alpha=0.01,\n",
       "               reg_lambda=0.005, subsample=0.7, use_best_model=True)"
      ]
     },
     "execution_count": 71,
     "metadata": {},
     "output_type": "execute_result"
    },
    {
     "name": "stdout",
     "output_type": "stream",
     "text": [
      "err:  0.24933700259363709\n",
      "3 iter\n",
      "[100]\ttraining's binary_logloss: 0.258799\tvalid_1's binary_logloss: 0.254923\n",
      "[200]\ttraining's binary_logloss: 0.252653\tvalid_1's binary_logloss: 0.248868\n",
      "[300]\ttraining's binary_logloss: 0.251205\tvalid_1's binary_logloss: 0.248024\n",
      "[400]\ttraining's binary_logloss: 0.250231\tvalid_1's binary_logloss: 0.247468\n",
      "[500]\ttraining's binary_logloss: 0.249702\tvalid_1's binary_logloss: 0.247514\n"
     ]
    },
    {
     "data": {
      "text/plain": [
       "LGBMClassifier(boosting_type='dart', max_depth=5, min_child_weight=0.03,\n",
       "               n_estimators=500, num_leaves=25, random_seed=0, reg_alpha=0.01,\n",
       "               reg_lambda=0.005, subsample=0.7, use_best_model=True)"
      ]
     },
     "execution_count": 71,
     "metadata": {},
     "output_type": "execute_result"
    },
    {
     "name": "stdout",
     "output_type": "stream",
     "text": [
      "err:  0.24751393720792025\n",
      "4 iter\n",
      "[100]\ttraining's binary_logloss: 0.258491\tvalid_1's binary_logloss: 0.261789\n",
      "[200]\ttraining's binary_logloss: 0.252315\tvalid_1's binary_logloss: 0.256126\n",
      "[300]\ttraining's binary_logloss: 0.250902\tvalid_1's binary_logloss: 0.255163\n",
      "[400]\ttraining's binary_logloss: 0.249939\tvalid_1's binary_logloss: 0.254672\n",
      "[500]\ttraining's binary_logloss: 0.249399\tvalid_1's binary_logloss: 0.254432\n"
     ]
    },
    {
     "data": {
      "text/plain": [
       "LGBMClassifier(boosting_type='dart', max_depth=5, min_child_weight=0.03,\n",
       "               n_estimators=500, num_leaves=25, random_seed=0, reg_alpha=0.01,\n",
       "               reg_lambda=0.005, subsample=0.7, use_best_model=True)"
      ]
     },
     "execution_count": 71,
     "metadata": {},
     "output_type": "execute_result"
    },
    {
     "name": "stdout",
     "output_type": "stream",
     "text": [
      "err:  0.2544320700211767\n",
      "5 iter\n",
      "[100]\ttraining's binary_logloss: 0.258442\tvalid_1's binary_logloss: 0.262778\n",
      "[200]\ttraining's binary_logloss: 0.252259\tvalid_1's binary_logloss: 0.257389\n",
      "[300]\ttraining's binary_logloss: 0.250825\tvalid_1's binary_logloss: 0.256614\n",
      "[400]\ttraining's binary_logloss: 0.249854\tvalid_1's binary_logloss: 0.256195\n",
      "[500]\ttraining's binary_logloss: 0.24927\tvalid_1's binary_logloss: 0.256008\n"
     ]
    },
    {
     "data": {
      "text/plain": [
       "LGBMClassifier(boosting_type='dart', max_depth=5, min_child_weight=0.03,\n",
       "               n_estimators=500, num_leaves=25, random_seed=0, reg_alpha=0.01,\n",
       "               reg_lambda=0.005, subsample=0.7, use_best_model=True)"
      ]
     },
     "execution_count": 71,
     "metadata": {},
     "output_type": "execute_result"
    },
    {
     "name": "stdout",
     "output_type": "stream",
     "text": [
      "err:  0.2560080789881421\n",
      "6 iter\n",
      "[100]\ttraining's binary_logloss: 0.258877\tvalid_1's binary_logloss: 0.254053\n",
      "[200]\ttraining's binary_logloss: 0.252699\tvalid_1's binary_logloss: 0.248055\n",
      "[300]\ttraining's binary_logloss: 0.251237\tvalid_1's binary_logloss: 0.247133\n",
      "[400]\ttraining's binary_logloss: 0.25028\tvalid_1's binary_logloss: 0.246521\n",
      "[500]\ttraining's binary_logloss: 0.249718\tvalid_1's binary_logloss: 0.246445\n"
     ]
    },
    {
     "data": {
      "text/plain": [
       "LGBMClassifier(boosting_type='dart', max_depth=5, min_child_weight=0.03,\n",
       "               n_estimators=500, num_leaves=25, random_seed=0, reg_alpha=0.01,\n",
       "               reg_lambda=0.005, subsample=0.7, use_best_model=True)"
      ]
     },
     "execution_count": 71,
     "metadata": {},
     "output_type": "execute_result"
    },
    {
     "name": "stdout",
     "output_type": "stream",
     "text": [
      "err:  0.24644457036082826\n",
      "7 iter\n",
      "[100]\ttraining's binary_logloss: 0.258452\tvalid_1's binary_logloss: 0.262815\n",
      "[200]\ttraining's binary_logloss: 0.252278\tvalid_1's binary_logloss: 0.257246\n",
      "[300]\ttraining's binary_logloss: 0.250836\tvalid_1's binary_logloss: 0.256468\n",
      "[400]\ttraining's binary_logloss: 0.249857\tvalid_1's binary_logloss: 0.256182\n",
      "[500]\ttraining's binary_logloss: 0.249307\tvalid_1's binary_logloss: 0.256007\n"
     ]
    },
    {
     "data": {
      "text/plain": [
       "LGBMClassifier(boosting_type='dart', max_depth=5, min_child_weight=0.03,\n",
       "               n_estimators=500, num_leaves=25, random_seed=0, reg_alpha=0.01,\n",
       "               reg_lambda=0.005, subsample=0.7, use_best_model=True)"
      ]
     },
     "execution_count": 71,
     "metadata": {},
     "output_type": "execute_result"
    },
    {
     "name": "stdout",
     "output_type": "stream",
     "text": [
      "err:  0.2560071345043785\n",
      "8 iter\n",
      "[100]\ttraining's binary_logloss: 0.258717\tvalid_1's binary_logloss: 0.257183\n",
      "[200]\ttraining's binary_logloss: 0.252496\tvalid_1's binary_logloss: 0.251404\n",
      "[300]\ttraining's binary_logloss: 0.251087\tvalid_1's binary_logloss: 0.250604\n",
      "[400]\ttraining's binary_logloss: 0.250146\tvalid_1's binary_logloss: 0.250103\n",
      "[500]\ttraining's binary_logloss: 0.249622\tvalid_1's binary_logloss: 0.24994\n"
     ]
    },
    {
     "data": {
      "text/plain": [
       "LGBMClassifier(boosting_type='dart', max_depth=5, min_child_weight=0.03,\n",
       "               n_estimators=500, num_leaves=25, random_seed=0, reg_alpha=0.01,\n",
       "               reg_lambda=0.005, subsample=0.7, use_best_model=True)"
      ]
     },
     "execution_count": 71,
     "metadata": {},
     "output_type": "execute_result"
    },
    {
     "name": "stdout",
     "output_type": "stream",
     "text": [
      "err:  0.24993956925707225\n",
      "9 iter\n",
      "[100]\ttraining's binary_logloss: 0.258488\tvalid_1's binary_logloss: 0.262048\n",
      "[200]\ttraining's binary_logloss: 0.252288\tvalid_1's binary_logloss: 0.256675\n",
      "[300]\ttraining's binary_logloss: 0.250856\tvalid_1's binary_logloss: 0.256171\n",
      "[400]\ttraining's binary_logloss: 0.249879\tvalid_1's binary_logloss: 0.255853\n",
      "[500]\ttraining's binary_logloss: 0.249333\tvalid_1's binary_logloss: 0.255749\n"
     ]
    },
    {
     "data": {
      "text/plain": [
       "LGBMClassifier(boosting_type='dart', max_depth=5, min_child_weight=0.03,\n",
       "               n_estimators=500, num_leaves=25, random_seed=0, reg_alpha=0.01,\n",
       "               reg_lambda=0.005, subsample=0.7, use_best_model=True)"
      ]
     },
     "execution_count": 71,
     "metadata": {},
     "output_type": "execute_result"
    },
    {
     "name": "stdout",
     "output_type": "stream",
     "text": [
      "err:  0.25574942026553144\n",
      "10 iter\n",
      "[100]\ttraining's binary_logloss: 0.258675\tvalid_1's binary_logloss: 0.257217\n",
      "[200]\ttraining's binary_logloss: 0.252494\tvalid_1's binary_logloss: 0.251976\n",
      "[300]\ttraining's binary_logloss: 0.251073\tvalid_1's binary_logloss: 0.251192\n",
      "[400]\ttraining's binary_logloss: 0.250093\tvalid_1's binary_logloss: 0.250593\n",
      "[500]\ttraining's binary_logloss: 0.249591\tvalid_1's binary_logloss: 0.250577\n"
     ]
    },
    {
     "data": {
      "text/plain": [
       "LGBMClassifier(boosting_type='dart', max_depth=5, min_child_weight=0.03,\n",
       "               n_estimators=500, num_leaves=25, random_seed=0, reg_alpha=0.01,\n",
       "               reg_lambda=0.005, subsample=0.7, use_best_model=True)"
      ]
     },
     "execution_count": 71,
     "metadata": {},
     "output_type": "execute_result"
    },
    {
     "name": "stdout",
     "output_type": "stream",
     "text": [
      "err:  0.2505765829988098\n",
      "11 iter\n",
      "[100]\ttraining's binary_logloss: 0.258463\tvalid_1's binary_logloss: 0.262142\n",
      "[200]\ttraining's binary_logloss: 0.252273\tvalid_1's binary_logloss: 0.257105\n",
      "[300]\ttraining's binary_logloss: 0.250841\tvalid_1's binary_logloss: 0.256496\n",
      "[400]\ttraining's binary_logloss: 0.249854\tvalid_1's binary_logloss: 0.25618\n",
      "[500]\ttraining's binary_logloss: 0.24933\tvalid_1's binary_logloss: 0.256191\n"
     ]
    },
    {
     "data": {
      "text/plain": [
       "LGBMClassifier(boosting_type='dart', max_depth=5, min_child_weight=0.03,\n",
       "               n_estimators=500, num_leaves=25, random_seed=0, reg_alpha=0.01,\n",
       "               reg_lambda=0.005, subsample=0.7, use_best_model=True)"
      ]
     },
     "execution_count": 71,
     "metadata": {},
     "output_type": "execute_result"
    },
    {
     "name": "stdout",
     "output_type": "stream",
     "text": [
      "err:  0.2561913183993236\n",
      "12 iter\n",
      "[100]\ttraining's binary_logloss: 0.258671\tvalid_1's binary_logloss: 0.25838\n",
      "[200]\ttraining's binary_logloss: 0.252514\tvalid_1's binary_logloss: 0.252349\n",
      "[300]\ttraining's binary_logloss: 0.251094\tvalid_1's binary_logloss: 0.251031\n",
      "[400]\ttraining's binary_logloss: 0.250111\tvalid_1's binary_logloss: 0.250404\n",
      "[500]\ttraining's binary_logloss: 0.24957\tvalid_1's binary_logloss: 0.250189\n"
     ]
    },
    {
     "data": {
      "text/plain": [
       "LGBMClassifier(boosting_type='dart', max_depth=5, min_child_weight=0.03,\n",
       "               n_estimators=500, num_leaves=25, random_seed=0, reg_alpha=0.01,\n",
       "               reg_lambda=0.005, subsample=0.7, use_best_model=True)"
      ]
     },
     "execution_count": 71,
     "metadata": {},
     "output_type": "execute_result"
    },
    {
     "name": "stdout",
     "output_type": "stream",
     "text": [
      "err:  0.2501893581491269\n",
      "13 iter\n",
      "[100]\ttraining's binary_logloss: 0.258645\tvalid_1's binary_logloss: 0.258908\n",
      "[200]\ttraining's binary_logloss: 0.252464\tvalid_1's binary_logloss: 0.252967\n",
      "[300]\ttraining's binary_logloss: 0.251021\tvalid_1's binary_logloss: 0.252181\n",
      "[400]\ttraining's binary_logloss: 0.250035\tvalid_1's binary_logloss: 0.25161\n",
      "[500]\ttraining's binary_logloss: 0.249477\tvalid_1's binary_logloss: 0.251556\n"
     ]
    },
    {
     "data": {
      "text/plain": [
       "LGBMClassifier(boosting_type='dart', max_depth=5, min_child_weight=0.03,\n",
       "               n_estimators=500, num_leaves=25, random_seed=0, reg_alpha=0.01,\n",
       "               reg_lambda=0.005, subsample=0.7, use_best_model=True)"
      ]
     },
     "execution_count": 71,
     "metadata": {},
     "output_type": "execute_result"
    },
    {
     "name": "stdout",
     "output_type": "stream",
     "text": [
      "err:  0.25155582570075485\n",
      "14 iter\n",
      "[100]\ttraining's binary_logloss: 0.258513\tvalid_1's binary_logloss: 0.261226\n",
      "[200]\ttraining's binary_logloss: 0.252342\tvalid_1's binary_logloss: 0.255851\n",
      "[300]\ttraining's binary_logloss: 0.250949\tvalid_1's binary_logloss: 0.254989\n",
      "[400]\ttraining's binary_logloss: 0.24996\tvalid_1's binary_logloss: 0.254474\n",
      "[500]\ttraining's binary_logloss: 0.249389\tvalid_1's binary_logloss: 0.254296\n"
     ]
    },
    {
     "data": {
      "text/plain": [
       "LGBMClassifier(boosting_type='dart', max_depth=5, min_child_weight=0.03,\n",
       "               n_estimators=500, num_leaves=25, random_seed=0, reg_alpha=0.01,\n",
       "               reg_lambda=0.005, subsample=0.7, use_best_model=True)"
      ]
     },
     "execution_count": 71,
     "metadata": {},
     "output_type": "execute_result"
    },
    {
     "name": "stdout",
     "output_type": "stream",
     "text": [
      "err:  0.2542959103393713\n",
      "15 iter\n",
      "[100]\ttraining's binary_logloss: 0.258594\tvalid_1's binary_logloss: 0.260476\n",
      "[200]\ttraining's binary_logloss: 0.252406\tvalid_1's binary_logloss: 0.255039\n",
      "[300]\ttraining's binary_logloss: 0.250953\tvalid_1's binary_logloss: 0.254177\n",
      "[400]\ttraining's binary_logloss: 0.250004\tvalid_1's binary_logloss: 0.253582\n",
      "[500]\ttraining's binary_logloss: 0.249469\tvalid_1's binary_logloss: 0.253555\n"
     ]
    },
    {
     "data": {
      "text/plain": [
       "LGBMClassifier(boosting_type='dart', max_depth=5, min_child_weight=0.03,\n",
       "               n_estimators=500, num_leaves=25, random_seed=0, reg_alpha=0.01,\n",
       "               reg_lambda=0.005, subsample=0.7, use_best_model=True)"
      ]
     },
     "execution_count": 71,
     "metadata": {},
     "output_type": "execute_result"
    },
    {
     "name": "stdout",
     "output_type": "stream",
     "text": [
      "err:  0.2535547862867534\n",
      "16 iter\n",
      "[100]\ttraining's binary_logloss: 0.258522\tvalid_1's binary_logloss: 0.260696\n",
      "[200]\ttraining's binary_logloss: 0.252351\tvalid_1's binary_logloss: 0.255628\n",
      "[300]\ttraining's binary_logloss: 0.250918\tvalid_1's binary_logloss: 0.254812\n",
      "[400]\ttraining's binary_logloss: 0.249945\tvalid_1's binary_logloss: 0.254507\n",
      "[500]\ttraining's binary_logloss: 0.249399\tvalid_1's binary_logloss: 0.254363\n"
     ]
    },
    {
     "data": {
      "text/plain": [
       "LGBMClassifier(boosting_type='dart', max_depth=5, min_child_weight=0.03,\n",
       "               n_estimators=500, num_leaves=25, random_seed=0, reg_alpha=0.01,\n",
       "               reg_lambda=0.005, subsample=0.7, use_best_model=True)"
      ]
     },
     "execution_count": 71,
     "metadata": {},
     "output_type": "execute_result"
    },
    {
     "name": "stdout",
     "output_type": "stream",
     "text": [
      "err:  0.2543633054916829\n",
      "17 iter\n",
      "[100]\ttraining's binary_logloss: 0.258602\tvalid_1's binary_logloss: 0.259857\n",
      "[200]\ttraining's binary_logloss: 0.252423\tvalid_1's binary_logloss: 0.254078\n",
      "[300]\ttraining's binary_logloss: 0.250975\tvalid_1's binary_logloss: 0.253229\n",
      "[400]\ttraining's binary_logloss: 0.250034\tvalid_1's binary_logloss: 0.252796\n",
      "[500]\ttraining's binary_logloss: 0.249453\tvalid_1's binary_logloss: 0.252669\n"
     ]
    },
    {
     "data": {
      "text/plain": [
       "LGBMClassifier(boosting_type='dart', max_depth=5, min_child_weight=0.03,\n",
       "               n_estimators=500, num_leaves=25, random_seed=0, reg_alpha=0.01,\n",
       "               reg_lambda=0.005, subsample=0.7, use_best_model=True)"
      ]
     },
     "execution_count": 71,
     "metadata": {},
     "output_type": "execute_result"
    },
    {
     "name": "stdout",
     "output_type": "stream",
     "text": [
      "err:  0.2526690122171833\n",
      "18 iter\n",
      "[100]\ttraining's binary_logloss: 0.258243\tvalid_1's binary_logloss: 0.266912\n",
      "[200]\ttraining's binary_logloss: 0.252093\tvalid_1's binary_logloss: 0.261807\n",
      "[300]\ttraining's binary_logloss: 0.25065\tvalid_1's binary_logloss: 0.261202\n",
      "[400]\ttraining's binary_logloss: 0.249644\tvalid_1's binary_logloss: 0.261103\n",
      "[500]\ttraining's binary_logloss: 0.249104\tvalid_1's binary_logloss: 0.260998\n"
     ]
    },
    {
     "data": {
      "text/plain": [
       "LGBMClassifier(boosting_type='dart', max_depth=5, min_child_weight=0.03,\n",
       "               n_estimators=500, num_leaves=25, random_seed=0, reg_alpha=0.01,\n",
       "               reg_lambda=0.005, subsample=0.7, use_best_model=True)"
      ]
     },
     "execution_count": 71,
     "metadata": {},
     "output_type": "execute_result"
    },
    {
     "name": "stdout",
     "output_type": "stream",
     "text": [
      "err:  0.26099755485826204\n",
      "19 iter\n",
      "[100]\ttraining's binary_logloss: 0.258696\tvalid_1's binary_logloss: 0.257548\n",
      "[200]\ttraining's binary_logloss: 0.25252\tvalid_1's binary_logloss: 0.251264\n",
      "[300]\ttraining's binary_logloss: 0.251094\tvalid_1's binary_logloss: 0.250264\n",
      "[400]\ttraining's binary_logloss: 0.250145\tvalid_1's binary_logloss: 0.249714\n",
      "[500]\ttraining's binary_logloss: 0.249628\tvalid_1's binary_logloss: 0.249558\n"
     ]
    },
    {
     "data": {
      "text/plain": [
       "LGBMClassifier(boosting_type='dart', max_depth=5, min_child_weight=0.03,\n",
       "               n_estimators=500, num_leaves=25, random_seed=0, reg_alpha=0.01,\n",
       "               reg_lambda=0.005, subsample=0.7, use_best_model=True)"
      ]
     },
     "execution_count": 71,
     "metadata": {},
     "output_type": "execute_result"
    },
    {
     "name": "stdout",
     "output_type": "stream",
     "text": [
      "err:  0.24955783008121\n",
      "20 iter\n",
      "[100]\ttraining's binary_logloss: 0.258494\tvalid_1's binary_logloss: 0.261914\n",
      "[200]\ttraining's binary_logloss: 0.252328\tvalid_1's binary_logloss: 0.256406\n",
      "[300]\ttraining's binary_logloss: 0.250896\tvalid_1's binary_logloss: 0.255455\n",
      "[400]\ttraining's binary_logloss: 0.249891\tvalid_1's binary_logloss: 0.255099\n",
      "[500]\ttraining's binary_logloss: 0.249345\tvalid_1's binary_logloss: 0.255022\n"
     ]
    },
    {
     "data": {
      "text/plain": [
       "LGBMClassifier(boosting_type='dart', max_depth=5, min_child_weight=0.03,\n",
       "               n_estimators=500, num_leaves=25, random_seed=0, reg_alpha=0.01,\n",
       "               reg_lambda=0.005, subsample=0.7, use_best_model=True)"
      ]
     },
     "execution_count": 71,
     "metadata": {},
     "output_type": "execute_result"
    },
    {
     "name": "stdout",
     "output_type": "stream",
     "text": [
      "err:  0.25502183806757006\n",
      "21 iter\n",
      "[100]\ttraining's binary_logloss: 0.258917\tvalid_1's binary_logloss: 0.253528\n",
      "[200]\ttraining's binary_logloss: 0.252717\tvalid_1's binary_logloss: 0.247287\n",
      "[300]\ttraining's binary_logloss: 0.251295\tvalid_1's binary_logloss: 0.24642\n",
      "[400]\ttraining's binary_logloss: 0.250313\tvalid_1's binary_logloss: 0.245708\n",
      "[500]\ttraining's binary_logloss: 0.249791\tvalid_1's binary_logloss: 0.245683\n"
     ]
    },
    {
     "data": {
      "text/plain": [
       "LGBMClassifier(boosting_type='dart', max_depth=5, min_child_weight=0.03,\n",
       "               n_estimators=500, num_leaves=25, random_seed=0, reg_alpha=0.01,\n",
       "               reg_lambda=0.005, subsample=0.7, use_best_model=True)"
      ]
     },
     "execution_count": 71,
     "metadata": {},
     "output_type": "execute_result"
    },
    {
     "name": "stdout",
     "output_type": "stream",
     "text": [
      "err:  0.2456834909892593\n",
      "22 iter\n",
      "[100]\ttraining's binary_logloss: 0.258795\tvalid_1's binary_logloss: 0.255265\n",
      "[200]\ttraining's binary_logloss: 0.252616\tvalid_1's binary_logloss: 0.249482\n",
      "[300]\ttraining's binary_logloss: 0.251205\tvalid_1's binary_logloss: 0.24855\n",
      "[400]\ttraining's binary_logloss: 0.250233\tvalid_1's binary_logloss: 0.247763\n",
      "[500]\ttraining's binary_logloss: 0.249663\tvalid_1's binary_logloss: 0.247627\n"
     ]
    },
    {
     "data": {
      "text/plain": [
       "LGBMClassifier(boosting_type='dart', max_depth=5, min_child_weight=0.03,\n",
       "               n_estimators=500, num_leaves=25, random_seed=0, reg_alpha=0.01,\n",
       "               reg_lambda=0.005, subsample=0.7, use_best_model=True)"
      ]
     },
     "execution_count": 71,
     "metadata": {},
     "output_type": "execute_result"
    },
    {
     "name": "stdout",
     "output_type": "stream",
     "text": [
      "err:  0.24762738367909856\n",
      "23 iter\n",
      "[100]\ttraining's binary_logloss: 0.258387\tvalid_1's binary_logloss: 0.263591\n",
      "[200]\ttraining's binary_logloss: 0.252235\tvalid_1's binary_logloss: 0.258497\n",
      "[300]\ttraining's binary_logloss: 0.250834\tvalid_1's binary_logloss: 0.257689\n",
      "[400]\ttraining's binary_logloss: 0.249809\tvalid_1's binary_logloss: 0.257351\n",
      "[500]\ttraining's binary_logloss: 0.249266\tvalid_1's binary_logloss: 0.257217\n"
     ]
    },
    {
     "data": {
      "text/plain": [
       "LGBMClassifier(boosting_type='dart', max_depth=5, min_child_weight=0.03,\n",
       "               n_estimators=500, num_leaves=25, random_seed=0, reg_alpha=0.01,\n",
       "               reg_lambda=0.005, subsample=0.7, use_best_model=True)"
      ]
     },
     "execution_count": 71,
     "metadata": {},
     "output_type": "execute_result"
    },
    {
     "name": "stdout",
     "output_type": "stream",
     "text": [
      "err:  0.2572171868156254\n",
      "24 iter\n",
      "[100]\ttraining's binary_logloss: 0.25847\tvalid_1's binary_logloss: 0.262337\n",
      "[200]\ttraining's binary_logloss: 0.252279\tvalid_1's binary_logloss: 0.256954\n",
      "[300]\ttraining's binary_logloss: 0.250812\tvalid_1's binary_logloss: 0.256498\n",
      "[400]\ttraining's binary_logloss: 0.249808\tvalid_1's binary_logloss: 0.256176\n",
      "[500]\ttraining's binary_logloss: 0.249307\tvalid_1's binary_logloss: 0.256155\n"
     ]
    },
    {
     "data": {
      "text/plain": [
       "LGBMClassifier(boosting_type='dart', max_depth=5, min_child_weight=0.03,\n",
       "               n_estimators=500, num_leaves=25, random_seed=0, reg_alpha=0.01,\n",
       "               reg_lambda=0.005, subsample=0.7, use_best_model=True)"
      ]
     },
     "execution_count": 71,
     "metadata": {},
     "output_type": "execute_result"
    },
    {
     "name": "stdout",
     "output_type": "stream",
     "text": [
      "err:  0.2561550013405372\n",
      "25 iter\n",
      "[100]\ttraining's binary_logloss: 0.258738\tvalid_1's binary_logloss: 0.25555\n",
      "[200]\ttraining's binary_logloss: 0.252566\tvalid_1's binary_logloss: 0.25005\n",
      "[300]\ttraining's binary_logloss: 0.251142\tvalid_1's binary_logloss: 0.249123\n",
      "[400]\ttraining's binary_logloss: 0.250162\tvalid_1's binary_logloss: 0.248635\n",
      "[500]\ttraining's binary_logloss: 0.249611\tvalid_1's binary_logloss: 0.248385\n"
     ]
    },
    {
     "data": {
      "text/plain": [
       "LGBMClassifier(boosting_type='dart', max_depth=5, min_child_weight=0.03,\n",
       "               n_estimators=500, num_leaves=25, random_seed=0, reg_alpha=0.01,\n",
       "               reg_lambda=0.005, subsample=0.7, use_best_model=True)"
      ]
     },
     "execution_count": 71,
     "metadata": {},
     "output_type": "execute_result"
    },
    {
     "name": "stdout",
     "output_type": "stream",
     "text": [
      "err:  0.24838459346496114\n"
     ]
    },
    {
     "data": {
      "text/plain": [
       "0.25228520409444305"
      ]
     },
     "execution_count": 71,
     "metadata": {},
     "output_type": "execute_result"
    }
   ],
   "source": [
    "errcb2=[]\n",
    "y_pred_totcb2=[]\n",
    "fold=KFold(n_splits=25)#25\n",
    "i=1\n",
    "for train_index, test_index in fold.split(train,y):\n",
    "    print(str(i) + ' iter')\n",
    "    X_train, X_test = train.iloc[train_index], train.iloc[test_index]\n",
    "    y_train, y_test = y.iloc[train_index], y.iloc[test_index]\n",
    "    m2  = LGBMClassifier(n_estimators=500,random_seed= 0, use_best_model=True, num_leaves=25, max_depth=5,boosting_type='dart',subsample=0.7,min_child_weight=0.03,reg_alpha=0.01, reg_lambda=0.005)\n",
    "    m2.fit(X_train,y_train,eval_set=[(X_train,y_train),(X_test, y_test)], early_stopping_rounds=120,verbose=100)\n",
    "    preds=m2.predict_proba(X_test)[:,1]\n",
    "    print(\"err: \",log_loss(y_test,preds))\n",
    "    errcb2.append((log_loss(y_test,preds)))\n",
    "    p2 = m2.predict_proba(test)[:,1]\n",
    "    y_pred_totcb2.append(p2)\n",
    "    i+=1\n",
    "np.mean(errcb2)"
   ]
  },
  {
   "cell_type": "code",
   "execution_count": 72,
   "metadata": {
    "scrolled": true
   },
   "outputs": [],
   "source": [
    "sample.CHURN = np.mean(y_pred_totcb2, axis=0)"
   ]
  },
  {
   "cell_type": "code",
   "execution_count": 73,
   "metadata": {},
   "outputs": [],
   "source": [
    "sample.to_csv('KFold_lgbm.csv', index = False)"
   ]
  },
  {
   "cell_type": "markdown",
   "metadata": {},
   "source": [
    "25-KFold Xgbboost"
   ]
  },
  {
   "cell_type": "code",
   "execution_count": 114,
   "metadata": {
    "scrolled": true
   },
   "outputs": [
    {
     "name": "stdout",
     "output_type": "stream",
     "text": [
      "1 iter\n",
      "[0]\tvalidation_0-logloss:0.52169\tvalidation_1-logloss:0.52103\n",
      "Multiple eval metrics have been passed: 'validation_1-logloss' will be used for early stopping.\n",
      "\n",
      "Will train until validation_1-logloss hasn't improved in 100 rounds.\n",
      "[100]\tvalidation_0-logloss:0.24309\tvalidation_1-logloss:0.24974\n",
      "Stopping. Best iteration:\n",
      "[49]\tvalidation_0-logloss:0.24721\tvalidation_1-logloss:0.24881\n",
      "\n"
     ]
    },
    {
     "data": {
      "text/plain": [
       "XGBClassifier(base_score=0.5, booster=None, colsample_bylevel=1,\n",
       "              colsample_bynode=1, colsample_bytree=1, eval_metric='logloss',\n",
       "              gamma=0, gpu_id=-1, importance_type='gain',\n",
       "              interaction_constraints=None, learning_rate=0.300000012,\n",
       "              max_delta_step=0, max_depth=6, min_child_weight=1, missing=nan,\n",
       "              monotone_constraints=None, n_estimators=1000, n_jobs=0,\n",
       "              num_parallel_tree=1, random_seed=10, random_state=0, reg_alpha=0,\n",
       "              reg_lambda=1, scale_pos_weight=1, subsample=1, tree_method=None,\n",
       "              use_best_model=True, validate_parameters=False, verbosity=None)"
      ]
     },
     "execution_count": 114,
     "metadata": {},
     "output_type": "execute_result"
    },
    {
     "name": "stdout",
     "output_type": "stream",
     "text": [
      "err:  0.24880646469919956\n",
      "2 iter\n",
      "[0]\tvalidation_0-logloss:0.52149\tvalidation_1-logloss:0.52204\n",
      "Multiple eval metrics have been passed: 'validation_1-logloss' will be used for early stopping.\n",
      "\n",
      "Will train until validation_1-logloss hasn't improved in 100 rounds.\n",
      "[100]\tvalidation_0-logloss:0.24265\tvalidation_1-logloss:0.25451\n",
      "Stopping. Best iteration:\n",
      "[36]\tvalidation_0-logloss:0.24752\tvalidation_1-logloss:0.25391\n",
      "\n"
     ]
    },
    {
     "data": {
      "text/plain": [
       "XGBClassifier(base_score=0.5, booster=None, colsample_bylevel=1,\n",
       "              colsample_bynode=1, colsample_bytree=1, eval_metric='logloss',\n",
       "              gamma=0, gpu_id=-1, importance_type='gain',\n",
       "              interaction_constraints=None, learning_rate=0.300000012,\n",
       "              max_delta_step=0, max_depth=6, min_child_weight=1, missing=nan,\n",
       "              monotone_constraints=None, n_estimators=1000, n_jobs=0,\n",
       "              num_parallel_tree=1, random_seed=10, random_state=0, reg_alpha=0,\n",
       "              reg_lambda=1, scale_pos_weight=1, subsample=1, tree_method=None,\n",
       "              use_best_model=True, validate_parameters=False, verbosity=None)"
      ]
     },
     "execution_count": 114,
     "metadata": {},
     "output_type": "execute_result"
    },
    {
     "name": "stdout",
     "output_type": "stream",
     "text": [
      "err:  0.25390990081176806\n",
      "3 iter\n",
      "[0]\tvalidation_0-logloss:0.52139\tvalidation_1-logloss:0.52190\n",
      "Multiple eval metrics have been passed: 'validation_1-logloss' will be used for early stopping.\n",
      "\n",
      "Will train until validation_1-logloss hasn't improved in 100 rounds.\n",
      "[100]\tvalidation_0-logloss:0.24321\tvalidation_1-logloss:0.25398\n",
      "Stopping. Best iteration:\n",
      "[24]\tvalidation_0-logloss:0.24880\tvalidation_1-logloss:0.25327\n",
      "\n"
     ]
    },
    {
     "data": {
      "text/plain": [
       "XGBClassifier(base_score=0.5, booster=None, colsample_bylevel=1,\n",
       "              colsample_bynode=1, colsample_bytree=1, eval_metric='logloss',\n",
       "              gamma=0, gpu_id=-1, importance_type='gain',\n",
       "              interaction_constraints=None, learning_rate=0.300000012,\n",
       "              max_delta_step=0, max_depth=6, min_child_weight=1, missing=nan,\n",
       "              monotone_constraints=None, n_estimators=1000, n_jobs=0,\n",
       "              num_parallel_tree=1, random_seed=10, random_state=0, reg_alpha=0,\n",
       "              reg_lambda=1, scale_pos_weight=1, subsample=1, tree_method=None,\n",
       "              use_best_model=True, validate_parameters=False, verbosity=None)"
      ]
     },
     "execution_count": 114,
     "metadata": {},
     "output_type": "execute_result"
    },
    {
     "name": "stdout",
     "output_type": "stream",
     "text": [
      "err:  0.2532737474343885\n",
      "4 iter\n",
      "[0]\tvalidation_0-logloss:0.52161\tvalidation_1-logloss:0.52126\n",
      "Multiple eval metrics have been passed: 'validation_1-logloss' will be used for early stopping.\n",
      "\n",
      "Will train until validation_1-logloss hasn't improved in 100 rounds.\n",
      "[100]\tvalidation_0-logloss:0.24250\tvalidation_1-logloss:0.25203\n",
      "Stopping. Best iteration:\n",
      "[30]\tvalidation_0-logloss:0.24808\tvalidation_1-logloss:0.25124\n",
      "\n"
     ]
    },
    {
     "data": {
      "text/plain": [
       "XGBClassifier(base_score=0.5, booster=None, colsample_bylevel=1,\n",
       "              colsample_bynode=1, colsample_bytree=1, eval_metric='logloss',\n",
       "              gamma=0, gpu_id=-1, importance_type='gain',\n",
       "              interaction_constraints=None, learning_rate=0.300000012,\n",
       "              max_delta_step=0, max_depth=6, min_child_weight=1, missing=nan,\n",
       "              monotone_constraints=None, n_estimators=1000, n_jobs=0,\n",
       "              num_parallel_tree=1, random_seed=10, random_state=0, reg_alpha=0,\n",
       "              reg_lambda=1, scale_pos_weight=1, subsample=1, tree_method=None,\n",
       "              use_best_model=True, validate_parameters=False, verbosity=None)"
      ]
     },
     "execution_count": 114,
     "metadata": {},
     "output_type": "execute_result"
    },
    {
     "name": "stdout",
     "output_type": "stream",
     "text": [
      "err:  0.251238116216597\n",
      "5 iter\n",
      "[0]\tvalidation_0-logloss:0.52148\tvalidation_1-logloss:0.52198\n",
      "Multiple eval metrics have been passed: 'validation_1-logloss' will be used for early stopping.\n",
      "\n",
      "Will train until validation_1-logloss hasn't improved in 100 rounds.\n",
      "[100]\tvalidation_0-logloss:0.24279\tvalidation_1-logloss:0.25342\n",
      "Stopping. Best iteration:\n",
      "[21]\tvalidation_0-logloss:0.24921\tvalidation_1-logloss:0.25288\n",
      "\n"
     ]
    },
    {
     "data": {
      "text/plain": [
       "XGBClassifier(base_score=0.5, booster=None, colsample_bylevel=1,\n",
       "              colsample_bynode=1, colsample_bytree=1, eval_metric='logloss',\n",
       "              gamma=0, gpu_id=-1, importance_type='gain',\n",
       "              interaction_constraints=None, learning_rate=0.300000012,\n",
       "              max_delta_step=0, max_depth=6, min_child_weight=1, missing=nan,\n",
       "              monotone_constraints=None, n_estimators=1000, n_jobs=0,\n",
       "              num_parallel_tree=1, random_seed=10, random_state=0, reg_alpha=0,\n",
       "              reg_lambda=1, scale_pos_weight=1, subsample=1, tree_method=None,\n",
       "              use_best_model=True, validate_parameters=False, verbosity=None)"
      ]
     },
     "execution_count": 114,
     "metadata": {},
     "output_type": "execute_result"
    },
    {
     "name": "stdout",
     "output_type": "stream",
     "text": [
      "err:  0.252881343215704\n",
      "6 iter\n",
      "[0]\tvalidation_0-logloss:0.52148\tvalidation_1-logloss:0.52238\n",
      "Multiple eval metrics have been passed: 'validation_1-logloss' will be used for early stopping.\n",
      "\n",
      "Will train until validation_1-logloss hasn't improved in 100 rounds.\n",
      "[100]\tvalidation_0-logloss:0.24267\tvalidation_1-logloss:0.25418\n",
      "Stopping. Best iteration:\n",
      "[74]\tvalidation_0-logloss:0.24475\tvalidation_1-logloss:0.25382\n",
      "\n"
     ]
    },
    {
     "data": {
      "text/plain": [
       "XGBClassifier(base_score=0.5, booster=None, colsample_bylevel=1,\n",
       "              colsample_bynode=1, colsample_bytree=1, eval_metric='logloss',\n",
       "              gamma=0, gpu_id=-1, importance_type='gain',\n",
       "              interaction_constraints=None, learning_rate=0.300000012,\n",
       "              max_delta_step=0, max_depth=6, min_child_weight=1, missing=nan,\n",
       "              monotone_constraints=None, n_estimators=1000, n_jobs=0,\n",
       "              num_parallel_tree=1, random_seed=10, random_state=0, reg_alpha=0,\n",
       "              reg_lambda=1, scale_pos_weight=1, subsample=1, tree_method=None,\n",
       "              use_best_model=True, validate_parameters=False, verbosity=None)"
      ]
     },
     "execution_count": 114,
     "metadata": {},
     "output_type": "execute_result"
    },
    {
     "name": "stdout",
     "output_type": "stream",
     "text": [
      "err:  0.2538180839793863\n",
      "7 iter\n",
      "[0]\tvalidation_0-logloss:0.52150\tvalidation_1-logloss:0.52216\n",
      "Multiple eval metrics have been passed: 'validation_1-logloss' will be used for early stopping.\n",
      "\n",
      "Will train until validation_1-logloss hasn't improved in 100 rounds.\n",
      "[100]\tvalidation_0-logloss:0.24263\tvalidation_1-logloss:0.25547\n",
      "Stopping. Best iteration:\n",
      "[23]\tvalidation_0-logloss:0.24862\tvalidation_1-logloss:0.25457\n",
      "\n"
     ]
    },
    {
     "data": {
      "text/plain": [
       "XGBClassifier(base_score=0.5, booster=None, colsample_bylevel=1,\n",
       "              colsample_bynode=1, colsample_bytree=1, eval_metric='logloss',\n",
       "              gamma=0, gpu_id=-1, importance_type='gain',\n",
       "              interaction_constraints=None, learning_rate=0.300000012,\n",
       "              max_delta_step=0, max_depth=6, min_child_weight=1, missing=nan,\n",
       "              monotone_constraints=None, n_estimators=1000, n_jobs=0,\n",
       "              num_parallel_tree=1, random_seed=10, random_state=0, reg_alpha=0,\n",
       "              reg_lambda=1, scale_pos_weight=1, subsample=1, tree_method=None,\n",
       "              use_best_model=True, validate_parameters=False, verbosity=None)"
      ]
     },
     "execution_count": 114,
     "metadata": {},
     "output_type": "execute_result"
    },
    {
     "name": "stdout",
     "output_type": "stream",
     "text": [
      "err:  0.2545681237559154\n",
      "8 iter\n",
      "[0]\tvalidation_0-logloss:0.52133\tvalidation_1-logloss:0.52271\n",
      "Multiple eval metrics have been passed: 'validation_1-logloss' will be used for early stopping.\n",
      "\n",
      "Will train until validation_1-logloss hasn't improved in 100 rounds.\n",
      "[100]\tvalidation_0-logloss:0.24253\tvalidation_1-logloss:0.25656\n",
      "Stopping. Best iteration:\n",
      "[21]\tvalidation_0-logloss:0.24884\tvalidation_1-logloss:0.25584\n",
      "\n"
     ]
    },
    {
     "data": {
      "text/plain": [
       "XGBClassifier(base_score=0.5, booster=None, colsample_bylevel=1,\n",
       "              colsample_bynode=1, colsample_bytree=1, eval_metric='logloss',\n",
       "              gamma=0, gpu_id=-1, importance_type='gain',\n",
       "              interaction_constraints=None, learning_rate=0.300000012,\n",
       "              max_delta_step=0, max_depth=6, min_child_weight=1, missing=nan,\n",
       "              monotone_constraints=None, n_estimators=1000, n_jobs=0,\n",
       "              num_parallel_tree=1, random_seed=10, random_state=0, reg_alpha=0,\n",
       "              reg_lambda=1, scale_pos_weight=1, subsample=1, tree_method=None,\n",
       "              use_best_model=True, validate_parameters=False, verbosity=None)"
      ]
     },
     "execution_count": 114,
     "metadata": {},
     "output_type": "execute_result"
    },
    {
     "name": "stdout",
     "output_type": "stream",
     "text": [
      "err:  0.2558431022860881\n",
      "9 iter\n",
      "[0]\tvalidation_0-logloss:0.52157\tvalidation_1-logloss:0.52142\n",
      "Multiple eval metrics have been passed: 'validation_1-logloss' will be used for early stopping.\n",
      "\n",
      "Will train until validation_1-logloss hasn't improved in 100 rounds.\n",
      "[100]\tvalidation_0-logloss:0.24302\tvalidation_1-logloss:0.25068\n",
      "Stopping. Best iteration:\n",
      "[37]\tvalidation_0-logloss:0.24785\tvalidation_1-logloss:0.24997\n",
      "\n"
     ]
    },
    {
     "data": {
      "text/plain": [
       "XGBClassifier(base_score=0.5, booster=None, colsample_bylevel=1,\n",
       "              colsample_bynode=1, colsample_bytree=1, eval_metric='logloss',\n",
       "              gamma=0, gpu_id=-1, importance_type='gain',\n",
       "              interaction_constraints=None, learning_rate=0.300000012,\n",
       "              max_delta_step=0, max_depth=6, min_child_weight=1, missing=nan,\n",
       "              monotone_constraints=None, n_estimators=1000, n_jobs=0,\n",
       "              num_parallel_tree=1, random_seed=10, random_state=0, reg_alpha=0,\n",
       "              reg_lambda=1, scale_pos_weight=1, subsample=1, tree_method=None,\n",
       "              use_best_model=True, validate_parameters=False, verbosity=None)"
      ]
     },
     "execution_count": 114,
     "metadata": {},
     "output_type": "execute_result"
    },
    {
     "name": "stdout",
     "output_type": "stream",
     "text": [
      "err:  0.249972066661825\n",
      "10 iter\n",
      "[0]\tvalidation_0-logloss:0.52154\tvalidation_1-logloss:0.52160\n",
      "Multiple eval metrics have been passed: 'validation_1-logloss' will be used for early stopping.\n",
      "\n",
      "Will train until validation_1-logloss hasn't improved in 100 rounds.\n",
      "[100]\tvalidation_0-logloss:0.24281\tvalidation_1-logloss:0.25378\n",
      "Stopping. Best iteration:\n",
      "[32]\tvalidation_0-logloss:0.24796\tvalidation_1-logloss:0.25295\n",
      "\n"
     ]
    },
    {
     "data": {
      "text/plain": [
       "XGBClassifier(base_score=0.5, booster=None, colsample_bylevel=1,\n",
       "              colsample_bynode=1, colsample_bytree=1, eval_metric='logloss',\n",
       "              gamma=0, gpu_id=-1, importance_type='gain',\n",
       "              interaction_constraints=None, learning_rate=0.300000012,\n",
       "              max_delta_step=0, max_depth=6, min_child_weight=1, missing=nan,\n",
       "              monotone_constraints=None, n_estimators=1000, n_jobs=0,\n",
       "              num_parallel_tree=1, random_seed=10, random_state=0, reg_alpha=0,\n",
       "              reg_lambda=1, scale_pos_weight=1, subsample=1, tree_method=None,\n",
       "              use_best_model=True, validate_parameters=False, verbosity=None)"
      ]
     },
     "execution_count": 114,
     "metadata": {},
     "output_type": "execute_result"
    },
    {
     "name": "stdout",
     "output_type": "stream",
     "text": [
      "err:  0.2529507041832629\n"
     ]
    },
    {
     "data": {
      "text/plain": [
       "0.25272616532441355"
      ]
     },
     "execution_count": 114,
     "metadata": {},
     "output_type": "execute_result"
    }
   ],
   "source": [
    "errcb2=[]\n",
    "y_pred_totcb2=[]\n",
    "fold=KFold(n_splits=10)#25\n",
    "i=1\n",
    "for train_index, test_index in fold.split(train,y):\n",
    "    print(str(i) + ' iter')\n",
    "    X_train, X_test = train.iloc[train_index], train.iloc[test_index]\n",
    "    y_train, y_test = y.iloc[train_index], y.iloc[test_index]\n",
    "    m2  = XGBClassifier(n_estimators=1000,random_seed= 10, use_best_model=True, eval_metric = 'logloss')\n",
    "    m2.fit(X_train,y_train,eval_set=[(X_train,y_train),(X_test, y_test)], early_stopping_rounds=100,verbose=100)\n",
    "    preds=m2.predict_proba(X_test)[:,1]\n",
    "    print(\"err: \",log_loss(y_test,preds))\n",
    "    errcb2.append((log_loss(y_test,preds)))\n",
    "    p2 = m2.predict_proba(test)[:,1]\n",
    "    y_pred_totcb2.append(p2)\n",
    "    i+=1\n",
    "np.mean(errcb2)"
   ]
  },
  {
   "cell_type": "code",
   "execution_count": 115,
   "metadata": {
    "scrolled": true
   },
   "outputs": [],
   "source": [
    "sample.CHURN = np.mean(y_pred_totcb2, axis=0)"
   ]
  },
  {
   "cell_type": "code",
   "execution_count": 116,
   "metadata": {},
   "outputs": [],
   "source": [
    "sample.to_csv('KFold_xgb4.csv', index = False)"
   ]
  },
  {
   "cell_type": "markdown",
   "metadata": {},
   "source": [
    "##### Blending of  predictions"
   ]
  },
  {
   "cell_type": "code",
   "execution_count": 125,
   "metadata": {},
   "outputs": [],
   "source": [
    "sec = pd.read_csv('KFold_catlast.csv')\n",
    "best = pd.read_csv('KFold_xgb4.csv')\n",
    "third = pd.read_csv('KFold_lgbm.csv')"
   ]
  },
  {
   "cell_type": "code",
   "execution_count": 83,
   "metadata": {},
   "outputs": [],
   "source": [
    "blend = ((sec.CHURN*0.6) + (best.CHURN*0.4))*0.95 + (sec.CHURN*0.05)"
   ]
  },
  {
   "cell_type": "code",
   "execution_count": 84,
   "metadata": {},
   "outputs": [],
   "source": [
    "xgb_lgb = (sec.CHURN * 0.7) + (third.CHURN*0.3)"
   ]
  },
  {
   "cell_type": "code",
   "execution_count": 86,
   "metadata": {},
   "outputs": [],
   "source": [
    "blend = ((best.CHURN * 0.65) + (sec.CHURN * 0.19) + (third.CHURN * 0.16))*0.95 + (xgb_lgb*0.05)"
   ]
  },
  {
   "cell_type": "code",
   "execution_count": 126,
   "metadata": {},
   "outputs": [],
   "source": [
    "blend = ((sec.CHURN*0.4) + (best.CHURN*0.6))*0.95 + (sec.CHURN*0.05)"
   ]
  },
  {
   "cell_type": "code",
   "execution_count": 128,
   "metadata": {},
   "outputs": [],
   "source": [
    "new = sample.copy()"
   ]
  },
  {
   "cell_type": "code",
   "execution_count": 129,
   "metadata": {},
   "outputs": [],
   "source": [
    "new.CHURN = blend"
   ]
  },
  {
   "cell_type": "code",
   "execution_count": 130,
   "metadata": {},
   "outputs": [],
   "source": [
    "new.to_csv('finally3.csv', index = False)"
   ]
  },
  {
   "cell_type": "markdown",
   "metadata": {},
   "source": [
    "##### Note\n",
    "The weight given to each model's prediction is based on individual performance on the Zindi Leaderboard."
   ]
  },
  {
   "cell_type": "code",
   "execution_count": 98,
   "metadata": {},
   "outputs": [],
   "source": [
    "f = pd.read_csv('KFold_xgb3.csv')"
   ]
  },
  {
   "cell_type": "code",
   "execution_count": 93,
   "metadata": {},
   "outputs": [],
   "source": [
    "d= (sec.CHURN*0.5) + (sample.CHURN*0.5)"
   ]
  },
  {
   "cell_type": "code",
   "execution_count": 94,
   "metadata": {},
   "outputs": [],
   "source": [
    "sample.CHURN = blend"
   ]
  },
  {
   "cell_type": "code",
   "execution_count": 100,
   "metadata": {},
   "outputs": [],
   "source": [
    "sample.to_csv('e.csv', index=False)"
   ]
  },
  {
   "cell_type": "code",
   "execution_count": 99,
   "metadata": {},
   "outputs": [],
   "source": [
    "blend = ((sec.CHURN*0.4) + (f.CHURN*0.6))*0.95 + (sec.CHURN*0.05)"
   ]
  },
  {
   "cell_type": "code",
   "execution_count": 113,
   "metadata": {},
   "outputs": [
    {
     "data": {
      "text/html": [
       "<div>\n",
       "<style scoped>\n",
       "    .dataframe tbody tr th:only-of-type {\n",
       "        vertical-align: middle;\n",
       "    }\n",
       "\n",
       "    .dataframe tbody tr th {\n",
       "        vertical-align: top;\n",
       "    }\n",
       "\n",
       "    .dataframe thead th {\n",
       "        text-align: right;\n",
       "    }\n",
       "</style>\n",
       "<table border=\"1\" class=\"dataframe\">\n",
       "  <thead>\n",
       "    <tr style=\"text-align: right;\">\n",
       "      <th></th>\n",
       "      <th>user_id</th>\n",
       "      <th>CHURN</th>\n",
       "    </tr>\n",
       "  </thead>\n",
       "  <tbody>\n",
       "    <tr>\n",
       "      <th>0</th>\n",
       "      <td>af900d87e73b7ff6509d2203df4704a98aa5f2a6</td>\n",
       "      <td>0.781386</td>\n",
       "    </tr>\n",
       "    <tr>\n",
       "      <th>1</th>\n",
       "      <td>5335efd940280b82143272275637d1e65d37eadb</td>\n",
       "      <td>0.674064</td>\n",
       "    </tr>\n",
       "    <tr>\n",
       "      <th>2</th>\n",
       "      <td>a581f4fa08677c26f83f643248c667e241043086</td>\n",
       "      <td>0.123586</td>\n",
       "    </tr>\n",
       "  </tbody>\n",
       "</table>\n",
       "</div>"
      ],
      "text/plain": [
       "                                    user_id     CHURN\n",
       "0  af900d87e73b7ff6509d2203df4704a98aa5f2a6  0.781386\n",
       "1  5335efd940280b82143272275637d1e65d37eadb  0.674064\n",
       "2  a581f4fa08677c26f83f643248c667e241043086  0.123586"
      ]
     },
     "execution_count": 113,
     "metadata": {},
     "output_type": "execute_result"
    }
   ],
   "source": [
    "sample.head(3)"
   ]
  },
  {
   "cell_type": "markdown",
   "metadata": {},
   "source": []
  }
 ],
 "metadata": {
  "kernelspec": {
   "display_name": "Python 3",
   "language": "python",
   "name": "python3"
  },
  "language_info": {
   "codemirror_mode": {
    "name": "ipython",
    "version": 3
   },
   "file_extension": ".py",
   "mimetype": "text/x-python",
   "name": "python",
   "nbconvert_exporter": "python",
   "pygments_lexer": "ipython3",
   "version": "3.7.3"
  }
 },
 "nbformat": 4,
 "nbformat_minor": 4
}
